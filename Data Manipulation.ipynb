{
 "cells": [
  {
   "cell_type": "code",
   "execution_count": 1,
   "metadata": {},
   "outputs": [],
   "source": [
    "\n",
    "import os"
   ]
  },
  {
   "cell_type": "code",
   "execution_count": 4,
   "metadata": {},
   "outputs": [],
   "source": [
    "import numpy as np\n",
    "import pandas as pd\n",
    "import matplotlib.pyplot as plt\n",
    "import seaborn as sns"
   ]
  },
  {
   "cell_type": "code",
   "execution_count": 5,
   "metadata": {},
   "outputs": [
    {
     "data": {
      "text/plain": [
       "<function nt.getcwd()>"
      ]
     },
     "execution_count": 5,
     "metadata": {},
     "output_type": "execute_result"
    }
   ],
   "source": [
    "os.getcwd"
   ]
  },
  {
   "cell_type": "code",
   "execution_count": 8,
   "metadata": {},
   "outputs": [
    {
     "data": {
      "text/plain": [
       "'D:\\\\KKK\\\\DSP\\\\Python\\\\Sample data'"
      ]
     },
     "execution_count": 8,
     "metadata": {},
     "output_type": "execute_result"
    }
   ],
   "source": [
    "os.getcwd()"
   ]
  },
  {
   "cell_type": "code",
   "execution_count": 7,
   "metadata": {},
   "outputs": [],
   "source": [
    "os.chdir(\"D:\\\\KKK\\\\DSP\\\\Python\\\\Sample data\")"
   ]
  },
  {
   "cell_type": "code",
   "execution_count": 9,
   "metadata": {},
   "outputs": [],
   "source": [
    "labels=['a','b','c','d','e']\n",
    "mylist=[10,15,20,25,30]\n",
    "mynumpy=np.array([1,2,3,4,5])\n",
    "mydic={'a':100,'b':200,'c':300,'d':400,'e':500}"
   ]
  },
  {
   "cell_type": "code",
   "execution_count": 12,
   "metadata": {},
   "outputs": [
    {
     "data": {
      "text/plain": [
       "0    a\n",
       "1    b\n",
       "2    c\n",
       "3    d\n",
       "4    e\n",
       "dtype: object"
      ]
     },
     "execution_count": 12,
     "metadata": {},
     "output_type": "execute_result"
    }
   ],
   "source": [
    "pd.Series(data=labels)"
   ]
  },
  {
   "cell_type": "code",
   "execution_count": 13,
   "metadata": {},
   "outputs": [
    {
     "data": {
      "text/plain": [
       "a    10\n",
       "b    15\n",
       "c    20\n",
       "d    25\n",
       "e    30\n",
       "dtype: int64"
      ]
     },
     "execution_count": 13,
     "metadata": {},
     "output_type": "execute_result"
    }
   ],
   "source": [
    "pd.Series(data=mylist, index=labels)"
   ]
  },
  {
   "cell_type": "code",
   "execution_count": 14,
   "metadata": {},
   "outputs": [
    {
     "data": {
      "text/plain": [
       "10    a\n",
       "15    b\n",
       "20    c\n",
       "25    d\n",
       "30    e\n",
       "dtype: object"
      ]
     },
     "execution_count": 14,
     "metadata": {},
     "output_type": "execute_result"
    }
   ],
   "source": [
    "pd.Series(labels,mylist)"
   ]
  },
  {
   "cell_type": "code",
   "execution_count": 15,
   "metadata": {},
   "outputs": [
    {
     "data": {
      "text/plain": [
       "array([1, 2, 3, 4, 5])"
      ]
     },
     "execution_count": 15,
     "metadata": {},
     "output_type": "execute_result"
    }
   ],
   "source": [
    "mynumpy"
   ]
  },
  {
   "cell_type": "code",
   "execution_count": 16,
   "metadata": {},
   "outputs": [
    {
     "data": {
      "text/plain": [
       "0    1\n",
       "1    2\n",
       "2    3\n",
       "3    4\n",
       "4    5\n",
       "dtype: int32"
      ]
     },
     "execution_count": 16,
     "metadata": {},
     "output_type": "execute_result"
    }
   ],
   "source": [
    "pd.Series(mynumpy)"
   ]
  },
  {
   "cell_type": "code",
   "execution_count": 17,
   "metadata": {},
   "outputs": [
    {
     "data": {
      "text/plain": [
       "a    1\n",
       "b    2\n",
       "c    3\n",
       "d    4\n",
       "e    5\n",
       "dtype: int32"
      ]
     },
     "execution_count": 17,
     "metadata": {},
     "output_type": "execute_result"
    }
   ],
   "source": [
    "pd.Series(mynumpy,labels)"
   ]
  },
  {
   "cell_type": "code",
   "execution_count": 18,
   "metadata": {},
   "outputs": [
    {
     "data": {
      "text/plain": [
       "a    100\n",
       "b    200\n",
       "c    300\n",
       "d    400\n",
       "e    500\n",
       "dtype: int64"
      ]
     },
     "execution_count": 18,
     "metadata": {},
     "output_type": "execute_result"
    }
   ],
   "source": [
    "pd.Series(mydic)"
   ]
  },
  {
   "cell_type": "markdown",
   "metadata": {},
   "source": [
    "\n",
    "# Handling missing value\n",
    "\n"
   ]
  },
  {
   "cell_type": "code",
   "execution_count": 25,
   "metadata": {},
   "outputs": [],
   "source": [
    "df1=pd.DataFrame({'ABC':[10,20,30,np.nan,np.nan],\n",
    "                 'BCD':[50,60,np.nan,np.nan,100],\n",
    "                 'CDE':[20,25,30,60,70]})"
   ]
  },
  {
   "cell_type": "code",
   "execution_count": 21,
   "metadata": {},
   "outputs": [
    {
     "data": {
      "text/html": [
       "<div>\n",
       "<style scoped>\n",
       "    .dataframe tbody tr th:only-of-type {\n",
       "        vertical-align: middle;\n",
       "    }\n",
       "\n",
       "    .dataframe tbody tr th {\n",
       "        vertical-align: top;\n",
       "    }\n",
       "\n",
       "    .dataframe thead th {\n",
       "        text-align: right;\n",
       "    }\n",
       "</style>\n",
       "<table border=\"1\" class=\"dataframe\">\n",
       "  <thead>\n",
       "    <tr style=\"text-align: right;\">\n",
       "      <th></th>\n",
       "      <th>ABC</th>\n",
       "      <th>BCD</th>\n",
       "      <th>CDE</th>\n",
       "    </tr>\n",
       "  </thead>\n",
       "  <tbody>\n",
       "    <tr>\n",
       "      <th>0</th>\n",
       "      <td>10.0</td>\n",
       "      <td>50.0</td>\n",
       "      <td>20</td>\n",
       "    </tr>\n",
       "    <tr>\n",
       "      <th>1</th>\n",
       "      <td>20.0</td>\n",
       "      <td>60.0</td>\n",
       "      <td>25</td>\n",
       "    </tr>\n",
       "    <tr>\n",
       "      <th>2</th>\n",
       "      <td>30.0</td>\n",
       "      <td>NaN</td>\n",
       "      <td>30</td>\n",
       "    </tr>\n",
       "    <tr>\n",
       "      <th>3</th>\n",
       "      <td>NaN</td>\n",
       "      <td>NaN</td>\n",
       "      <td>60</td>\n",
       "    </tr>\n",
       "    <tr>\n",
       "      <th>4</th>\n",
       "      <td>NaN</td>\n",
       "      <td>100.0</td>\n",
       "      <td>70</td>\n",
       "    </tr>\n",
       "  </tbody>\n",
       "</table>\n",
       "</div>"
      ],
      "text/plain": [
       "    ABC    BCD  CDE\n",
       "0  10.0   50.0   20\n",
       "1  20.0   60.0   25\n",
       "2  30.0    NaN   30\n",
       "3   NaN    NaN   60\n",
       "4   NaN  100.0   70"
      ]
     },
     "execution_count": 21,
     "metadata": {},
     "output_type": "execute_result"
    }
   ],
   "source": [
    "df1"
   ]
  },
  {
   "cell_type": "code",
   "execution_count": 26,
   "metadata": {},
   "outputs": [
    {
     "data": {
      "text/html": [
       "<div>\n",
       "<style scoped>\n",
       "    .dataframe tbody tr th:only-of-type {\n",
       "        vertical-align: middle;\n",
       "    }\n",
       "\n",
       "    .dataframe tbody tr th {\n",
       "        vertical-align: top;\n",
       "    }\n",
       "\n",
       "    .dataframe thead th {\n",
       "        text-align: right;\n",
       "    }\n",
       "</style>\n",
       "<table border=\"1\" class=\"dataframe\">\n",
       "  <thead>\n",
       "    <tr style=\"text-align: right;\">\n",
       "      <th></th>\n",
       "      <th>ABC</th>\n",
       "      <th>BCD</th>\n",
       "      <th>CDE</th>\n",
       "    </tr>\n",
       "  </thead>\n",
       "  <tbody>\n",
       "    <tr>\n",
       "      <th>0</th>\n",
       "      <td>10.0</td>\n",
       "      <td>50.0</td>\n",
       "      <td>20</td>\n",
       "    </tr>\n",
       "    <tr>\n",
       "      <th>1</th>\n",
       "      <td>20.0</td>\n",
       "      <td>60.0</td>\n",
       "      <td>25</td>\n",
       "    </tr>\n",
       "  </tbody>\n",
       "</table>\n",
       "</div>"
      ],
      "text/plain": [
       "    ABC   BCD  CDE\n",
       "0  10.0  50.0   20\n",
       "1  20.0  60.0   25"
      ]
     },
     "execution_count": 26,
     "metadata": {},
     "output_type": "execute_result"
    }
   ],
   "source": [
    "df1.dropna()"
   ]
  },
  {
   "cell_type": "code",
   "execution_count": 27,
   "metadata": {},
   "outputs": [
    {
     "data": {
      "text/html": [
       "<div>\n",
       "<style scoped>\n",
       "    .dataframe tbody tr th:only-of-type {\n",
       "        vertical-align: middle;\n",
       "    }\n",
       "\n",
       "    .dataframe tbody tr th {\n",
       "        vertical-align: top;\n",
       "    }\n",
       "\n",
       "    .dataframe thead th {\n",
       "        text-align: right;\n",
       "    }\n",
       "</style>\n",
       "<table border=\"1\" class=\"dataframe\">\n",
       "  <thead>\n",
       "    <tr style=\"text-align: right;\">\n",
       "      <th></th>\n",
       "      <th>ABC</th>\n",
       "      <th>BCD</th>\n",
       "      <th>CDE</th>\n",
       "    </tr>\n",
       "  </thead>\n",
       "  <tbody>\n",
       "    <tr>\n",
       "      <th>0</th>\n",
       "      <td>10.0</td>\n",
       "      <td>50.0</td>\n",
       "      <td>20</td>\n",
       "    </tr>\n",
       "    <tr>\n",
       "      <th>1</th>\n",
       "      <td>20.0</td>\n",
       "      <td>60.0</td>\n",
       "      <td>25</td>\n",
       "    </tr>\n",
       "  </tbody>\n",
       "</table>\n",
       "</div>"
      ],
      "text/plain": [
       "    ABC   BCD  CDE\n",
       "0  10.0  50.0   20\n",
       "1  20.0  60.0   25"
      ]
     },
     "execution_count": 27,
     "metadata": {},
     "output_type": "execute_result"
    }
   ],
   "source": [
    "df1.dropna(axis=0)"
   ]
  },
  {
   "cell_type": "code",
   "execution_count": 28,
   "metadata": {},
   "outputs": [
    {
     "data": {
      "text/html": [
       "<div>\n",
       "<style scoped>\n",
       "    .dataframe tbody tr th:only-of-type {\n",
       "        vertical-align: middle;\n",
       "    }\n",
       "\n",
       "    .dataframe tbody tr th {\n",
       "        vertical-align: top;\n",
       "    }\n",
       "\n",
       "    .dataframe thead th {\n",
       "        text-align: right;\n",
       "    }\n",
       "</style>\n",
       "<table border=\"1\" class=\"dataframe\">\n",
       "  <thead>\n",
       "    <tr style=\"text-align: right;\">\n",
       "      <th></th>\n",
       "      <th>CDE</th>\n",
       "    </tr>\n",
       "  </thead>\n",
       "  <tbody>\n",
       "    <tr>\n",
       "      <th>0</th>\n",
       "      <td>20</td>\n",
       "    </tr>\n",
       "    <tr>\n",
       "      <th>1</th>\n",
       "      <td>25</td>\n",
       "    </tr>\n",
       "    <tr>\n",
       "      <th>2</th>\n",
       "      <td>30</td>\n",
       "    </tr>\n",
       "    <tr>\n",
       "      <th>3</th>\n",
       "      <td>60</td>\n",
       "    </tr>\n",
       "    <tr>\n",
       "      <th>4</th>\n",
       "      <td>70</td>\n",
       "    </tr>\n",
       "  </tbody>\n",
       "</table>\n",
       "</div>"
      ],
      "text/plain": [
       "   CDE\n",
       "0   20\n",
       "1   25\n",
       "2   30\n",
       "3   60\n",
       "4   70"
      ]
     },
     "execution_count": 28,
     "metadata": {},
     "output_type": "execute_result"
    }
   ],
   "source": [
    "df1.dropna(axis=1)"
   ]
  },
  {
   "cell_type": "code",
   "execution_count": 31,
   "metadata": {},
   "outputs": [
    {
     "data": {
      "text/html": [
       "<div>\n",
       "<style scoped>\n",
       "    .dataframe tbody tr th:only-of-type {\n",
       "        vertical-align: middle;\n",
       "    }\n",
       "\n",
       "    .dataframe tbody tr th {\n",
       "        vertical-align: top;\n",
       "    }\n",
       "\n",
       "    .dataframe thead th {\n",
       "        text-align: right;\n",
       "    }\n",
       "</style>\n",
       "<table border=\"1\" class=\"dataframe\">\n",
       "  <thead>\n",
       "    <tr style=\"text-align: right;\">\n",
       "      <th></th>\n",
       "      <th>ABC</th>\n",
       "      <th>BCD</th>\n",
       "      <th>CDE</th>\n",
       "    </tr>\n",
       "  </thead>\n",
       "  <tbody>\n",
       "    <tr>\n",
       "      <th>0</th>\n",
       "      <td>10.0</td>\n",
       "      <td>50.0</td>\n",
       "      <td>20</td>\n",
       "    </tr>\n",
       "    <tr>\n",
       "      <th>1</th>\n",
       "      <td>20.0</td>\n",
       "      <td>60.0</td>\n",
       "      <td>25</td>\n",
       "    </tr>\n",
       "  </tbody>\n",
       "</table>\n",
       "</div>"
      ],
      "text/plain": [
       "    ABC   BCD  CDE\n",
       "0  10.0  50.0   20\n",
       "1  20.0  60.0   25"
      ]
     },
     "execution_count": 31,
     "metadata": {},
     "output_type": "execute_result"
    }
   ],
   "source": [
    "df1.dropna(thresh=3) #thresh means non-missing value"
   ]
  },
  {
   "cell_type": "code",
   "execution_count": 32,
   "metadata": {},
   "outputs": [
    {
     "data": {
      "text/html": [
       "<div>\n",
       "<style scoped>\n",
       "    .dataframe tbody tr th:only-of-type {\n",
       "        vertical-align: middle;\n",
       "    }\n",
       "\n",
       "    .dataframe tbody tr th {\n",
       "        vertical-align: top;\n",
       "    }\n",
       "\n",
       "    .dataframe thead th {\n",
       "        text-align: right;\n",
       "    }\n",
       "</style>\n",
       "<table border=\"1\" class=\"dataframe\">\n",
       "  <thead>\n",
       "    <tr style=\"text-align: right;\">\n",
       "      <th></th>\n",
       "      <th>ABC</th>\n",
       "      <th>BCD</th>\n",
       "      <th>CDE</th>\n",
       "    </tr>\n",
       "  </thead>\n",
       "  <tbody>\n",
       "    <tr>\n",
       "      <th>0</th>\n",
       "      <td>10</td>\n",
       "      <td>50</td>\n",
       "      <td>20</td>\n",
       "    </tr>\n",
       "    <tr>\n",
       "      <th>1</th>\n",
       "      <td>20</td>\n",
       "      <td>60</td>\n",
       "      <td>25</td>\n",
       "    </tr>\n",
       "    <tr>\n",
       "      <th>2</th>\n",
       "      <td>30</td>\n",
       "      <td>missing value</td>\n",
       "      <td>30</td>\n",
       "    </tr>\n",
       "    <tr>\n",
       "      <th>3</th>\n",
       "      <td>missing value</td>\n",
       "      <td>missing value</td>\n",
       "      <td>60</td>\n",
       "    </tr>\n",
       "    <tr>\n",
       "      <th>4</th>\n",
       "      <td>missing value</td>\n",
       "      <td>100</td>\n",
       "      <td>70</td>\n",
       "    </tr>\n",
       "  </tbody>\n",
       "</table>\n",
       "</div>"
      ],
      "text/plain": [
       "             ABC            BCD  CDE\n",
       "0             10             50   20\n",
       "1             20             60   25\n",
       "2             30  missing value   30\n",
       "3  missing value  missing value   60\n",
       "4  missing value            100   70"
      ]
     },
     "execution_count": 32,
     "metadata": {},
     "output_type": "execute_result"
    }
   ],
   "source": [
    "df1.fillna(value='missing value')"
   ]
  },
  {
   "cell_type": "code",
   "execution_count": 33,
   "metadata": {},
   "outputs": [
    {
     "data": {
      "text/plain": [
       "0    10.0\n",
       "1    20.0\n",
       "2    30.0\n",
       "3    20.0\n",
       "4    20.0\n",
       "Name: ABC, dtype: float64"
      ]
     },
     "execution_count": 33,
     "metadata": {},
     "output_type": "execute_result"
    }
   ],
   "source": [
    "df1['ABC'].fillna(value=df1['ABC'].mean())"
   ]
  },
  {
   "cell_type": "code",
   "execution_count": 34,
   "metadata": {},
   "outputs": [
    {
     "data": {
      "text/plain": [
       "0     50.0\n",
       "1     60.0\n",
       "2     70.0\n",
       "3     70.0\n",
       "4    100.0\n",
       "Name: BCD, dtype: float64"
      ]
     },
     "execution_count": 34,
     "metadata": {},
     "output_type": "execute_result"
    }
   ],
   "source": [
    "df1['BCD'].fillna(value=df1['BCD'].mean())"
   ]
  },
  {
   "cell_type": "code",
   "execution_count": 36,
   "metadata": {},
   "outputs": [],
   "source": [
    "customer_details = pd.DataFrame({\"cust_id\":['IN-2020-1','IN-2020-2','IN-2020-3','IN-2020-4'],\n",
    "                                'First Name':['jai','sam','john','harish'],\n",
    "                                \"Last name\":['reed','wortly','mathew','anderson']})"
   ]
  },
  {
   "cell_type": "code",
   "execution_count": 37,
   "metadata": {},
   "outputs": [
    {
     "data": {
      "text/html": [
       "<div>\n",
       "<style scoped>\n",
       "    .dataframe tbody tr th:only-of-type {\n",
       "        vertical-align: middle;\n",
       "    }\n",
       "\n",
       "    .dataframe tbody tr th {\n",
       "        vertical-align: top;\n",
       "    }\n",
       "\n",
       "    .dataframe thead th {\n",
       "        text-align: right;\n",
       "    }\n",
       "</style>\n",
       "<table border=\"1\" class=\"dataframe\">\n",
       "  <thead>\n",
       "    <tr style=\"text-align: right;\">\n",
       "      <th></th>\n",
       "      <th>cust_id</th>\n",
       "      <th>First Name</th>\n",
       "      <th>Last name</th>\n",
       "    </tr>\n",
       "  </thead>\n",
       "  <tbody>\n",
       "    <tr>\n",
       "      <th>0</th>\n",
       "      <td>IN-2020-1</td>\n",
       "      <td>jai</td>\n",
       "      <td>reed</td>\n",
       "    </tr>\n",
       "    <tr>\n",
       "      <th>1</th>\n",
       "      <td>IN-2020-2</td>\n",
       "      <td>sam</td>\n",
       "      <td>wortly</td>\n",
       "    </tr>\n",
       "    <tr>\n",
       "      <th>2</th>\n",
       "      <td>IN-2020-3</td>\n",
       "      <td>john</td>\n",
       "      <td>mathew</td>\n",
       "    </tr>\n",
       "    <tr>\n",
       "      <th>3</th>\n",
       "      <td>IN-2020-4</td>\n",
       "      <td>harish</td>\n",
       "      <td>anderson</td>\n",
       "    </tr>\n",
       "  </tbody>\n",
       "</table>\n",
       "</div>"
      ],
      "text/plain": [
       "     cust_id First Name Last name\n",
       "0  IN-2020-1        jai      reed\n",
       "1  IN-2020-2        sam    wortly\n",
       "2  IN-2020-3       john    mathew\n",
       "3  IN-2020-4     harish  anderson"
      ]
     },
     "execution_count": 37,
     "metadata": {},
     "output_type": "execute_result"
    }
   ],
   "source": [
    "customer_details"
   ]
  },
  {
   "cell_type": "code",
   "execution_count": 54,
   "metadata": {},
   "outputs": [],
   "source": [
    "sales_details=pd.DataFrame({\"cust_id\":['IN-2020-10','IN-2020-20','IN-2020-3','IN-2020-4'],\n",
    "               \"segment\":['Technology','Home Supply','Office Supply','Infrastucture'],\n",
    "               \"Sales\":[1000,2000,3000,4000]})"
   ]
  },
  {
   "cell_type": "code",
   "execution_count": 48,
   "metadata": {},
   "outputs": [
    {
     "data": {
      "text/html": [
       "<div>\n",
       "<style scoped>\n",
       "    .dataframe tbody tr th:only-of-type {\n",
       "        vertical-align: middle;\n",
       "    }\n",
       "\n",
       "    .dataframe tbody tr th {\n",
       "        vertical-align: top;\n",
       "    }\n",
       "\n",
       "    .dataframe thead th {\n",
       "        text-align: right;\n",
       "    }\n",
       "</style>\n",
       "<table border=\"1\" class=\"dataframe\">\n",
       "  <thead>\n",
       "    <tr style=\"text-align: right;\">\n",
       "      <th></th>\n",
       "      <th>cust_id</th>\n",
       "      <th>segment</th>\n",
       "      <th>Sales</th>\n",
       "    </tr>\n",
       "  </thead>\n",
       "  <tbody>\n",
       "    <tr>\n",
       "      <th>0</th>\n",
       "      <td>IN-2020-10</td>\n",
       "      <td>Technology</td>\n",
       "      <td>1000</td>\n",
       "    </tr>\n",
       "    <tr>\n",
       "      <th>1</th>\n",
       "      <td>IN-2020-20</td>\n",
       "      <td>Home Supply</td>\n",
       "      <td>2000</td>\n",
       "    </tr>\n",
       "    <tr>\n",
       "      <th>2</th>\n",
       "      <td>IN-2020-3</td>\n",
       "      <td>Office Supply</td>\n",
       "      <td>3000</td>\n",
       "    </tr>\n",
       "    <tr>\n",
       "      <th>3</th>\n",
       "      <td>IN-2020-4</td>\n",
       "      <td>Infrastucture</td>\n",
       "      <td>4000</td>\n",
       "    </tr>\n",
       "  </tbody>\n",
       "</table>\n",
       "</div>"
      ],
      "text/plain": [
       "      cust_id        segment  Sales\n",
       "0  IN-2020-10     Technology   1000\n",
       "1  IN-2020-20    Home Supply   2000\n",
       "2   IN-2020-3  Office Supply   3000\n",
       "3   IN-2020-4  Infrastucture   4000"
      ]
     },
     "execution_count": 48,
     "metadata": {},
     "output_type": "execute_result"
    }
   ],
   "source": [
    "sales_details"
   ]
  },
  {
   "cell_type": "code",
   "execution_count": 49,
   "metadata": {},
   "outputs": [
    {
     "data": {
      "text/html": [
       "<div>\n",
       "<style scoped>\n",
       "    .dataframe tbody tr th:only-of-type {\n",
       "        vertical-align: middle;\n",
       "    }\n",
       "\n",
       "    .dataframe tbody tr th {\n",
       "        vertical-align: top;\n",
       "    }\n",
       "\n",
       "    .dataframe thead th {\n",
       "        text-align: right;\n",
       "    }\n",
       "</style>\n",
       "<table border=\"1\" class=\"dataframe\">\n",
       "  <thead>\n",
       "    <tr style=\"text-align: right;\">\n",
       "      <th></th>\n",
       "      <th>cust_id</th>\n",
       "      <th>First Name</th>\n",
       "      <th>Last name</th>\n",
       "      <th>cust_id</th>\n",
       "      <th>segment</th>\n",
       "      <th>Sales</th>\n",
       "    </tr>\n",
       "  </thead>\n",
       "  <tbody>\n",
       "    <tr>\n",
       "      <th>0</th>\n",
       "      <td>IN-2020-1</td>\n",
       "      <td>jai</td>\n",
       "      <td>reed</td>\n",
       "      <td>IN-2020-10</td>\n",
       "      <td>Technology</td>\n",
       "      <td>1000</td>\n",
       "    </tr>\n",
       "    <tr>\n",
       "      <th>1</th>\n",
       "      <td>IN-2020-2</td>\n",
       "      <td>sam</td>\n",
       "      <td>wortly</td>\n",
       "      <td>IN-2020-20</td>\n",
       "      <td>Home Supply</td>\n",
       "      <td>2000</td>\n",
       "    </tr>\n",
       "    <tr>\n",
       "      <th>2</th>\n",
       "      <td>IN-2020-3</td>\n",
       "      <td>john</td>\n",
       "      <td>mathew</td>\n",
       "      <td>IN-2020-3</td>\n",
       "      <td>Office Supply</td>\n",
       "      <td>3000</td>\n",
       "    </tr>\n",
       "    <tr>\n",
       "      <th>3</th>\n",
       "      <td>IN-2020-4</td>\n",
       "      <td>harish</td>\n",
       "      <td>anderson</td>\n",
       "      <td>IN-2020-4</td>\n",
       "      <td>Infrastucture</td>\n",
       "      <td>4000</td>\n",
       "    </tr>\n",
       "  </tbody>\n",
       "</table>\n",
       "</div>"
      ],
      "text/plain": [
       "     cust_id First Name Last name     cust_id        segment  Sales\n",
       "0  IN-2020-1        jai      reed  IN-2020-10     Technology   1000\n",
       "1  IN-2020-2        sam    wortly  IN-2020-20    Home Supply   2000\n",
       "2  IN-2020-3       john    mathew   IN-2020-3  Office Supply   3000\n",
       "3  IN-2020-4     harish  anderson   IN-2020-4  Infrastucture   4000"
      ]
     },
     "execution_count": 49,
     "metadata": {},
     "output_type": "execute_result"
    }
   ],
   "source": [
    "pd.concat([customer_details,sales_details],axis=1)"
   ]
  },
  {
   "cell_type": "code",
   "execution_count": null,
   "metadata": {},
   "outputs": [],
   "source": [
    "%config Completer.use_jedi = False"
   ]
  },
  {
   "cell_type": "code",
   "execution_count": 55,
   "metadata": {},
   "outputs": [
    {
     "data": {
      "text/html": [
       "<div>\n",
       "<style scoped>\n",
       "    .dataframe tbody tr th:only-of-type {\n",
       "        vertical-align: middle;\n",
       "    }\n",
       "\n",
       "    .dataframe tbody tr th {\n",
       "        vertical-align: top;\n",
       "    }\n",
       "\n",
       "    .dataframe thead th {\n",
       "        text-align: right;\n",
       "    }\n",
       "</style>\n",
       "<table border=\"1\" class=\"dataframe\">\n",
       "  <thead>\n",
       "    <tr style=\"text-align: right;\">\n",
       "      <th></th>\n",
       "      <th>cust_id</th>\n",
       "      <th>First Name</th>\n",
       "      <th>Last name</th>\n",
       "      <th>segment</th>\n",
       "      <th>Sales</th>\n",
       "    </tr>\n",
       "  </thead>\n",
       "  <tbody>\n",
       "    <tr>\n",
       "      <th>0</th>\n",
       "      <td>IN-2020-3</td>\n",
       "      <td>john</td>\n",
       "      <td>mathew</td>\n",
       "      <td>Office Supply</td>\n",
       "      <td>3000</td>\n",
       "    </tr>\n",
       "    <tr>\n",
       "      <th>1</th>\n",
       "      <td>IN-2020-4</td>\n",
       "      <td>harish</td>\n",
       "      <td>anderson</td>\n",
       "      <td>Infrastucture</td>\n",
       "      <td>4000</td>\n",
       "    </tr>\n",
       "  </tbody>\n",
       "</table>\n",
       "</div>"
      ],
      "text/plain": [
       "     cust_id First Name Last name        segment  Sales\n",
       "0  IN-2020-3       john    mathew  Office Supply   3000\n",
       "1  IN-2020-4     harish  anderson  Infrastucture   4000"
      ]
     },
     "execution_count": 55,
     "metadata": {},
     "output_type": "execute_result"
    }
   ],
   "source": [
    "pd.merge(customer_details,sales_details,left_on='cust_id',\n",
    "        right_on='cust_id',how='inner')"
   ]
  },
  {
   "cell_type": "code",
   "execution_count": 56,
   "metadata": {},
   "outputs": [
    {
     "data": {
      "text/html": [
       "<div>\n",
       "<style scoped>\n",
       "    .dataframe tbody tr th:only-of-type {\n",
       "        vertical-align: middle;\n",
       "    }\n",
       "\n",
       "    .dataframe tbody tr th {\n",
       "        vertical-align: top;\n",
       "    }\n",
       "\n",
       "    .dataframe thead th {\n",
       "        text-align: right;\n",
       "    }\n",
       "</style>\n",
       "<table border=\"1\" class=\"dataframe\">\n",
       "  <thead>\n",
       "    <tr style=\"text-align: right;\">\n",
       "      <th></th>\n",
       "      <th>cust_id</th>\n",
       "      <th>First Name</th>\n",
       "      <th>Last name</th>\n",
       "      <th>segment</th>\n",
       "      <th>Sales</th>\n",
       "    </tr>\n",
       "  </thead>\n",
       "  <tbody>\n",
       "    <tr>\n",
       "      <th>0</th>\n",
       "      <td>IN-2020-1</td>\n",
       "      <td>jai</td>\n",
       "      <td>reed</td>\n",
       "      <td>NaN</td>\n",
       "      <td>NaN</td>\n",
       "    </tr>\n",
       "    <tr>\n",
       "      <th>1</th>\n",
       "      <td>IN-2020-2</td>\n",
       "      <td>sam</td>\n",
       "      <td>wortly</td>\n",
       "      <td>NaN</td>\n",
       "      <td>NaN</td>\n",
       "    </tr>\n",
       "    <tr>\n",
       "      <th>2</th>\n",
       "      <td>IN-2020-3</td>\n",
       "      <td>john</td>\n",
       "      <td>mathew</td>\n",
       "      <td>Office Supply</td>\n",
       "      <td>3000.0</td>\n",
       "    </tr>\n",
       "    <tr>\n",
       "      <th>3</th>\n",
       "      <td>IN-2020-4</td>\n",
       "      <td>harish</td>\n",
       "      <td>anderson</td>\n",
       "      <td>Infrastucture</td>\n",
       "      <td>4000.0</td>\n",
       "    </tr>\n",
       "    <tr>\n",
       "      <th>4</th>\n",
       "      <td>IN-2020-10</td>\n",
       "      <td>NaN</td>\n",
       "      <td>NaN</td>\n",
       "      <td>Technology</td>\n",
       "      <td>1000.0</td>\n",
       "    </tr>\n",
       "    <tr>\n",
       "      <th>5</th>\n",
       "      <td>IN-2020-20</td>\n",
       "      <td>NaN</td>\n",
       "      <td>NaN</td>\n",
       "      <td>Home Supply</td>\n",
       "      <td>2000.0</td>\n",
       "    </tr>\n",
       "  </tbody>\n",
       "</table>\n",
       "</div>"
      ],
      "text/plain": [
       "      cust_id First Name Last name        segment   Sales\n",
       "0   IN-2020-1        jai      reed            NaN     NaN\n",
       "1   IN-2020-2        sam    wortly            NaN     NaN\n",
       "2   IN-2020-3       john    mathew  Office Supply  3000.0\n",
       "3   IN-2020-4     harish  anderson  Infrastucture  4000.0\n",
       "4  IN-2020-10        NaN       NaN     Technology  1000.0\n",
       "5  IN-2020-20        NaN       NaN    Home Supply  2000.0"
      ]
     },
     "execution_count": 56,
     "metadata": {},
     "output_type": "execute_result"
    }
   ],
   "source": [
    "pd.merge(customer_details,sales_details,left_on='cust_id',\n",
    "        right_on='cust_id',how='outer')"
   ]
  },
  {
   "cell_type": "code",
   "execution_count": 59,
   "metadata": {},
   "outputs": [],
   "source": [
    "left=pd.DataFrame({'A':['A0','A1','A2'],\n",
    "                  'B':['B0','B1','B2']},\n",
    "                  index=['K0','K1','K2'])\n",
    "right=pd.DataFrame({'C':['C0','C1','C2'],\n",
    "                  'D':['D0','D1','D2']},\n",
    "                  index=['K0','K1','K2'])"
   ]
  },
  {
   "cell_type": "code",
   "execution_count": 60,
   "metadata": {},
   "outputs": [
    {
     "data": {
      "text/html": [
       "<div>\n",
       "<style scoped>\n",
       "    .dataframe tbody tr th:only-of-type {\n",
       "        vertical-align: middle;\n",
       "    }\n",
       "\n",
       "    .dataframe tbody tr th {\n",
       "        vertical-align: top;\n",
       "    }\n",
       "\n",
       "    .dataframe thead th {\n",
       "        text-align: right;\n",
       "    }\n",
       "</style>\n",
       "<table border=\"1\" class=\"dataframe\">\n",
       "  <thead>\n",
       "    <tr style=\"text-align: right;\">\n",
       "      <th></th>\n",
       "      <th>A</th>\n",
       "      <th>B</th>\n",
       "    </tr>\n",
       "  </thead>\n",
       "  <tbody>\n",
       "    <tr>\n",
       "      <th>K0</th>\n",
       "      <td>A0</td>\n",
       "      <td>B0</td>\n",
       "    </tr>\n",
       "    <tr>\n",
       "      <th>K1</th>\n",
       "      <td>A1</td>\n",
       "      <td>B1</td>\n",
       "    </tr>\n",
       "    <tr>\n",
       "      <th>K2</th>\n",
       "      <td>A2</td>\n",
       "      <td>B2</td>\n",
       "    </tr>\n",
       "  </tbody>\n",
       "</table>\n",
       "</div>"
      ],
      "text/plain": [
       "     A   B\n",
       "K0  A0  B0\n",
       "K1  A1  B1\n",
       "K2  A2  B2"
      ]
     },
     "execution_count": 60,
     "metadata": {},
     "output_type": "execute_result"
    }
   ],
   "source": [
    "left"
   ]
  },
  {
   "cell_type": "code",
   "execution_count": 61,
   "metadata": {},
   "outputs": [
    {
     "data": {
      "text/html": [
       "<div>\n",
       "<style scoped>\n",
       "    .dataframe tbody tr th:only-of-type {\n",
       "        vertical-align: middle;\n",
       "    }\n",
       "\n",
       "    .dataframe tbody tr th {\n",
       "        vertical-align: top;\n",
       "    }\n",
       "\n",
       "    .dataframe thead th {\n",
       "        text-align: right;\n",
       "    }\n",
       "</style>\n",
       "<table border=\"1\" class=\"dataframe\">\n",
       "  <thead>\n",
       "    <tr style=\"text-align: right;\">\n",
       "      <th></th>\n",
       "      <th>C</th>\n",
       "      <th>D</th>\n",
       "    </tr>\n",
       "  </thead>\n",
       "  <tbody>\n",
       "    <tr>\n",
       "      <th>K0</th>\n",
       "      <td>C0</td>\n",
       "      <td>D0</td>\n",
       "    </tr>\n",
       "    <tr>\n",
       "      <th>K1</th>\n",
       "      <td>C1</td>\n",
       "      <td>D1</td>\n",
       "    </tr>\n",
       "    <tr>\n",
       "      <th>K2</th>\n",
       "      <td>C2</td>\n",
       "      <td>D2</td>\n",
       "    </tr>\n",
       "  </tbody>\n",
       "</table>\n",
       "</div>"
      ],
      "text/plain": [
       "     C   D\n",
       "K0  C0  D0\n",
       "K1  C1  D1\n",
       "K2  C2  D2"
      ]
     },
     "execution_count": 61,
     "metadata": {},
     "output_type": "execute_result"
    }
   ],
   "source": [
    "right"
   ]
  },
  {
   "cell_type": "code",
   "execution_count": 62,
   "metadata": {},
   "outputs": [
    {
     "data": {
      "text/html": [
       "<div>\n",
       "<style scoped>\n",
       "    .dataframe tbody tr th:only-of-type {\n",
       "        vertical-align: middle;\n",
       "    }\n",
       "\n",
       "    .dataframe tbody tr th {\n",
       "        vertical-align: top;\n",
       "    }\n",
       "\n",
       "    .dataframe thead th {\n",
       "        text-align: right;\n",
       "    }\n",
       "</style>\n",
       "<table border=\"1\" class=\"dataframe\">\n",
       "  <thead>\n",
       "    <tr style=\"text-align: right;\">\n",
       "      <th></th>\n",
       "      <th>A</th>\n",
       "      <th>B</th>\n",
       "      <th>C</th>\n",
       "      <th>D</th>\n",
       "    </tr>\n",
       "  </thead>\n",
       "  <tbody>\n",
       "    <tr>\n",
       "      <th>K0</th>\n",
       "      <td>A0</td>\n",
       "      <td>B0</td>\n",
       "      <td>C0</td>\n",
       "      <td>D0</td>\n",
       "    </tr>\n",
       "    <tr>\n",
       "      <th>K1</th>\n",
       "      <td>A1</td>\n",
       "      <td>B1</td>\n",
       "      <td>C1</td>\n",
       "      <td>D1</td>\n",
       "    </tr>\n",
       "    <tr>\n",
       "      <th>K2</th>\n",
       "      <td>A2</td>\n",
       "      <td>B2</td>\n",
       "      <td>C2</td>\n",
       "      <td>D2</td>\n",
       "    </tr>\n",
       "  </tbody>\n",
       "</table>\n",
       "</div>"
      ],
      "text/plain": [
       "     A   B   C   D\n",
       "K0  A0  B0  C0  D0\n",
       "K1  A1  B1  C1  D1\n",
       "K2  A2  B2  C2  D2"
      ]
     },
     "execution_count": 62,
     "metadata": {},
     "output_type": "execute_result"
    }
   ],
   "source": [
    "left.join(right)"
   ]
  },
  {
   "cell_type": "code",
   "execution_count": 63,
   "metadata": {},
   "outputs": [],
   "source": [
    "mydata=pd.DataFrame({'col1':[1,2,3,4],\"col2\":[100,200,300,400],\n",
    "                    'col3':['abc','bcd','cde','abc']})"
   ]
  },
  {
   "cell_type": "code",
   "execution_count": 64,
   "metadata": {},
   "outputs": [
    {
     "data": {
      "text/html": [
       "<div>\n",
       "<style scoped>\n",
       "    .dataframe tbody tr th:only-of-type {\n",
       "        vertical-align: middle;\n",
       "    }\n",
       "\n",
       "    .dataframe tbody tr th {\n",
       "        vertical-align: top;\n",
       "    }\n",
       "\n",
       "    .dataframe thead th {\n",
       "        text-align: right;\n",
       "    }\n",
       "</style>\n",
       "<table border=\"1\" class=\"dataframe\">\n",
       "  <thead>\n",
       "    <tr style=\"text-align: right;\">\n",
       "      <th></th>\n",
       "      <th>col1</th>\n",
       "      <th>col2</th>\n",
       "      <th>col3</th>\n",
       "    </tr>\n",
       "  </thead>\n",
       "  <tbody>\n",
       "    <tr>\n",
       "      <th>0</th>\n",
       "      <td>1</td>\n",
       "      <td>100</td>\n",
       "      <td>abc</td>\n",
       "    </tr>\n",
       "    <tr>\n",
       "      <th>1</th>\n",
       "      <td>2</td>\n",
       "      <td>200</td>\n",
       "      <td>bcd</td>\n",
       "    </tr>\n",
       "    <tr>\n",
       "      <th>2</th>\n",
       "      <td>3</td>\n",
       "      <td>300</td>\n",
       "      <td>cde</td>\n",
       "    </tr>\n",
       "    <tr>\n",
       "      <th>3</th>\n",
       "      <td>4</td>\n",
       "      <td>400</td>\n",
       "      <td>abc</td>\n",
       "    </tr>\n",
       "  </tbody>\n",
       "</table>\n",
       "</div>"
      ],
      "text/plain": [
       "   col1  col2 col3\n",
       "0     1   100  abc\n",
       "1     2   200  bcd\n",
       "2     3   300  cde\n",
       "3     4   400  abc"
      ]
     },
     "execution_count": 64,
     "metadata": {},
     "output_type": "execute_result"
    }
   ],
   "source": [
    "mydata"
   ]
  },
  {
   "cell_type": "code",
   "execution_count": 65,
   "metadata": {},
   "outputs": [
    {
     "data": {
      "text/plain": [
       "array(['abc', 'bcd', 'cde'], dtype=object)"
      ]
     },
     "execution_count": 65,
     "metadata": {},
     "output_type": "execute_result"
    }
   ],
   "source": [
    "mydata['col3'].unique()"
   ]
  },
  {
   "cell_type": "code",
   "execution_count": 66,
   "metadata": {},
   "outputs": [
    {
     "data": {
      "text/plain": [
       "3"
      ]
     },
     "execution_count": 66,
     "metadata": {},
     "output_type": "execute_result"
    }
   ],
   "source": [
    "mydata['col3'].nunique()"
   ]
  },
  {
   "cell_type": "code",
   "execution_count": 67,
   "metadata": {},
   "outputs": [
    {
     "data": {
      "text/plain": [
       "abc    2\n",
       "cde    1\n",
       "bcd    1\n",
       "Name: col3, dtype: int64"
      ]
     },
     "execution_count": 67,
     "metadata": {},
     "output_type": "execute_result"
    }
   ],
   "source": [
    "mydata['col3'].value_counts()"
   ]
  },
  {
   "cell_type": "code",
   "execution_count": 74,
   "metadata": {},
   "outputs": [],
   "source": [
    "def mycode(x):\n",
    "    return x*2"
   ]
  },
  {
   "cell_type": "code",
   "execution_count": 75,
   "metadata": {},
   "outputs": [
    {
     "data": {
      "text/plain": [
       "0    200\n",
       "1    400\n",
       "2    600\n",
       "3    800\n",
       "Name: col2, dtype: int64"
      ]
     },
     "execution_count": 75,
     "metadata": {},
     "output_type": "execute_result"
    }
   ],
   "source": [
    "mydata['col2'].apply(mycode)"
   ]
  },
  {
   "cell_type": "code",
   "execution_count": 76,
   "metadata": {},
   "outputs": [
    {
     "data": {
      "text/plain": [
       "'abcbcdcdeabc'"
      ]
     },
     "execution_count": 76,
     "metadata": {},
     "output_type": "execute_result"
    }
   ],
   "source": [
    "mydata['col3'].sum()"
   ]
  },
  {
   "cell_type": "code",
   "execution_count": 77,
   "metadata": {},
   "outputs": [
    {
     "data": {
      "text/plain": [
       "<bound method DataFrame.isnull of    col1  col2 col3\n",
       "0     1   100  abc\n",
       "1     2   200  bcd\n",
       "2     3   300  cde\n",
       "3     4   400  abc>"
      ]
     },
     "execution_count": 77,
     "metadata": {},
     "output_type": "execute_result"
    }
   ],
   "source": [
    "mydata.isnull"
   ]
  },
  {
   "cell_type": "code",
   "execution_count": 79,
   "metadata": {},
   "outputs": [],
   "source": [
    "myhtml=pd.read_html('https://www.fdic.gov/resources/resolutions/bank-failures/failed-bank-list/')"
   ]
  },
  {
   "cell_type": "code",
   "execution_count": 84,
   "metadata": {},
   "outputs": [
    {
     "data": {
      "text/html": [
       "<div>\n",
       "<style scoped>\n",
       "    .dataframe tbody tr th:only-of-type {\n",
       "        vertical-align: middle;\n",
       "    }\n",
       "\n",
       "    .dataframe tbody tr th {\n",
       "        vertical-align: top;\n",
       "    }\n",
       "\n",
       "    .dataframe thead th {\n",
       "        text-align: right;\n",
       "    }\n",
       "</style>\n",
       "<table border=\"1\" class=\"dataframe\">\n",
       "  <thead>\n",
       "    <tr style=\"text-align: right;\">\n",
       "      <th></th>\n",
       "      <th>Bank Name</th>\n",
       "      <th>City</th>\n",
       "      <th>State</th>\n",
       "      <th>Cert</th>\n",
       "      <th>Acquiring Institution</th>\n",
       "      <th>Closing Date</th>\n",
       "    </tr>\n",
       "  </thead>\n",
       "  <tbody>\n",
       "    <tr>\n",
       "      <th>0</th>\n",
       "      <td>Almena State Bank</td>\n",
       "      <td>Almena</td>\n",
       "      <td>KS</td>\n",
       "      <td>15426</td>\n",
       "      <td>Equity Bank</td>\n",
       "      <td>October 23, 2020</td>\n",
       "    </tr>\n",
       "    <tr>\n",
       "      <th>1</th>\n",
       "      <td>First City Bank of Florida</td>\n",
       "      <td>Fort Walton Beach</td>\n",
       "      <td>FL</td>\n",
       "      <td>16748</td>\n",
       "      <td>United Fidelity Bank, fsb</td>\n",
       "      <td>October 16, 2020</td>\n",
       "    </tr>\n",
       "    <tr>\n",
       "      <th>2</th>\n",
       "      <td>The First State Bank</td>\n",
       "      <td>Barboursville</td>\n",
       "      <td>WV</td>\n",
       "      <td>14361</td>\n",
       "      <td>MVB Bank, Inc.</td>\n",
       "      <td>April 3, 2020</td>\n",
       "    </tr>\n",
       "    <tr>\n",
       "      <th>3</th>\n",
       "      <td>Ericson State Bank</td>\n",
       "      <td>Ericson</td>\n",
       "      <td>NE</td>\n",
       "      <td>18265</td>\n",
       "      <td>Farmers and Merchants Bank</td>\n",
       "      <td>February 14, 2020</td>\n",
       "    </tr>\n",
       "    <tr>\n",
       "      <th>4</th>\n",
       "      <td>City National Bank of New Jersey</td>\n",
       "      <td>Newark</td>\n",
       "      <td>NJ</td>\n",
       "      <td>21111</td>\n",
       "      <td>Industrial Bank</td>\n",
       "      <td>November 1, 2019</td>\n",
       "    </tr>\n",
       "    <tr>\n",
       "      <th>...</th>\n",
       "      <td>...</td>\n",
       "      <td>...</td>\n",
       "      <td>...</td>\n",
       "      <td>...</td>\n",
       "      <td>...</td>\n",
       "      <td>...</td>\n",
       "    </tr>\n",
       "    <tr>\n",
       "      <th>558</th>\n",
       "      <td>Superior Bank, FSB</td>\n",
       "      <td>Hinsdale</td>\n",
       "      <td>IL</td>\n",
       "      <td>32646</td>\n",
       "      <td>Superior Federal, FSB</td>\n",
       "      <td>July 27, 2001</td>\n",
       "    </tr>\n",
       "    <tr>\n",
       "      <th>559</th>\n",
       "      <td>Malta National Bank</td>\n",
       "      <td>Malta</td>\n",
       "      <td>OH</td>\n",
       "      <td>6629</td>\n",
       "      <td>North Valley Bank</td>\n",
       "      <td>May 3, 2001</td>\n",
       "    </tr>\n",
       "    <tr>\n",
       "      <th>560</th>\n",
       "      <td>First Alliance Bank &amp; Trust Co.</td>\n",
       "      <td>Manchester</td>\n",
       "      <td>NH</td>\n",
       "      <td>34264</td>\n",
       "      <td>Southern New Hampshire Bank &amp; Trust</td>\n",
       "      <td>February 2, 2001</td>\n",
       "    </tr>\n",
       "    <tr>\n",
       "      <th>561</th>\n",
       "      <td>National State Bank of Metropolis</td>\n",
       "      <td>Metropolis</td>\n",
       "      <td>IL</td>\n",
       "      <td>3815</td>\n",
       "      <td>Banterra Bank of Marion</td>\n",
       "      <td>December 14, 2000</td>\n",
       "    </tr>\n",
       "    <tr>\n",
       "      <th>562</th>\n",
       "      <td>Bank of Honolulu</td>\n",
       "      <td>Honolulu</td>\n",
       "      <td>HI</td>\n",
       "      <td>21029</td>\n",
       "      <td>Bank of the Orient</td>\n",
       "      <td>October 13, 2000</td>\n",
       "    </tr>\n",
       "  </tbody>\n",
       "</table>\n",
       "<p>563 rows × 6 columns</p>\n",
       "</div>"
      ],
      "text/plain": [
       "                             Bank Name               City State   Cert  \\\n",
       "0                    Almena State Bank             Almena    KS  15426   \n",
       "1           First City Bank of Florida  Fort Walton Beach    FL  16748   \n",
       "2                 The First State Bank      Barboursville    WV  14361   \n",
       "3                   Ericson State Bank            Ericson    NE  18265   \n",
       "4     City National Bank of New Jersey             Newark    NJ  21111   \n",
       "..                                 ...                ...   ...    ...   \n",
       "558                 Superior Bank, FSB           Hinsdale    IL  32646   \n",
       "559                Malta National Bank              Malta    OH   6629   \n",
       "560    First Alliance Bank & Trust Co.         Manchester    NH  34264   \n",
       "561  National State Bank of Metropolis         Metropolis    IL   3815   \n",
       "562                   Bank of Honolulu           Honolulu    HI  21029   \n",
       "\n",
       "                   Acquiring Institution       Closing Date  \n",
       "0                            Equity Bank   October 23, 2020  \n",
       "1              United Fidelity Bank, fsb   October 16, 2020  \n",
       "2                         MVB Bank, Inc.      April 3, 2020  \n",
       "3             Farmers and Merchants Bank  February 14, 2020  \n",
       "4                        Industrial Bank   November 1, 2019  \n",
       "..                                   ...                ...  \n",
       "558                Superior Federal, FSB      July 27, 2001  \n",
       "559                    North Valley Bank        May 3, 2001  \n",
       "560  Southern New Hampshire Bank & Trust   February 2, 2001  \n",
       "561              Banterra Bank of Marion  December 14, 2000  \n",
       "562                   Bank of the Orient   October 13, 2000  \n",
       "\n",
       "[563 rows x 6 columns]"
      ]
     },
     "execution_count": 84,
     "metadata": {},
     "output_type": "execute_result"
    }
   ],
   "source": [
    "myhtml[0]"
   ]
  },
  {
   "cell_type": "code",
   "execution_count": 86,
   "metadata": {},
   "outputs": [],
   "source": [
    "import requests\n",
    "from bs4 import BeautifulSoup"
   ]
  },
  {
   "cell_type": "code",
   "execution_count": 87,
   "metadata": {},
   "outputs": [],
   "source": [
    "url=\"https://www.imdb.com/\"\n",
    "html1=requests.get(url)"
   ]
  },
  {
   "cell_type": "code",
   "execution_count": 89,
   "metadata": {},
   "outputs": [],
   "source": [
    "myrawdata=BeautifulSoup(html1.text)"
   ]
  },
  {
   "cell_type": "code",
   "execution_count": 90,
   "metadata": {},
   "outputs": [
    {
     "data": {
      "text/plain": [
       "<!DOCTYPE html>\n",
       "<html lang=\"en\" xmlns:fb=\"http://www.facebook.com/2008/fbml\" xmlns:og=\"http://opengraphprotocol.org/schema/\"> <head>\n",
       "<script>\n",
       "            if (typeof uet == 'function') {\n",
       "                uet(\"bb\", \"LoadTitle\", {wb: 1});\n",
       "            }\n",
       "        </script> <title data-react-helmet=\"true\">IMDb: Ratings, Reviews, and Where to Watch the Best Movies &amp; TV Shows</title>\n",
       "<script>\n",
       "            if (typeof uet == 'function') {\n",
       "                uet(\"be\", \"LoadTitle\", {wb: 1});\n",
       "            }\n",
       "        </script>\n",
       "<script>\n",
       "            if (typeof uex == 'function') {\n",
       "                uex(\"ld\", \"LoadTitle\", {wb: 1});\n",
       "            }\n",
       "        </script> <meta content=\"text/html; charset=utf-8\" data-react-helmet=\"true\" http-equiv=\"Content-Type\"/><meta charset=\"utf-8\" data-react-helmet=\"true\"/><meta content=\"width=device-width, initial-scale=1.0\" data-react-helmet=\"true\" name=\"viewport\"/><meta content=\"http://www.imdb.com/\" data-react-helmet=\"true\" property=\"og:url\"/><meta content=\"IMDb is the world's most popular and authoritative source for movie, TV and celebrity content. Find ratings and reviews for the newest movie and TV shows. Get personalized recommendations, and learn where to watch across hundreds of streaming providers.\" data-react-helmet=\"true\" name=\"description\"/><meta content=\"-41chk8SjktlW5suRZ4hSSArjxmVu7i89S2ljNh8_a8\" data-react-helmet=\"true\" name=\"google-site-verification\"/><meta content=\"https://m.media-amazon.com/images/G/01/imdb/images/social/imdb_logo._CB410901634_.png\" data-react-helmet=\"true\" property=\"og:image\"/><meta content=\"115109575169727\" data-react-helmet=\"true\" property=\"fb:app_id\"/><meta content=\"IMDb: Ratings, Reviews, and Where to Watch the Best Movies &amp; TV Shows\" data-react-helmet=\"true\" property=\"og:title\"/><meta content=\"IMDb\" data-react-helmet=\"true\" property=\"og:site_name\"/><meta content=\"IMDb: Ratings, Reviews, and Where to Watch the Best Movies &amp; TV Shows\" data-react-helmet=\"true\" name=\"title\"/><meta content=\"IMDb is the world's most popular and authoritative source for movie, TV and celebrity content. Find ratings and reviews for the newest movie and TV shows. Get personalized recommendations, and learn where to watch across hundreds of streaming providers.\" data-react-helmet=\"true\" property=\"og:description\"/>\n",
       "<script>\n",
       "            if (typeof uet == 'function') {\n",
       "                uet(\"bb\", \"LoadIcons\", {wb: 1});\n",
       "            }\n",
       "        </script> <link data-react-helmet=\"true\" href=\"https://m.media-amazon.com/images/S/sash/PrlT0EHEJmw2mhH.css\" rel=\"stylesheet\"/><link data-react-helmet=\"true\" href=\"https://www.imdb.com/\" rel=\"canonical\"/><link data-react-helmet=\"true\" href=\"https://m.media-amazon.com/images/G/01/imdb/images-ANDW73HA/favicon_desktop_32x32._CB1582158068_.png\" rel=\"icon\" sizes=\"32x32\"/><link data-react-helmet=\"true\" href=\"https://m.media-amazon.com/images/G/01/imdb/images-ANDW73HA/favicon_iPad_retina_167x167._CB1582158068_.png\" rel=\"icon\" sizes=\"167x167\"/><link data-react-helmet=\"true\" href=\"https://m.media-amazon.com/images/G/01/imdb/images-ANDW73HA/favicon_iPhone_retina_180x180._CB1582158069_.png\" rel=\"icon\" sizes=\"180x180\"/><link data-react-helmet=\"true\" href=\"https://m.media-amazon.com/images/G/01/imdb/images-ANDW73HA/apple-touch-icon-mobile._CB479963088_.png\" rel=\"apple-touch-icon\"/><link data-react-helmet=\"true\" href=\"https://m.media-amazon.com/images/G/01/imdb/images-ANDW73HA/apple-touch-icon-mobile-76x76._CB479962152_.png\" rel=\"apple-touch-icon\" sizes=\"76x76\"/><link data-react-helmet=\"true\" href=\"https://m.media-amazon.com/images/G/01/imdb/images-ANDW73HA/apple-touch-icon-mobile-120x120._CB479963088_.png\" rel=\"apple-touch-icon\" sizes=\"120x120\"/><link data-react-helmet=\"true\" href=\"https://m.media-amazon.com/images/G/01/imdb/images-ANDW73HA/apple-touch-icon-web-152x152._CB479963088_.png\" rel=\"apple-touch-icon\" sizes=\"152x152\"/><link data-react-helmet=\"true\" href=\"https://m.media-amazon.com/images/G/01/imdb/images-ANDW73HA/android-mobile-196x196._CB479962153_.png\" rel=\"shortcut icon\" sizes=\"196x196\"/>\n",
       "<script>\n",
       "            if (typeof uet == 'function') {\n",
       "                uet(\"be\", \"LoadIcons\", {wb: 1});\n",
       "            }\n",
       "        </script>\n",
       "<script>\n",
       "            if (typeof uex == 'function') {\n",
       "                uex(\"ld\", \"LoadIcons\", {wb: 1});\n",
       "            }\n",
       "        </script>\n",
       "<script>\n",
       "            if (typeof uet == 'function') {\n",
       "                uet(\"bb\", \"LoadCSS\", {wb: 1});\n",
       "            }\n",
       "        </script>\n",
       "<script>\n",
       "            if (typeof uet == 'function') {\n",
       "                uet(\"be\", \"LoadCSS\", {wb: 1});\n",
       "            }\n",
       "        </script>\n",
       "<script>\n",
       "            if (typeof uex == 'function') {\n",
       "                uex(\"ld\", \"LoadCSS\", {wb: 1});\n",
       "            }\n",
       "        </script>\n",
       "<script>\n",
       "            if (typeof uet == 'function') {\n",
       "                uet(\"bb\", \"LoadHeaderJS\", {wb: 1});\n",
       "            }\n",
       "        </script> <script data-react-helmet=\"true\">\n",
       "window.ads_js_start = new Date().getTime();\n",
       "var imdbads = imdbads || {}; imdbads.cmd = imdbads.cmd || [];\n",
       "</script><script data-react-helmet=\"true\">\n",
       "!function a(b,c,d){function e(g,h){if(!c[g]){if(!b[g]){var i=\"function\"==typeof require&&require;if(!h&&i)return i(g,!0);if(f)return f(g,!0);var j=new Error(\"Cannot find module '\"+g+\"'\");throw j.code=\"MODULE_NOT_FOUND\",j}var k=c[g]={exports:{}};b[g][0].call(k.exports,function(a){var c=b[g][1][a];return e(c?c:a)},k,k.exports,a,b,c,d)}return c[g].exports}for(var f=\"function\"==typeof require&&require,g=0;g<d.length;g++)e(d[g]);return e}({1:[function(a,b,c){\"use strict\";a(2)},{2:2}],2:[function(a,b,c){\"use strict\";!function(){var a,b,c=function(a){return\"[object Array]\"===Object.prototype.toString.call(a)},d=function(a,b){for(var c=0;c<a.length;c++)c in a&&b.call(null,a[c],c)},e=[],f=!1,g=!1,h=function(){var a=[],b=[],c={};return d(e,function(e){var f=\"\";d(e.dartsite.split(\"/\"),function(b){\"\"!==b&&(b in c||(c[b]=a.length,a.push(b)),f+=\"/\"+c[b])}),b.push(f)}),{iu_parts:a,enc_prev_ius:b}},i=function(){var a=[];return d(e,function(b){var c=[];d(b.sizes,function(a){c.push(a.join(\"x\"))}),a.push(c.join(\"|\"))}),a},j=function(){var a=[];return d(e,function(b){a.push(k(b.targeting))}),a.join(\"|\")},k=function(a,b){var c,d=[];for(var e in a){c=[];for(var f=0;f<a[e].length;f++)c.push(encodeURIComponent(a[e][f]));b?d.push(e+\"=\"+encodeURIComponent(c.join(\",\"))):d.push(e+\"=\"+c.join(\",\"))}return d.join(\"&\")},l=function(){var a=+new Date;g||document.readyState&&\"loaded\"!==document.readyState||(g=!0,f&&imdbads.cmd.push(function(){for(var b=0;b<e.length;b++)generic.monitoring.record_metric(e[b].name+\".fail\",csm.duration(a))}))};window.tinygpt={define_slot:function(a,b,c,d){e.push({dartsite:a.replace(/\\/$/,\"\"),sizes:b,name:c,targeting:d})},set_targeting:function(b){a=b},callback:function(a){var c,d,f={},g=+new Date;try{for(var h=0;h<e.length;h++)c=e[h].dartsite,d=e[h].name,a[h][c]?f[d]=a[h][c]:window.console&&console.error&&console.error(\"Unable to correlate GPT response for \"+d);imdbads.cmd.push(function(){for(var a=0;a<e.length;a++)window.top.ad_utils.slot_events.trigger(e[a].name,\"request\",{timestamp:b}),window.top.ad_utils.slot_events.trigger(e[a].name,\"tagdeliver\",{timestamp:g});window.top.ad_utils.gpt.handle_response(f)})}catch(i){window.console&&console.error&&console.error(\"Exception in GPT callback: \"+i.message)}},send:function(){var d,g,m=[],n=function(a,b){c(b)&&(b=b.join(\",\")),b&&m.push(a+\"=\"+encodeURIComponent(\"\"+b))};if(0===e.length)return void tinygpt.callback({});n(\"gdfp_req\",\"1\"),n(\"correlator\",Math.floor(4503599627370496*Math.random())),n(\"output\",\"json_html\"),n(\"callback\",\"tinygpt.callback\"),n(\"impl\",\"fifs\"),n(\"json_a\",\"1\");var o=h();n(\"iu_parts\",o.iu_parts),n(\"enc_prev_ius\",o.enc_prev_ius),n(\"prev_iu_szs\",i()),n(\"prev_scp\",j()),n(\"cust_params\",k(a,!0)),d=document.createElement(\"script\"),g=document.getElementsByTagName(\"script\")[0],d.async=!0,d.type=\"text/javascript\",d.src=\"http://pubads.g.doubleclick.net/gampad/ads?\"+m.join(\"&\"),d.id=\"tinygpt\",d.onload=d.onerror=d.onreadystatechange=l,f=!0,g.parentNode.insertBefore(d,g),b=+new Date}}}()},{}]},{},[1]); </script><script data-react-helmet=\"true\" id=\"ads_tarnhelm\" src=\"https://m.media-amazon.com/images/S/sash/u5Cog94KZ3e2q8Q.js\"></script><script data-react-helmet=\"true\" id=\"ads_doWithAds\">\n",
       "doWithAds = function(inside, failureMessage){\n",
       "if ('consoleLog' in window &&\n",
       "'generic' in window &&\n",
       "'ad_utils' in window &&\n",
       "'custom' in window &&\n",
       "'monitoring' in generic &&\n",
       "'document_is_ready' in generic) {\n",
       "try{\n",
       "inside.call(this);\n",
       "}catch(e) {\n",
       "if ( window.ueLogError ) {\n",
       "if(typeof failureMessage !== 'undefined'){\n",
       "e.message = failureMessage;\n",
       "}\n",
       "e.attribution = \"Advertising\";\n",
       "e.logLevel = \"ERROR\";\n",
       "ueLogError(e);\n",
       "}\n",
       "if( (document.location.hash.match('debug=1')) &&\n",
       "(typeof failureMessage !== 'undefined') ){\n",
       "console.error(failureMessage);\n",
       "}\n",
       "}\n",
       "} else {\n",
       "if( (document.location.hash.match('debug=1')) &&\n",
       "(typeof failureMessage !== 'undefined') ){\n",
       "console.error(failureMessage);\n",
       "}\n",
       "}\n",
       "};\n",
       "</script><script data-react-helmet=\"true\" id=\"ads_monitoring_setup\">\n",
       "doWithAds(function(){\n",
       "generic.monitoring.set_forester_info(\"homepage\");\n",
       "generic.monitoring.set_twilight_info(\n",
       "\"homepage\",\n",
       "\"IN\",\n",
       "\"a2dbdee2c26082fea3b12b3e398097da1a5f8951\",\n",
       "\"2021-02-13T12%3A50%3A45GMT\",\n",
       "\"https://s.media-imdb.com/twilight/?\",\n",
       "\"consumer\");\n",
       "generic.monitoring.start_timing(\"page_load\");\n",
       "generic.seconds_to_midnight = 68955;\n",
       "generic.days_to_midnight = 0.7980902791023254;\n",
       "},\"Generic not defined, skipping monitoring setup.\");\n",
       "</script><script data-react-helmet=\"true\" src=\"https://images-na.ssl-images-amazon.com/images/G/01/ape/sf/desktop/DAsf-1.50.996289c._V428881811_.js\"></script><script data-react-helmet=\"true\" id=\"ads_safeframe_setup\">\n",
       "doWithAds(function(){\n",
       "if (typeof DAsf != 'undefined' && typeof DAsf.registerCustomMessageListener === 'function') {\n",
       "var ad_utils = window.ad_utils;\n",
       "if (ad_utils) {\n",
       "if (ad_utils.update_ad_details) {\n",
       "DAsf.registerCustomMessageListener('updateAdDetails', window.ad_utils.update_ad_details);\n",
       "}\n",
       "if (ad_utils.set_partner) {\n",
       "DAsf.registerCustomMessageListener('setPartner', window.ad_utils.set_partner);\n",
       "}\n",
       "if (ad_utils.show_ad_feedback) {\n",
       "DAsf.registerCustomMessageListener('adFeedback', window.ad_utils.show_ad_feedback);\n",
       "}\n",
       "DAsf.registerCustomMessageListener('sendMetrics', window.generic.monitoring.update_sf_slot_metrics);\n",
       "if (ad_utils.expand_overlay) {\n",
       "DAsf.registerCustomMessageListener('expand', window.ad_utils.expand_overlay);\n",
       "}\n",
       "if (ad_utils.collapse_overlay) {\n",
       "DAsf.registerCustomMessageListener('collapse', window.ad_utils.collapse_overlay);\n",
       "}\n",
       "}\n",
       "}\n",
       "},\"ads js missing, skipping safeframe setup.\");\n",
       "</script><script data-react-helmet=\"true\" id=\"ads_general_setup\">\n",
       "doWithAds(function(){\n",
       "generic.monitoring.record_metric(\"ads_js_request_to_done\", (new Date().getTime()) - window.ads_js_start);\n",
       "generic.send_csm_head_metrics && generic.send_csm_head_metrics();\n",
       "if (ad_utils && ad_utils.set_slots_on_page) {\n",
       "ad_utils.set_slots_on_page({ 'inline20':1, 'sis_pixel':1, 'inline40':1 });\n",
       "}\n",
       "custom.full_page.data_url = \"https://m.media-amazon.com/images/S/sash/Gf-U1Qugw4wQ1SD.js\";\n",
       "consoleLog('advertising initialized','ads');\n",
       "},\"ads js missing, skipping general setup.\");\n",
       "</script><script data-react-helmet=\"true\">doWithAds(function() {\n",
       "if (ad_utils && ad_utils.ads_header && ad_utils.ads_header.done) {\n",
       "ad_utils.ads_header.done();\n",
       "}\n",
       "});</script>\n",
       "<script>\n",
       "            if (typeof uet == 'function') {\n",
       "                uet(\"be\", \"LoadHeaderJS\", {wb: 1});\n",
       "            }\n",
       "        </script>\n",
       "<script>\n",
       "            if (typeof uex == 'function') {\n",
       "                uex(\"ld\", \"LoadHeaderJS\", {wb: 1});\n",
       "            }\n",
       "        </script> </head> <body> <link href=\"https://m.media-amazon.com/images/I/815EWh006UL.css\" rel=\"stylesheet\"/>\n",
       "<link href=\"https://m.media-amazon.com/images/I/41BtTuxGs-L.css\" rel=\"stylesheet\"/>\n",
       "<link href=\"https://m.media-amazon.com/images/I/61M8bsJy2EL.css\" rel=\"stylesheet\"/>\n",
       "<link href=\"https://m.media-amazon.com/images/I/11xYY4t2G6L.css\" rel=\"stylesheet\"/>\n",
       "<link href=\"https://m.media-amazon.com/images/I/01E-QlpEWzL.css\" rel=\"stylesheet\"/>\n",
       "<link href=\"https://m.media-amazon.com/images/I/31wTROaG5OL.css\" rel=\"stylesheet\"/>\n",
       "<link href=\"https://m.media-amazon.com/images/I/21S4Ztw2BDL.css\" rel=\"stylesheet\"/>\n",
       "<link href=\"https://m.media-amazon.com/images/I/01XxlRRO5lL.css\" rel=\"stylesheet\"/>\n",
       "<link href=\"https://m.media-amazon.com/images/I/11mUhb2NczL.css\" rel=\"stylesheet\"/>\n",
       "<link href=\"https://m.media-amazon.com/images/I/11yE3vJhZCL.css\" rel=\"stylesheet\"/>\n",
       "<link href=\"https://m.media-amazon.com/images/I/11CU9MuB5YL.css\" rel=\"stylesheet\"/>\n",
       "<link href=\"https://m.media-amazon.com/images/I/11Ji7YMS5FL.css\" rel=\"stylesheet\"/>\n",
       "<link href=\"https://m.media-amazon.com/images/I/01Q5HKbxSeL.css\" rel=\"stylesheet\"/>\n",
       "<link href=\"https://m.media-amazon.com/images/I/21REP3jwQYL.css\" rel=\"stylesheet\"/>\n",
       "<link href=\"https://m.media-amazon.com/images/I/11X-SujIikL.css\" rel=\"stylesheet\"/>\n",
       "<link href=\"https://m.media-amazon.com/images/I/01sZ2CPJ6cL.css\" rel=\"stylesheet\"/>\n",
       "<link href=\"https://m.media-amazon.com/images/I/41hlmsnD9DL.css\" rel=\"stylesheet\"/>\n",
       "<link href=\"https://m.media-amazon.com/images/I/01NZcELrd6L.css\" rel=\"stylesheet\"/>\n",
       "<link href=\"https://m.media-amazon.com/images/I/01KAoisXBUL.css\" rel=\"stylesheet\"/>\n",
       "<link href=\"https://m.media-amazon.com/images/I/01ngt0OmGAL.css\" rel=\"stylesheet\"/>\n",
       "<link href=\"https://m.media-amazon.com/images/I/01BL-sx4AkL.css\" rel=\"stylesheet\"/><style data-styled=\"jekCMh bmFfZH gUiXxr eGXWKr kgjqmD iQWAlG dYzJro fjLstn jGFlLU bgzAeT ijHKQE gUgDEj iWlUOU hAUoSP hOwCdO ibWJpR jAJuqP sVyDb jIbbnv iCQWEu bQZNWZ elgZIA iTyDTb kPnwgD dPmROd jvQohW VrgqF dRtPwF jTnlGZ behHdd kWtTrU cwIihd iLBqtX cqtngf dkZsig jTzUIl ktzslD cdLJQv gFEKSx cxloje cjCDsL jZASpf eYwewV cFSMOE kMejoQ dsVNKx dKrdIU duIESy hcwbey geYfso dnUagO jsWsMV CwIFp dwiBZU iAixTV iIQGKv cNKMWL drvZQv eXRXJ kUrTCY kZmcOc hJHHUo duWEHC cTXhQE iZWuhv eDdnBe dqfMEd jjDLdw kFDhcJ\" data-styled-version=\"4.3.2\">\n",
       "/* sc-component-id: sc-bdVaJa */\n",
       ".iWlUOU{-webkit-flex-shrink:0;-ms-flex-negative:0;flex-shrink:0;display:-webkit-box;display:-webkit-flex;display:-ms-flexbox;display:flex;-webkit-align-items:center;-webkit-box-align:center;-ms-flex-align:center;align-items:center;-webkit-box-pack:center;-webkit-justify-content:center;-ms-flex-pack:center;justify-content:center;-webkit-user-select:none;-moz-user-select:none;-ms-user-select:none;user-select:none;margin-left:0.25rem;margin-right:auto;-webkit-order:1;-ms-flex-order:1;order:1;position:relative;} @media screen and (min-width:1024px){.iWlUOU{margin-left:auto;margin-right:0.5rem;-webkit-order:0;-ms-flex-order:0;order:0;padding-left:0;}} @media (hover:hover) and (pointer:fine){.iWlUOU:focus{outline:1px dashed currentColor;}.iWlUOU:focus:active{outline:0;}.iWlUOU:before,.iWlUOU:after{border-radius:10%;bottom:0;content:'';height:100%;left:0;margin:auto;opacity:0;position:absolute;right:0;top:0;-webkit-transition:opacity .2s cubic-bezier(1,1,1,1);transition:opacity .2s cubic-bezier(1,1,1,1);width:100%;}}\n",
       "/* sc-component-id: sc-bZQynM */\n",
       ".jIbbnv li:first-child > ._3GpC-Bj8birceXgWSkFbpC{border-top:none;}\n",
       "/* sc-component-id: sc-gzVnrw */\n",
       ".sVyDb{position:relative;} .sVyDb.navbar__flyout__text-button-after-mobile,.sVyDb .navbar__flyout__text-button-after-mobile{display:none;} .sVyDb .navbar__flyout__text-button-after-mobile > div{display:-webkit-box;display:-webkit-flex;display:-ms-flexbox;display:flex;-webkit-align-items:center;-webkit-box-align:center;-ms-flex-align:center;align-items:center;} .sVyDb .navbar__flyout--menu{top:100%;position:absolute;margin-top:.25rem;} .sVyDb.sVyDb.navbar__flyout--positionLeft .navbar__flyout--menu{left:0;right:auto;} @media screen and (min-width:600px){.sVyDb.navbar__flyout--breakpoint-m .navbar__flyout__icon-on-mobile{display:none;}.sVyDb.navbar__flyout--breakpoint-m .navbar__flyout__text-button-after-mobile{display:-webkit-inline-box;display:-webkit-inline-flex;display:-ms-inline-flexbox;display:inline-flex;}} @media screen and (min-width:1024px){.sVyDb.navbar__flyout--breakpoint-l .navbar__flyout__icon-on-mobile{display:none;}.sVyDb.navbar__flyout--breakpoint-l .navbar__flyout__text-button-after-mobile{display:-webkit-inline-box;display:-webkit-inline-flex;display:-ms-inline-flexbox;display:inline-flex;}} @media screen and (min-width:1280px){.sVyDb.navbar__flyout--breakpoint-xl .navbar__flyout__icon-on-mobile{display:none;}.sVyDb.navbar__flyout--breakpoint-xl .navbar__flyout__text-button-after-mobile{display:-webkit-inline-box;display:-webkit-inline-flex;display:-ms-inline-flexbox;display:inline-flex;}} .sVyDb .navbar__flyout__button-pointer{-webkit-transition:-webkit-transform 0.2s;-webkit-transition:transform 0.2s;transition:transform 0.2s;-webkit-transform:rotateX(0);-ms-transform:rotateX(0);transform:rotateX(0);} .sVyDb.navbar__flyout--isVisible .navbar__flyout__button-pointer{-webkit-transform:rotateX(180deg);-ms-transform:rotateX(180deg);transform:rotateX(180deg);}\n",
       "/* sc-component-id: sc-htoDjs */\n",
       ".jAJuqP .search-category-selector__opener{border-radius:2px 0 0 2px;padding:0 0 0 0.5rem;min-height:32px;height:20px;border-right:1px solid rgba(0,0,0,0.3);} .jAJuqP _1xTnkpad08eEWkqotpqi4r{cursor:pointer;}\n",
       "/* sc-component-id: sc-dnqmqq */\n",
       ".ibWJpR{display:-webkit-box;display:-webkit-flex;display:-ms-flexbox;display:flex;-webkit-box-flex:1;-webkit-flex-grow:1;-ms-flex-positive:1;flex-grow:1;margin:0;padding:0;-webkit-align-items:center;-webkit-box-align:center;-ms-flex-align:center;align-items:center;} @media screen and (min-width:600px){.ibWJpR{-webkit-transition:border 0.2s,background-color 0.2s,box-shadow 0.2s;transition:border 0.2s,background-color 0.2s,box-shadow 0.2s;}} .ibWJpR .nav-search__search-input-container{width:100%;padding-right:3.5rem;} .ibWJpR ._2wo2z_hfPCHWGjZvUGi_f1{position:absolute;right:.35rem;min-width:2rem;cursor:pointer;top:.35rem;-webkit-transition:all 0.2s;transition:all 0.2s;} @media screen and (min-width:600px){.ibWJpR._34OlxISln9ojnodo9-xSUP ._2wo2z_hfPCHWGjZvUGi_f1{background:transparent;opacity:1;}} .ibWJpR .imdb-header-search__input{background:transparent;-webkit-box-flex:1;-webkit-flex-grow:1;-ms-flex-positive:1;flex-grow:1;outline:none;padding:1rem 1rem 1rem .75rem;width:100%;} @media screen and (min-width:600px){.ibWJpR .imdb-header-search__input{padding:.375em 0 .375rem .5rem;}} .ibWJpR .imdb-header-search__input::-ms-clear{display:none;}\n",
       "/* sc-component-id: sc-iwsKbI */\n",
       ".hAUoSP{-webkit-align-items:center;-webkit-box-align:center;-ms-flex-align:center;align-items:center;display:-webkit-box;display:-webkit-flex;display:-ms-flexbox;display:flex;left:0;margin:0;min-height:3.5rem;opacity:0;-webkit-transform:translateY(-10px);-ms-transform:translateY(-10px);transform:translateY(-10px);-webkit-transition:none;transition:none;-webkit-order:3;-ms-flex-order:3;order:3;pointer-events:none;position:absolute;top:0;visibility:hidden;width:100%;z-index:1;} .hAUoSP .imdb-header-search__state-closer{-webkit-transform:scale(0.5);-ms-transform:scale(0.5);transform:scale(0.5);-webkit-transition:-webkit-transform 0.2s 0.1s;-webkit-transition:transform 0.2s 0.1s;transition:transform 0.2s 0.1s;display:inline;margin:.25rem;position:absolute;right:0;top:0;} .hAUoSP .imdb-header-search__state,.hAUoSP .imdb-header-search__input,.hAUoSP .nav-search__search-submit{-moz-appearance:none;-webkit-appearance:none;-webkit-appearance:none;-moz-appearance:none;appearance:none;border:none;} @media screen and (min-width:600px){.hAUoSP{-webkit-box-flex:1;-webkit-flex-grow:1;-ms-flex-positive:1;flex-grow:1;margin:0 0.5rem;padding:0;min-height:2.25rem;-webkit-order:3;-ms-flex-order:3;order:3;opacity:1;visibility:visible;pointer-events:auto;position:relative;-webkit-transform:translateY(0);-ms-transform:translateY(0);transform:translateY(0);}.hAUoSP .imdb-header-search__state,.hAUoSP .nav-search__search-submit{padding:0;}.hAUoSP .nav-search__search-submit:focus{outline:var(--ipt-focus-outline-on-base);outline-offset:1px;}.hAUoSP .imdb-header-search__state-closer{display:none;}}\n",
       "/* sc-component-id: sc-gZMcBi */\n",
       ".iCQWEu{-webkit-transition:all 0.3s;transition:all 0.3s;opacity:1;-webkit-transform:scale(1);-ms-transform:scale(1);transform:scale(1);-webkit-order:3;-ms-flex-order:3;order:3;} @media screen and (min-width:600px){.iCQWEu{-webkit-order:3;-ms-flex-order:3;order:3;}.iCQWEu.imdb-header-search__state-opener{display:none;}}\n",
       "/* sc-component-id: sc-gqjmRU */\n",
       ".hOwCdO:checked ~ .nav-search__search-container{opacity:1;-webkit-transform:scale(1);-ms-transform:scale(1);transform:scale(1);-webkit-transition:opacity 0.2s,-webkit-transform 0.2s;-webkit-transition:opacity 0.2s,transform 0.2s;transition:opacity 0.2s,transform 0.2s;visibility:visible;pointer-events:auto;z-index:100;} .hOwCdO:checked ~ .nav-search__search-container .nav-search__search-select,.hOwCdO:checked ~ .nav-search__search-container .nav-search__search-submit{display:none;} .hOwCdO:checked ~ .nav-search__search-container .imdb-header-search__state-closer{-webkit-transform:scale(1);-ms-transform:scale(1);transform:scale(1);} .hOwCdO:checked ~ .nav-search__search-container ~ .sc-gZMcBi{-webkit-transform:scale(0.5);-ms-transform:scale(0.5);transform:scale(0.5);-webkit-transition:all 0.3s 0.3s;transition:all 0.3s 0.3s;opacity:0;}\n",
       "/* sc-component-id: sc-VigVT */\n",
       ".kgjqmD._1ju2aDBdVVFcPcrZPSlJvp{bottom:0;display:-webkit-box;display:-webkit-flex;display:-ms-flexbox;display:flex;left:0;overflow:hidden;-webkit-perspective:70vh;-moz-perspective:70vh;-ms-perspective:70vh;perspective:70vh;pointer-events:none;position:fixed;right:0;top:0;visibility:hidden;z-index:100;} .kgjqmD .lyr9sTGxhvocRns_pOj2r{box-shadow:none;box-sizing:border-box;height:100%;overflow-x:hidden;overflow-y:auto;position:relative;-webkit-transform:translateX(calc(-100% - 36px));-ms-transform:translateX(calc(-100% - 36px));transform:translateX(calc(-100% - 36px));-webkit-transform-origin:right center;-ms-transform-origin:right center;transform-origin:right center;-webkit-transition:all 0.3s,box-shadow 0s;transition:all 0.3s,box-shadow 0s;width:280px;z-index:2;-webkit-overflow-scroll:touch;} .kgjqmD ._33DjoP1bQFTGjUsd6TDnRs{box-sizing:border-box;display:block;height:100%;left:0;opacity:0;position:absolute;top:0;-webkit-transition:opacity 0.3s;transition:opacity 0.3s;visibility:hidden;width:100%;will-change:opacity;z-index:1;} .kgjqmD ._1qi_bqG55RhaaowgrBUFki{-webkit-align-items:center;-webkit-box-align:center;-ms-flex-align:center;align-items:center;box-sizing:border-box;display:-webkit-box;display:-webkit-flex;display:-ms-flexbox;display:flex;-webkit-box-pack:end;-webkit-justify-content:flex-end;-ms-flex-pack:end;justify-content:flex-end;min-height:3.5rem;margin-bottom:0.5rem;padding:0.25rem;} .kgjqmD .BoMErbIIt00tb_ZoTOWZv{-webkit-touch-callout:none;-webkit-tap-highlight-color:transparent;} ._3vqFsbtuHc7lRMf9zsPxus:checked ~ .kgjqmD._1ju2aDBdVVFcPcrZPSlJvp{pointer-events:auto;visibility:visible;} ._3vqFsbtuHc7lRMf9zsPxus:checked ~ .kgjqmD._1ju2aDBdVVFcPcrZPSlJvp > .lyr9sTGxhvocRns_pOj2r{-webkit-transform:translateX(0);-ms-transform:translateX(0);transform:translateX(0);box-shadow:0px 11px 15px -7px rgba(var(--ipt-baseAlt-rgb),0.2), 0px 24px 38px 3px rgba(var(--ipt-baseAlt-rgb),0.14), 0px 9px 46px 8px rgba(var(--ipt-baseAlt-rgb),0.12);} ._3vqFsbtuHc7lRMf9zsPxus:checked ~ .kgjqmD._1ju2aDBdVVFcPcrZPSlJvp > ._33DjoP1bQFTGjUsd6TDnRs{opacity:0.5;visibility:visible;} @media screen and (min-width:1024px){.kgjqmD .lyr9sTGxhvocRns_pOj2r{width:100%;-webkit-transform:translateY(calc(-100%));-ms-transform:translateY(calc(-100%));transform:translateY(calc(-100%));padding:2rem 0;}.kgjqmD ._1qi_bqG55RhaaowgrBUFki{background:none;max-width:1024px;margin:auto;-webkit-box-pack:justify;-webkit-justify-content:space-between;-ms-flex-pack:justify;justify-content:space-between;padding:0 1rem;}.kgjqmD .KwBCkDEj0GWPCoK4HmZ2T{max-width:1024px;margin:auto;}.kgjqmD ._31OEZk7-hOsGgr6aTOS5te{display:inline;}}\n",
       "/* sc-component-id: sc-jTzLTM */\n",
       ".fjLstn .ipc-icon{opacity:0.5;-webkit-transition:opacity 0.2s;transition:opacity 0.2s;} .fjLstn:hover .ipc-icon{opacity:1;} @media screen and (max-width:479px){.fjLstn.nav-link--hideXS{display:none;}} @media screen and (min-width:480px) and (max-width:599px){.fjLstn.nav-link--hideS{display:none;}} @media screen and (min-width:600px) and (max-width:1023px){.fjLstn.nav-link--hideM{display:none;}} @media screen and (min-width:1024px) and (max-width:1279px){.fjLstn.nav-link--hideL{display:none;}} @media screen and (min-width:1280px){.fjLstn.nav-link--hideXL{display:none;}}\n",
       "/* sc-component-id: sc-fjdhpX */\n",
       ".dYzJro ._1UO7JWXJx2A3lPt87JY0Gh{cursor:pointer;-webkit-align-items:center;-webkit-box-align:center;-ms-flex-align:center;align-items:center;border-top:1px solid transparent;display:-webkit-box;display:-webkit-flex;display:-ms-flexbox;display:flex;-webkit-box-pack:justify;-webkit-justify-content:space-between;-ms-flex-pack:justify;justify-content:space-between;height:3rem;margin:0;padding:0 1rem;-webkit-transition:color 0.1s ease-in,border-color 0.1s ease-in,opacity 0.12s ease-in;transition:color 0.1s ease-in,border-color 0.1s ease-in,opacity 0.12s ease-in;-webkit-user-select:none;-moz-user-select:none;-ms-user-select:none;user-select:none;} .dYzJro ._1UO7JWXJx2A3lPt87JY0Gh:focus{outline:var(--ipt-focus-outline-on-baseAlt);outline-offset:1px;} .dYzJro ._2Iv_l4vJVkTcKsXSsnjoyl{padding-right:0.75rem;} .dYzJro ._3ljuaKnLgmSdYVv9u-R2kl{-webkit-box-flex:1;-webkit-flex-grow:1;-ms-flex-positive:1;flex-grow:1;overflow:hidden;padding-right:0.75rem;text-overflow:ellipsis;white-space:nowrap;} .dYzJro ._3eshWnjV18LJcWXsSl9YJv{-webkit-transform:rotate(90deg);-ms-transform:rotate(90deg);transform:rotate(90deg);} .dYzJro ._2Iv_l4vJVkTcKsXSsnjoyl,.dYzJro ._3eshWnjV18LJcWXsSl9YJv{opacity:0.5;-webkit-transition:all 0.2s;transition:all 0.2s;} .dYzJro ._1UO7JWXJx2A3lPt87JY0Gh:focus ._3eshWnjV18LJcWXsSl9YJv,.dYzJro ._1UO7JWXJx2A3lPt87JY0Gh:hover ._3eshWnjV18LJcWXsSl9YJv,.dYzJro ._1UO7JWXJx2A3lPt87JY0Gh:focus ._2Iv_l4vJVkTcKsXSsnjoyl,.dYzJro ._1UO7JWXJx2A3lPt87JY0Gh:hover ._2Iv_l4vJVkTcKsXSsnjoyl{opacity:1;} .dYzJro ._3ugJBFJR4_oBad38XOic2A{overflow:hidden;border-bottom:1px solid transparent;-webkit-transition:border-color 0.1s ease-in,height 0.2s;transition:border-color 0.1s ease-in,height 0.2s;} .dYzJro ._16jTCq9eBU0A38SFBAoU8k:checked ~ span ._1UO7JWXJx2A3lPt87JY0Gh ._2Iv_l4vJVkTcKsXSsnjoyl{opacity:1;} .dYzJro ._16jTCq9eBU0A38SFBAoU8k:checked ~ span ._1UO7JWXJx2A3lPt87JY0Gh ._3eshWnjV18LJcWXsSl9YJv{-webkit-transform:rotate(-90deg);-ms-transform:rotate(-90deg);transform:rotate(-90deg);} .dYzJro ._16jTCq9eBU0A38SFBAoU8k:checked ~ span ._3ugJBFJR4_oBad38XOic2A{display:block;} .dYzJro:nth-of-type(1) ._1UO7JWXJx2A3lPt87JY0Gh{border-top:none;} @media screen and (min-width:1024px){.dYzJro.noMarginItem ._1UO7JWXJx2A3lPt87JY0Gh{margin-top:0;}} @media screen and (min-width:1024px){.dYzJro{-webkit-flex-basis:33%;-ms-flex-preferred-size:33%;flex-basis:33%;}.dYzJro ._1UO7JWXJx2A3lPt87JY0Gh{pointer-events:none;margin-top:1.5rem;height:3rem;border:none;}.dYzJro ._16jTCq9eBU0A38SFBAoU8k:checked ~ ._299G6wcz6LCpY_QFQJtc76 ._1UO7JWXJx2A3lPt87JY0Gh ._3ljuaKnLgmSdYVv9u-R2kl{color:inherit;}.dYzJro ._3ugJBFJR4_oBad38XOic2A{visibility:inherit;height:auto !important;border:0;}.dYzJro ._3eshWnjV18LJcWXsSl9YJv{display:none;}.dYzJro ._2Iv_l4vJVkTcKsXSsnjoyl{color:var(--ipt-on-baseAlt-accent1-color);opacity:1;}.dYzJro .ipc-list__item{height:2rem;}.dYzJro .ipc-list--baseAlt .ipc-list__item:hover{background:none;-webkit-text-decoration:underline;text-decoration:underline;}} @media screen and (max-width:479px){.dYzJro._1K0S44SUv8s7pXTI-caWlb--hideXS{display:none;}} @media screen and (min-width:480px) and (max-width:599px){.dYzJro._1K0S44SUv8s7pXTI-caWlb--hideS{display:none;}} @media screen and (min-width:600px) and (max-width:1023px){.dYzJro._1K0S44SUv8s7pXTI-caWlb--hideM{display:none;}} @media screen and (min-width:1024px) and (max-width:1279px){.dYzJro._1K0S44SUv8s7pXTI-caWlb--hideL{display:none;}} @media screen and (min-width:1280px){.dYzJro._1K0S44SUv8s7pXTI-caWlb--hideXL{display:none;}}\n",
       "/* sc-component-id: sc-jzJRlG */\n",
       "@media screen and (min-width:1024px){.jGFlLU{-webkit-flex-basis:33%;-ms-flex-preferred-size:33%;flex-basis:33%;}}\n",
       "/* sc-component-id: sc-cSHVUG */\n",
       "@media screen and (min-width:1024px){.bgzAeT{-webkit-flex-basis:33%;-ms-flex-preferred-size:33%;flex-basis:33%;}}\n",
       "/* sc-component-id: sc-kAzzGY */\n",
       ".iQWAlG ._1bKcOWQ444SDYrHdrDfuVi{list-style:none;margin:0.5rem 0;opacity:0.2;} .iQWAlG ._2gsLsBPK0cn_jZtMaWl-cV{margin-bottom:3rem;margin-top:1.5rem;padding:1rem;height:auto;} @media screen and (min-width:1024px){.iQWAlG{display:-webkit-box;display:-webkit-flex;display:-ms-flexbox;display:flex;-webkit-flex-wrap:wrap;-ms-flex-wrap:wrap;flex-wrap:wrap;}.iQWAlG ._3Z7jdw9w5CmgawYgX0UPK2{display:none;}.iQWAlG ._2gsLsBPK0cn_jZtMaWl-cV{-webkit-align-self:flex-start;-ms-flex-item-align:start;align-self:flex-start;display:none;}.iQWAlG:focus{outline:var(--ipt-focus-outline-on-baseAlt);outline-offset:1px;}}\n",
       "/* sc-component-id: sc-chPdSV */\n",
       ".ijHKQE{display:-webkit-box;display:-webkit-flex;display:-ms-flexbox;display:flex;-webkit-flex-direction:column;-ms-flex-direction:column;flex-direction:column;-webkit-box-pack:center;-webkit-justify-content:center;-ms-flex-pack:center;justify-content:center;}\n",
       "/* sc-component-id: sc-kgoBCf */\n",
       ".gUgDEj{margin-top:.25rem;}\n",
       "/* sc-component-id: sc-kGXeez */\n",
       ".eGXWKr{-webkit-flex-shrink:0;-ms-flex-negative:0;flex-shrink:0;-webkit-order:0;-ms-flex-order:0;order:0;} .eGXWKr.desktop{display:none;} @media screen and (min-width:1024px){.eGXWKr{-webkit-order:1;-ms-flex-order:1;order:1;}.eGXWKr.mobile{display:none;}.eGXWKr.desktop{display:-webkit-box;display:-webkit-flex;display:-ms-flexbox;display:flex;}}\n",
       "/* sc-component-id: sc-kpOJdX */\n",
       ".kPnwgD{-webkit-order:6;-ms-flex-order:6;order:6;} @media screen and (min-width:600px){.kPnwgD .navbar__user-menu__username-divider,.kPnwgD .navbar__user-menu__username{display:none;}} @media screen and (min-width:1024px){.kPnwgD{-webkit-order:7;-ms-flex-order:7;order:7;}} .kPnwgD .navbar__user-menu-toggle__button{padding-right:0.25rem;} .kPnwgD .navbar__user-name{max-width:160px;text-overflow:ellipsis;white-space:nowrap;overflow:hidden;}\n",
       "/* sc-component-id: sc-ckVGcZ */\n",
       ".iTyDTb{-webkit-order:5;-ms-flex-order:5;order:5;display:none;} @media screen and (min-width:1024px){.iTyDTb{-webkit-order:6;-ms-flex-order:6;order:6;display:-webkit-inline-box;display:-webkit-inline-flex;display:-ms-inline-flexbox;display:inline-flex;}} .iTyDTb .imdb-header__watchlist-button-count{margin-left:0.5rem;background:var(--ipt-on-base-accent1-color);color:var(--ipt-on-accent1-color);padding:0 0.4rem;border-radius:10px;text-align:center;} .iTyDTb .ipc-button__text{display:-webkit-box;display:-webkit-flex;display:-ms-flexbox;display:flex;-webkit-align-items:center;-webkit-box-align:center;-ms-flex-align:center;align-items:center;}\n",
       "/* sc-component-id: sc-jKJlTe */\n",
       ".bQZNWZ{-webkit-order:4;-ms-flex-order:4;order:4;} @media screen and (min-width:1024px){.bQZNWZ{-webkit-order:4;-ms-flex-order:4;order:4;}} .bQZNWZ .navbar__imdbpro-menu-toggle__name{display:-webkit-box;display:-webkit-flex;display:-ms-flexbox;display:flex;} .bQZNWZ .navbar__imdbpro-content .navbar__flyout--menu{background-image:url(//m.media-amazon.com/images/G/01/imdb/images/navbar/imdbpro_navbar_menu_bg-3083451252._V_.png);background-size:cover;padding-left:17px;padding-bottom:25px;padding-top:25px;color:white;font-weight:bold;} .bQZNWZ .navbar__imdbpro-imdb-pro-ad{background-repeat:no-repeat;color:white;cursor:pointer;width:573px;overflow:hidden;border-radius:8px;left:initial;} .bQZNWZ .navbar__imdbpro-imdb-pro-ad .imdb-pro-ad__content,.bQZNWZ .navbar__imdbpro-imdb-pro-ad .imdb-pro-ad__image{display:inline-block;} .bQZNWZ .navbar__imdbpro-imdb-pro-ad .imdb-pro-ad__title{color:white;line-height:1.3em;margin-bottom:10px;} .bQZNWZ .navbar__imdbpro-imdb-pro-ad .imdb-pro-ad__line{cursor:inherit;} .bQZNWZ .navbar__imdbpro-imdb-pro-ad .imdb-pro-ad__link{display:inline-block;-webkit-text-decoration:none;text-decoration:none;vertical-align:middle;} .bQZNWZ .navbar__imdbpro-imdb-pro-ad .imdb-pro-ad__content,.bQZNWZ .navbar__imdbpro-imdb-pro-ad .imdb-pro-ad__image{vertical-align:top;} .bQZNWZ .navbar__imdbpro-imdb-pro-ad .imdb-pro-ad__content{font-family:'Arial';margin-left:15px;width:400px;} .bQZNWZ .navbar__imdbpro-imdb-pro-ad .imdb-pro-ad__content .imdb-pro-ad__line{display:list-item;font-size:12px;list-style-position:inside;list-style-type:disc;margin:0px;padding:.1rem 0;} .bQZNWZ .navbar__imdbpro-imdb-pro-ad .imdb-pro-ad__content .imdb-pro-ad__title{font-size:15px;} .bQZNWZ .navbar__imdbpro-imdb-pro-ad .imdb-pro-new__button{margin-top:15px;} .bQZNWZ .navbar__imdbpro-imdb-pro-ad .imdb-pro-new__button text{fill:#111111;font-size:13px;font-weight:normal;} .bQZNWZ .navbar__imdbpro-imdb-pro-ad .imdb-pro-new__button svg:hover rect,.bQZNWZ .navbar__imdbpro-imdb-pro-ad .imdb-pro-new__button text:hover rect{fill:#f7dd95;} .bQZNWZ .navbar__imdbpro-content .sub_nav{background-color:#f2f2f2;border-bottom-left-radius:10px;border-bottom-right-radius:10px;box-shadow:0 2px 5px rgba(0,0,0,0.6);color:#999;height:325px;} .bQZNWZ .navbar__imdbpro-content .sub_nav h5{color:#A58500;margin:20px 0 10px;position:relative;}\n",
       "/* sc-component-id: sc-eNQAEJ */\n",
       ".gUiXxr{display:none;}\n",
       "/* sc-component-id: sc-hMqMXs */\n",
       ".bmFfZH{padding:0.25rem;margin:0;position:relative;z-index:1000;min-height:3.5rem;display:-webkit-box;display:-webkit-flex;display:-ms-flexbox;display:flex;-webkit-align-items:center;-webkit-box-align:center;-ms-flex-align:center;align-items:center;width:100%;} .bmFfZH a{color:inherit;} .bmFfZH .navbar__inner{display:-webkit-box;display:-webkit-flex;display:-ms-flexbox;display:flex;-webkit-align-items:center;-webkit-box-align:center;-ms-flex-align:center;align-items:center;-webkit-box-pack:justify;-webkit-justify-content:space-between;-ms-flex-pack:justify;justify-content:space-between;width:100vw;margin:0;} @media screen and (min-width:600px){.bmFfZH .navbar__inner{padding:0 .75rem;}} @media screen and (min-width:1024px){.bmFfZH .navbar__inner{width:100%;margin:0 auto;}} .bmFfZH label{margin-bottom:0;}\n",
       "/* sc-component-id: sc-kEYyzF */\n",
       ".elgZIA{border:1px solid rgba(var(--ipt-on-baseAlt-rgb),.16);-webkit-order:5;-ms-flex-order:5;order:5;width:1px;height:2rem;margin:0 .5rem;} @media screen and (max-width:600px){.elgZIA{display:none;-webkit-order:7;-ms-flex-order:7;order:7;}}\n",
       "/* sc-component-id: sc-hSdWYo */\n",
       ".dPmROd{position:relative;}\n",
       "/* sc-component-id: sc-eHgmQL */\n",
       ".jvQohW{position:relative;}\n",
       "/* sc-component-id: sc-cvbbAY */\n",
       ".kFDhcJ{margin-top:0;}\n",
       "/* sc-component-id: TitlePosterWithPeekstyles__WithPeekStyledPosterComposition-sc-1ryjwsd-0 */\n",
       ".iLBqtX{cursor:pointer;}\n",
       "/* sc-component-id: SlideCaptionstyles__CaptionTextContainer-sc-8h388a-1 */\n",
       ".cjCDsL{display:-webkit-box;display:-webkit-flex;display:-ms-flexbox;display:flex;-webkit-flex-direction:column;-ms-flex-direction:column;flex-direction:column;min-width:0;-webkit-box-pack:space-around;-webkit-justify-content:space-around;-ms-flex-pack:space-around;justify-content:space-around;width:100%;}\n",
       "/* sc-component-id: SlideCaptionstyles__PlayIcon-sc-8h388a-5 */\n",
       ".gFEKSx{color:transparent;height:50px;margin:0 0 8px 0;width:50px;} @media (min-width:48em){.gFEKSx{height:72px;margin:0 16px 0 0;width:72px;}} .gFEKSx g{fill:#FFFFFF;}\n",
       "/* sc-component-id: SlideCaptionstyles__ActionIconContainer-sc-8h388a-7 */\n",
       ".cdLJQv{-webkit-align-items:center;-webkit-box-align:center;-ms-flex-align:center;align-items:center;display:-webkit-box;display:-webkit-flex;display:-ms-flexbox;display:flex;}\n",
       "/* sc-component-id: SlideCaptionstyles__MobileRuntimeText-sc-8h388a-9 */\n",
       ".cxloje{display:block;font-family:var(--ipt-font-family);margin-left:1rem;} @media (min-width:48em){.cxloje{display:none;}}\n",
       "/* sc-component-id: SlideCaptionWithPeekstyle__WithPeekCaptionContainer-sc-1v8fw6-0 */\n",
       ".ktzslD{display:-webkit-box;display:-webkit-flex;display:-ms-flexbox;display:flex;-webkit-flex-direction:row;-ms-flex-direction:row;flex-direction:row;min-width:0;margin:16px 16px 0;position:absolute;bottom:0;right:0;left:177px;} @media (min-width:48em){.ktzslD{-webkit-align-items:flex-start;-webkit-box-align:flex-start;-ms-flex-align:flex-start;align-items:flex-start;}} @media (min-width:64em) and (max-width:79.9375em){.ktzslD{left:148px;}} @media (min-width:48em) and (max-width:63.9375em){.ktzslD{left:165px;}} @media (min-width:0em) and (max-width:47.9375em){.ktzslD{left:90px;-webkit-flex-direction:column;-ms-flex-direction:column;flex-direction:column;}}\n",
       "/* sc-component-id: SlideCaptionWithPeekstyle__WithPeekCaptionHeading-sc-1v8fw6-1 */\n",
       ".jZASpf{display:-webkit-box;display:-webkit-flex;display:-ms-flexbox;display:flex;-webkit-align-items:flex-end;-webkit-box-align:flex-end;-ms-flex-align:flex-end;align-items:flex-end;} @media (min-width:0em) and (max-width:47.9375em){.jZASpf{font-size:1.25rem;}} @media (min-width:48em){.jZASpf{font-size:34px;line-height:40px;}}\n",
       "/* sc-component-id: SlideCaptionWithPeekstyle__WithPeekCaptionSubHeading-sc-1v8fw6-2 */\n",
       ".kMejoQ{font-family:var(--ipt-font-family);color:var(--ipt-on-baseAlt-textSecondary-color);font-weight:400;margin:0.25rem 0 0;overflow:hidden;text-align:start;text-overflow:ellipsis;white-space:nowrap;} @media (min-width:80em){.kMejoQ{font-size:24px;line-height:32px;}} @media (min-width:48em) and (max-width:79.9375em){.kMejoQ{font-size:20px;line-height:25px;}} @media (min-width:0em) and (max-width:47.9375em){.kMejoQ{font-size:14px;line-height:20px;}}\n",
       "/* sc-component-id: SlideCaptionWithPeekstyle__WithPeekCaptionHeadingText-sc-1v8fw6-3 */\n",
       ".eYwewV{font-family:var(--ipt-font-family);display:-webkit-box;-webkit-line-clamp:2;-webkit-box-orient:vertical;overflow:hidden;} @media (min-width:80em){.eYwewV{font-size:34px;line-height:40px;font-weight:400;max-height:80px;}} @media (min-width:48em) and (max-width:79.9375em){.eYwewV{font-size:24px;line-height:32px;font-weight:400;max-height:64px;}} @media (min-width:31.25em) and (max-width:47.9375em){.eYwewV{font-size:20px;line-height:25px;font-weight:400;max-height:50px;}} @media (min-width:0em) and (max-width:31.1875em){.eYwewV{font-size:16px;line-height:20px;font-weight:400;max-height:40px;}}\n",
       "/* sc-component-id: SlideCaptionWithPeekstyle__WithPeekRuntimeText-sc-1v8fw6-4 */\n",
       ".cFSMOE{color:var(--ipt-on-baseAlt-textSecondary-color);display:none;font-family:var(--ipt-font-family);font-size:1rem;line-height:28px;margin-left:2rem;} @media (min-width:48em){.cFSMOE{display:inline;font-size:1.25rem;-webkit-align-self:flex-end;-ms-flex-item-align:end;align-self:flex-end;}}\n",
       "/* sc-component-id: VideoSlatestyles__SlateImage-sc-13ee1gs-1 */\n",
       ".dkZsig{-webkit-align-items:center;-webkit-box-align:center;-ms-flex-align:center;align-items:center;}\n",
       "/* sc-component-id: VideoSlateWithPeekstyles__WithPeekSlateContainer-oyjpyw-0 */\n",
       ".cqtngf{cursor:pointer;width:100% !important;text-align:left;padding-bottom:70px;position:relative;} .cqtngf.cqtngf{outline:none;} .cqtngf img{height:100%;} .cqtngf:hover .slide-caption-play-icon{color:transparent;} .cqtngf:hover .slide-caption-play-icon g{fill:#f5c518;fill:var(--ipt-on-baseAlt-accent1-color);}\n",
       "/* sc-component-id: AutorotateWithPeekSlidestyles__WithPeekSlideContainer-sc-85l9zx-0 */\n",
       ".behHdd{height:100%;}\n",
       "/* sc-component-id: AutorotateWithPeekSlidestyles__WithPeekDesktopContainer-sc-85l9zx-1 */\n",
       ".kWtTrU{display:-webkit-box;display:-webkit-flex;display:-ms-flexbox;display:flex;position:relative;}\n",
       "/* sc-component-id: AutorotateWithPeekSlidestyles__WithPeekTitlePoster-sc-85l9zx-4 */\n",
       ".cwIihd{position:absolute !important;height:244px !important;width:165px !important;z-index:100;bottom:0;left:16px;} @media (min-width:64em) and (max-width:79.9375em){.cwIihd{height:195px !important;width:132px !important;}} @media (min-width:48em) and (max-width:63.9375em){.cwIihd{height:244px !important;width:165px !important;left:0;}} @media (min-width:0em) and (max-width:47.9375em){.cwIihd{height:140px !important;width:90px !important;left:0;}}\n",
       "/* sc-component-id: AutorotateWithPeekSlidestyles__WithPeekLazyRenderPlaceholder-sc-85l9zx-5 */\n",
       ".dsVNKx{width:100%;height:0;padding-top:56.25%;} @media (min-width:48em){.dsVNKx{padding-top:40.741%;}}\n",
       "/* sc-component-id: AutorotateWithPeekSlidestyles__WithPeekLazyRenderPlaceholderInner-sc-85l9zx-6 */\n",
       ".dKrdIU{position:absolute;top:0;left:0;bottom:0;right:0;}\n",
       "/* sc-component-id: AutorotateWithPeekSlidestyles__WithPeekContainerOverlay-sc-85l9zx-7 */\n",
       ".jTzUIl{background:linear-gradient( 180deg,transparent 0%,transparent 65%,rgba(0,0,0,0.7) 75%,rgba(0,0,0,1) 85%,rgba(0,0,0,1) 100% );background:linear-gradient( 180deg,transparent 0%,transparent 65%,rgba(var(--ipt-baseAlt-rgb),0.7) 77%,rgba(var(--ipt-baseAlt-rgb),1) 85%,rgba(var(--ipt-baseAlt-rgb),1) 100% );} @media (min-width:0em) and (max-width:31.1875em){.jTzUIl{background:linear-gradient( 180deg, transparent 0%, transparent 65%, rgba(0,0,0,0.7) 70%, rgba(0,0,0,1) 82%, rgba(0,0,0,1) 100% );background:linear-gradient( 180deg, transparent 0%, transparent 65%, rgba(var(--ipt-baseAlt-rgb),0.7) 70%, rgba(var(--ipt-baseAlt-rgb),1) 82%, rgba(var(--ipt-baseAlt-rgb),1) 100% );}}\n",
       "/* sc-component-id: AutorotatePeekstyle__EditorialColumnTitleContainer-z2dw6i-0 */\n",
       ".jsWsMV{height:52px;}\n",
       "/* sc-component-id: AutorotatePeekstyle__EditorialColumnContainer-z2dw6i-1 */\n",
       ".dwiBZU{height:444px;overflow:hidden;position:relative;} @media (min-width:64em) and (max-width:79.9375em){.dwiBZU{height:339px;}}\n",
       "/* sc-component-id: AutorotatePeekstyle__EditorialColumn-z2dw6i-2 */\n",
       ".iAixTV{position:absolute;top:0;bottom:0;left:0;right:0;overflow:hidden;background:linear-gradient( 0deg,transparent 0%,transparent 50%,rgba(18,18,18,0.7) 78%,rgba(18,18,18,1) 100% );} .iAixTV .editorial-slots{height:100%;display:-webkit-box;display:-webkit-flex;display:-ms-flexbox;display:flex;-webkit-flex-direction:column;-ms-flex-direction:column;flex-direction:column;top:-296px;position:absolute;width:100%;} @media (min-width:64em) and (max-width:79.9375em){.iAixTV .editorial-slots{top:-226px;}}\n",
       "/* sc-component-id: AutorotatePeekstyle__StyledPosterImage-z2dw6i-3 */\n",
       ".drvZQv{height:100%;width:100% !important;position:absolute !important;left:0;bottom:0;} .drvZQv img{height:100%;width:100%;}\n",
       "/* sc-component-id: AutorotatePeekstyle__EditorialSlot-z2dw6i-4 */\n",
       ".iIQGKv{padding:0 16px;-webkit-flex:0 0 148px;-ms-flex:0 0 148px;flex:0 0 148px;width:100%;position:relative;overflow:hidden;-webkit-transition:all 300ms;transition:all 300ms;} @media (min-width:64em) and (max-width:79.9375em){.iIQGKv{-webkit-flex:0 0 113px;-ms-flex:0 0 113px;flex:0 0 113px;}} .iIQGKv.transit-enter{-webkit-flex-basis:0;-ms-flex-preferred-size:0;flex-basis:0;} .iIQGKv.transit-enter-active{-webkit-flex-basis:148px;-ms-flex-preferred-size:148px;flex-basis:148px;} @media (min-width:64em) and (max-width:79.9375em){.iIQGKv.transit-enter-active{-webkit-flex-basis:113px;-ms-flex-preferred-size:113px;flex-basis:113px;}} .iIQGKv.transit-exit{-webkit-flex-basis:148px;-ms-flex-preferred-size:148px;flex-basis:148px;} @media (min-width:64em) and (max-width:79.9375em){.iIQGKv.transit-exit{-webkit-flex-basis:113px;-ms-flex-preferred-size:113px;flex-basis:113px;}} .iIQGKv.transit-exit-active{-webkit-flex-basis:0;-ms-flex-preferred-size:0;flex-basis:0;}\n",
       "/* sc-component-id: AutorotatePeekstyle__EditorialSlotPoster-z2dw6i-5 */\n",
       ".cNKMWL{position:absolute;left:16px;bottom:0;height:132px;width:88px;} @media (min-width:64em) and (max-width:79.9375em){.cNKMWL{height:97px;width:67px;}}\n",
       "/* sc-component-id: AutorotatePeekstyle__EditorialSlotDetails-z2dw6i-6 */\n",
       ".eXRXJ{position:absolute;top:0;right:0;left:112px;padding:18px 8px 0;overflow:hidden;-webkit-text-decoration:none;text-decoration:none;} .eXRXJ:hover{cursor:pointer;} .eXRXJ:hover .editorial-play-icon{color:transparent;} .eXRXJ:hover .editorial-play-icon g{fill:#f5c518;fill:var(--ipt-on-baseAlt-accent1-color);} @media (min-width:64em) and (max-width:79.9375em){.eXRXJ{left:83px;padding:16px 8px 0;}}\n",
       "/* sc-component-id: AutorotatePeekstyle__EditorialSlotDetail-z2dw6i-7 */\n",
       ".iZWuhv{-webkit-flex:0;-ms-flex:0;flex:0;width:100%;text-align:left;position:relative;}\n",
       "/* sc-component-id: AutorotatePeekstyle__EditorialSlotPlaybackDetail-z2dw6i-8 */\n",
       ".kUrTCY{-webkit-flex:0;-ms-flex:0;flex:0;width:100%;text-align:left;position:relative;margin-bottom:3px;}\n",
       "/* sc-component-id: AutorotatePeekstyle__EditorialSlotTitleDetail-z2dw6i-9 */\n",
       ".duWEHC{-webkit-flex:0;-ms-flex:0;flex:0;width:100%;text-align:left;position:relative;max-height:40px;}\n",
       "/* sc-component-id: AutorotatePeekstyle__EditorialSlotTitle-z2dw6i-10 */\n",
       ".cTXhQE{font-family:var(--ipt-font-family);color:var(--ipt-on-baseAlt-textSecondary-color);color:rgba(255,255,255,0.7);text-align:start;text-overflow:ellipsis;white-space:nowrap;overflow:hidden;font-size:16px;line-height:20px;width:100%;display:inline-block;color:#fff;color:var(--ipt-on-baseAlt-color);white-space:normal;display:-webkit-box;-webkit-line-clamp:2;-webkit-box-orient:vertical;max-height:40px;}\n",
       "/* sc-component-id: AutorotatePeekstyle__EditorialSlotSubtitle-z2dw6i-11 */\n",
       ".eDdnBe{font-family:var(--ipt-font-family);color:var(--ipt-on-baseAlt-textSecondary-color);color:rgba(255,255,255,0.7);text-align:start;text-overflow:ellipsis;white-space:nowrap;overflow:hidden;font-size:14px;line-height:20px;width:100%;display:inline-block;}\n",
       "/* sc-component-id: AutorotatePeekstyle__EditorialSlotRunTime-z2dw6i-12 */\n",
       ".hJHHUo{font-family:var(--ipt-font-family);color:var(--ipt-on-baseAlt-textSecondary-color);color:rgba(255,255,255,0.7);text-align:start;text-overflow:ellipsis;white-space:nowrap;overflow:hidden;font-size:14px;line-height:20px;display:inline-block;}\n",
       "/* sc-component-id: AutorotatePeekstyle__EditorialColumnTitle-z2dw6i-13 */\n",
       ".CwIFp{font-family:var(--ipt-font-family);color:var(--ipt-on-baseAlt-textSecondary-color);color:rgba(255,255,255,0.7);text-align:start;text-overflow:ellipsis;white-space:nowrap;overflow:hidden;font-size:20px;line-height:25px;font-weight:600;display:block;width:100%;padding:4px 0;color:#f5c518;color:rgb(245,197,24);color:var(--ipt-on-baseAlt-accent1-color);text-align:left;}\n",
       "/* sc-component-id: AutorotatePeekstyle__PlayIcon-z2dw6i-14 */\n",
       ".kZmcOc{color:transparent;height:32px;width:32px;margin-right:8px;} .kZmcOc g{fill:#FFFFFF;}\n",
       "/* sc-component-id: AutorotateWithPeekVideoCarouselstyles__WithPeekLayout-sc-1y0e8a1-0 */\n",
       ".VrgqF{position:relative;margin:8px auto;display:-webkit-box;display:-webkit-flex;display:-ms-flexbox;display:flex;-webkit-box-pack:center;-webkit-justify-content:center;-ms-flex-pack:center;justify-content:center;max-width:1280px;} @media (min-width:0em) and (max-width:63.9375em){.VrgqF{-webkit-flex-direction:column;-ms-flex-direction:column;flex-direction:column;}}\n",
       "/* sc-component-id: AutorotateWithPeekVideoCarouselstyles__WithPeekCarouselContainer-sc-1y0e8a1-1 */\n",
       ".dRtPwF{-webkit-flex:846;-ms-flex:846;flex:846;margin:0 8px;position:relative;overflow:hidden;} @media (min-width:64em) and (max-width:79.9375em){.dRtPwF{-webkit-flex:664;-ms-flex:664;flex:664;}} @media (min-width:0em) and (max-width:63.9375em){.dRtPwF{-webkit-flex:100%;-ms-flex:100%;flex:100%;}}\n",
       "/* sc-component-id: AutorotateWithPeekVideoCarouselstyles__WithPeekSideContainer-sc-1y0e8a1-2 */\n",
       ".geYfso{-webkit-flex:402;-ms-flex:402;flex:402;margin:0 8px 0 4px;position:relative;overflow:hidden;display:-webkit-box;display:-webkit-flex;display:-ms-flexbox;display:flex;-webkit-flex-direction:column;-ms-flex-direction:column;flex-direction:column;-webkit-box-pack:justify;-webkit-justify-content:space-between;-ms-flex-pack:justify;justify-content:space-between;} @media (min-width:64em) and (max-width:79.9375em){.geYfso{-webkit-flex:328;-ms-flex:328;flex:328;}} @media (min-width:0em) and (max-width:63.9375em){.geYfso{-webkit-flex:0;-ms-flex:0;flex:0;}}\n",
       "/* sc-component-id: AutorotateWithPeekVideoCarouselstyles__WithPeekEditorialContainer-sc-1y0e8a1-3 */\n",
       ".dnUagO{width:100%;} @media (min-width:0em) and (max-width:63.9375em){.dnUagO{display:none;}}\n",
       "/* sc-component-id: AutorotateWithPeekVideoCarouselstyles__WithPeekBrowseTrailersLinkContainer-sc-1y0e8a1-4 */\n",
       ".dqfMEd{padding:16px 16px 0;text-align:left;} @media (min-width:0em) and (max-width:63.9375em){.dqfMEd{background:none;}}\n",
       "/* sc-component-id: AutorotateWithPeekVideoCarouselstyles__WithPeekStyledCarousel-sc-1y0e8a1-5 */\n",
       ".jTnlGZ{height:100%;width:100%;} .jTnlGZ .swiper-slide{width:100%;}\n",
       "/* sc-component-id: AutorotateWithPeekVideoCarouselstyles__WithPeekBrowseTrailersLink-sc-1y0e8a1-6 */\n",
       ".jjDLdw{-webkit-text-decoration:none;text-decoration:none;font-family:'Roboto',sans-serif;font-family:var(--ipt-font-family);font-size:20px;line-height:25px;font-weight:600;color:#FFFFFF;color:var(--ipt-on-baseAlt-textPrimary-color);} .jjDLdw svg{vertical-align:bottom;} .jjDLdw:hover{color:#f5c518;color:var(--ipt-on-baseAlt-accent1-color);}\n",
       "/* sc-component-id: AutorotateWithPeekVideoCarouselstyles__WithPeekCarouselNextButton-sc-1y0e8a1-8 */\n",
       ".hcwbey.swiper-button-next{right:0;background-image:none;position:absolute;z-index:100;height:100%;top:20%;outline:none;-webkit-user-select:none;-moz-user-select:none;-ms-user-select:none;-o-user-select:none;-webkit-user-select:none;-moz-user-select:none;-ms-user-select:none;user-select:none;} .hcwbey.swiper-button-next.swiper-button-disabled{visibility:hidden;} .hcwbey.swiper-button-next .ipc-shoveler__arrow{opacity:1;pointer-events:auto;} @media (min-width:31.25em) and (max-width:63.9375em){.hcwbey.swiper-button-next{top:10%;}} @media (min-width:0em) and (max-width:31.1875em){.hcwbey.swiper-button-next{top:0;}} @media (min-width:0em) and (max-width:63.9375em){@media (pointer:coarse){.hcwbey.swiper-button-next.swiper-button-next,.hcwbey.swiper-button-next.swiper-button-prev{visibility:hidden;}}}\n",
       "/* sc-component-id: AutorotateWithPeekVideoCarouselstyles__WithPeekCarouselPrevButton-sc-1y0e8a1-9 */\n",
       ".duIESy.swiper-button-prev{left:0;background-image:none;position:absolute;z-index:100;height:100%;top:20%;outline:none;-webkit-user-select:none;-moz-user-select:none;-ms-user-select:none;-o-user-select:none;-webkit-user-select:none;-moz-user-select:none;-ms-user-select:none;user-select:none;} .duIESy.swiper-button-prev.swiper-button-disabled{visibility:hidden;} .duIESy.swiper-button-prev .ipc-shoveler__arrow{opacity:1;pointer-events:auto;} @media (min-width:31.25em) and (max-width:63.9375em){.duIESy.swiper-button-prev{top:10%;}} @media (min-width:0em) and (max-width:31.1875em){.duIESy.swiper-button-prev{top:0;}} @media (min-width:0em) and (max-width:63.9375em){@media (pointer:coarse){.duIESy.swiper-button-prev.swiper-button-next,.duIESy.swiper-button-prev.swiper-button-prev{visibility:hidden;}}}\n",
       "/* sc-component-id: sc-gPEVay */\n",
       ".jekCMh{position:relative;}</style><div id=\"IMDbHomepageSiteReactViews\"><script>\n",
       "(function (win) {\n",
       "    window.PLAID_LOAD_FONTS_FIRED = true;\n",
       "\n",
       "    if (typeof win.FontFace !== \"undefined\"\n",
       "        && typeof win.Promise !== \"undefined\") {\n",
       "        if (win.ue) {\n",
       "            win.uet(\"bb\", \"LoadFonts\", { wb: 1 });\n",
       "        }\n",
       "        var allowableLoadTime = 1000;\n",
       "        var startTimeInt = +new Date();\n",
       "        var fonts = [\n",
       "            \n",
       "    new FontFace(\n",
       "        'Roboto',\n",
       "        'url(https://m.media-amazon.com/images/G/01/IMDb/cm9ib3Rv.woff2)',\n",
       "        {style: \"normal\", weight: 400}\n",
       "    ), \n",
       "    new FontFace(\n",
       "        'Roboto',\n",
       "        'url(https://m.media-amazon.com/images/G/01/IMDb/cm9ib3RvTWVk.woff2)',\n",
       "        {style: \"normal\", weight: 500}\n",
       "    ), \n",
       "    new FontFace(\n",
       "        'Roboto',\n",
       "        'url(https://m.media-amazon.com/images/G/01/IMDb/cm9ib3RvQm9sZA.woff2)',\n",
       "        {style: \"normal\", weight: 600}\n",
       "    )\n",
       "        ];\n",
       "\n",
       "        var loadPromises = [];\n",
       "        for (var i = 0; i < fonts.length; i++) {\n",
       "            loadPromises.push(fonts[i].load());\n",
       "        }\n",
       "\n",
       "        win.Promise.all(loadPromises).then(function() {\n",
       "            var loadTimeInt = +new Date();\n",
       "            var fontLoadedCount = 0;\n",
       "            if ((loadTimeInt - startTimeInt) <= allowableLoadTime) {\n",
       "                for (var j = 0; j < fonts.length; j++) {\n",
       "                    win.document.fonts.add(fonts[j]);\n",
       "                    fontLoadedCount++;\n",
       "                }\n",
       "            }\n",
       "            if (win.ue) {\n",
       "                win.ue.count(\"font-loaded\", fontLoadedCount);\n",
       "                win.uet(\"be\", \"LoadFonts\", { wb: 1 });\n",
       "                win.uex(\"ld\", \"LoadFonts\", { wb: 1 });\n",
       "            }\n",
       "        }).catch(function() {\n",
       "            if (win.ue) {\n",
       "                win.ue.count(\"font-loaded\", 0);\n",
       "            }\n",
       "        });\n",
       "    } else {\n",
       "        if (win.ue) {\n",
       "            win.ue.count(\"font-load-not-attempted\", 1);\n",
       "        }\n",
       "    }\n",
       "})(window);\n",
       "</script><div></div><script async=\"\">\n",
       "        if (window && window.ad_utils && window.ad_utils.makeAtfSlotsCall) {\n",
       "            window.ad_utils.makeAtfSlotsCall(\n",
       "                true, 'https://www.imdb.com/_json/getads/homepage?url=https%3A%2F%2Fwww.imdb.com%2F%3FopfInternalRedirectSessionId%3D000-0000000-0000000&subPageType=maindetails&adLayout=home&targeting=c%3D0', 'inline20,inline40,sis_pixel', {\"inline20\":{\"767\":\"320x50\",\"1023\":\"728x90\",\"1279\":\"970x250\",\"9999\":\"970x250\"},\"inline40\":{\"767\":\"300x250\",\"1023\":\"300x250\",\"1279\":\"300x250\",\"9999\":\"300x250\"}}\n",
       "            );\n",
       "        }\n",
       "    </script><script>if (typeof uet == 'function') { uet(\"ns\");}</script><nav class=\"_18p5u4ia1_7ZElMhXYLfre imdb-header imdb-header--react sc-hMqMXs bmFfZH\" id=\"imdbHeader\"><div class=\"imdb-header__login-state-node\" id=\"nblogin\"></div><div class=\"ipc-page-content-container ipc-page-content-container--center navbar__inner\" role=\"presentation\"><label aria-disabled=\"false\" aria-label=\"Open Navigation Drawer\" class=\"ipc-icon-button y0N-5Z7J0DtTY5cNWNjZ0 sc-kGXeez eGXWKr mobile ipc-icon-button--baseAlt ipc-icon-button--onBase\" for=\"imdbHeader-navDrawer\" id=\"imdbHeader-navDrawerOpen\" role=\"button\" tabindex=\"0\" title=\"Open Navigation Drawer\"><svg class=\"ipc-icon ipc-icon--menu\" fill=\"currentColor\" height=\"24\" role=\"presentation\" viewbox=\"0 0 24 24\" width=\"24\" xmlns=\"http://www.w3.org/2000/svg\"><path d=\"M0 0h24v24H0V0z\" fill=\"none\"></path><path d=\"M4 18h16c.55 0 1-.45 1-1s-.45-1-1-1H4c-.55 0-1 .45-1 1s.45 1 1 1zm0-5h16c.55 0 1-.45 1-1s-.45-1-1-1H4c-.55 0-1 .45-1 1s.45 1 1 1zM3 7c0 .55.45 1 1 1h16c.55 0 1-.45 1-1s-.45-1-1-1H4c-.55 0-1 .45-1 1z\"></path></svg></label><label aria-disabled=\"false\" aria-label=\"Open Navigation Drawer\" class=\"ipc-button ipc-button--single-padding ipc-button--default-height ipc-button--core-baseAlt ipc-button--theme-baseAlt ipc-button--on-textPrimary ipc-text-button y0N-5Z7J0DtTY5cNWNjZ0 sc-kGXeez eGXWKr desktop\" for=\"imdbHeader-navDrawer\" id=\"imdbHeader-navDrawerOpen--desktop\" role=\"button\" tabindex=\"0\"><svg class=\"ipc-icon ipc-icon--menu ipc-button__icon ipc-button__icon--pre\" fill=\"currentColor\" height=\"24\" role=\"presentation\" viewbox=\"0 0 24 24\" width=\"24\" xmlns=\"http://www.w3.org/2000/svg\"><path d=\"M0 0h24v24H0V0z\" fill=\"none\"></path><path d=\"M4 18h16c.55 0 1-.45 1-1s-.45-1-1-1H4c-.55 0-1 .45-1 1s.45 1 1 1zm0-5h16c.55 0 1-.45 1-1s-.45-1-1-1H4c-.55 0-1 .45-1 1s.45 1 1 1zM3 7c0 .55.45 1 1 1h16c.55 0 1-.45 1-1s-.45-1-1-1H4c-.55 0-1 .45-1 1z\"></path></svg><div class=\"ipc-button__text\">Menu</div></label><input aria-hidden=\"true\" class=\"_3vqFsbtuHc7lRMf9zsPxus\" hidden=\"\" id=\"imdbHeader-navDrawer\" name=\"imdbHeader-navDrawer\" type=\"checkbox\"/><aside class=\"_1ju2aDBdVVFcPcrZPSlJvp fyyBsUzB--QjVGJJzBczF imdb-header__nav-drawer sc-VigVT kgjqmD\" data-testid=\"drawer\" role=\"presentation\"><div aria-hidden=\"true\" class=\"lyr9sTGxhvocRns_pOj2r\" data-testid=\"panel\" role=\"presentation\"><div class=\"_1qi_bqG55RhaaowgrBUFki\" data-testid=\"panel-header\" role=\"presentation\"><a href=\"/?ref_=nv_home\"><svg class=\"ipc-logo _31OEZk7-hOsGgr6aTOS5te\" height=\"56\" version=\"1.1\" viewbox=\"0 0 64 32\" width=\"98\" xmlns=\"http://www.w3.org/2000/svg\"><g fill=\"#F5C518\"><rect height=\"100%\" rx=\"4\" width=\"100%\" x=\"0\" y=\"0\"></rect></g><g fill=\"#000000\" fill-rule=\"nonzero\" transform=\"translate(8.000000, 7.000000)\"><polygon points=\"0 18 5 18 5 0 0 0\"></polygon><path d=\"M15.6725178,0 L14.5534833,8.40846934 L13.8582008,3.83502426 C13.65661,2.37009263 13.4632474,1.09175121 13.278113,0 L7,0 L7,18 L11.2416347,18 L11.2580911,6.11380679 L13.0436094,18 L16.0633571,18 L17.7583653,5.8517865 L17.7707076,18 L22,18 L22,0 L15.6725178,0 Z\"></path><path d=\"M24,18 L24,0 L31.8045586,0 C33.5693522,0 35,1.41994415 35,3.17660424 L35,14.8233958 C35,16.5777858 33.5716617,18 31.8045586,18 L24,18 Z M29.8322479,3.2395236 C29.6339219,3.13233348 29.2545158,3.08072342 28.7026524,3.08072342 L28.7026524,14.8914865 C29.4312846,14.8914865 29.8796736,14.7604764 30.0478195,14.4865461 C30.2159654,14.2165858 30.3021941,13.486105 30.3021941,12.2871637 L30.3021941,5.3078959 C30.3021941,4.49404499 30.272014,3.97397442 30.2159654,3.74371416 C30.1599168,3.5134539 30.0348852,3.34671372 29.8322479,3.2395236 Z\"></path><path d=\"M44.4299079,4.50685823 L44.749518,4.50685823 C46.5447098,4.50685823 48,5.91267586 48,7.64486762 L48,14.8619906 C48,16.5950653 46.5451816,18 44.749518,18 L44.4299079,18 C43.3314617,18 42.3602746,17.4736618 41.7718697,16.6682739 L41.4838962,17.7687785 L37,17.7687785 L37,0 L41.7843263,0 L41.7843263,5.78053556 C42.4024982,5.01015739 43.3551514,4.50685823 44.4299079,4.50685823 Z M43.4055679,13.2842155 L43.4055679,9.01907814 C43.4055679,8.31433946 43.3603268,7.85185468 43.2660746,7.63896485 C43.1718224,7.42607505 42.7955881,7.2893916 42.5316822,7.2893916 C42.267776,7.2893916 41.8607934,7.40047379 41.7816216,7.58767002 L41.7816216,9.01907814 L41.7816216,13.4207851 L41.7816216,14.8074788 C41.8721037,15.0130276 42.2602358,15.1274059 42.5316822,15.1274059 C42.8031285,15.1274059 43.1982131,15.0166981 43.281155,14.8074788 C43.3640968,14.5982595 43.4055679,14.0880581 43.4055679,13.2842155 Z\"></path></g></svg></a><label aria-disabled=\"false\" aria-label=\"Close Navigation Drawer\" class=\"ipc-icon-button BoMErbIIt00tb_ZoTOWZv ipc-icon-button--baseAlt ipc-icon-button--onBase\" for=\"imdbHeader-navDrawer\" role=\"button\" tabindex=\"0\" title=\"Close Navigation Drawer\"><svg class=\"ipc-icon ipc-icon--clear\" fill=\"currentColor\" height=\"24\" role=\"presentation\" viewbox=\"0 0 24 24\" width=\"24\" xmlns=\"http://www.w3.org/2000/svg\"><path d=\"M0 0h24v24H0V0z\" fill=\"none\"></path><path d=\"M18.3 5.71a.996.996 0 0 0-1.41 0L12 10.59 7.11 5.7A.996.996 0 1 0 5.7 7.11L10.59 12 5.7 16.89a.996.996 0 1 0 1.41 1.41L12 13.41l4.89 4.89a.996.996 0 1 0 1.41-1.41L13.41 12l4.89-4.89c.38-.38.38-1.02 0-1.4z\"></path></svg></label></div><div class=\"KwBCkDEj0GWPCoK4HmZ2T\" data-testid=\"panel-content\" role=\"presentation\"><div class=\"kAAV4DNfVFVqrHphChj4B sc-kAzzGY iQWAlG\" role=\"presentation\"><li class=\"ipc-list-divider _1bKcOWQ444SDYrHdrDfuVi\" role=\"separator\"></li><div class=\"_1K0S44SUv8s7pXTI-caWlb sc-fjdhpX dYzJro\" data-testid=\"nav-link-category\" role=\"presentation\"><input aria-hidden=\"true\" class=\"_16jTCq9eBU0A38SFBAoU8k\" data-category-id=\"mov\" hidden=\"\" id=\"nav-link-categories-mov\" name=\"nav-categories-list\" tabindex=\"-1\" type=\"radio\"/><span class=\"_299G6wcz6LCpY_QFQJtc76\"><label aria-label=\"Expand Movies Nav Links\" class=\"_1UO7JWXJx2A3lPt87JY0Gh\" data-testid=\"category-expando\" for=\"nav-link-categories-mov\" role=\"button\" tabindex=\"0\"><span class=\"_2Iv_l4vJVkTcKsXSsnjoyl\"><svg class=\"ipc-icon ipc-icon--movie\" fill=\"currentColor\" height=\"24\" role=\"presentation\" viewbox=\"0 0 24 24\" width=\"24\" xmlns=\"http://www.w3.org/2000/svg\"><path d=\"M0 0h24v24H0V0z\" fill=\"none\"></path><path d=\"M18 4v1h-2V4c0-.55-.45-1-1-1H9c-.55 0-1 .45-1 1v1H6V4c0-.55-.45-1-1-1s-1 .45-1 1v16c0 .55.45 1 1 1s1-.45 1-1v-1h2v1c0 .55.45 1 1 1h6c.55 0 1-.45 1-1v-1h2v1c0 .55.45 1 1 1s1-.45 1-1V4c0-.55-.45-1-1-1s-1 .45-1 1zM8 17H6v-2h2v2zm0-4H6v-2h2v2zm0-4H6V7h2v2zm10 8h-2v-2h2v2zm0-4h-2v-2h2v2zm0-4h-2V7h2v2z\"></path></svg></span><span class=\"_3ljuaKnLgmSdYVv9u-R2kl\">Movies</span><span class=\"_3eshWnjV18LJcWXsSl9YJv\"><svg class=\"ipc-icon ipc-icon--chevron-right\" fill=\"currentColor\" height=\"24\" role=\"presentation\" viewbox=\"0 0 24 24\" width=\"24\" xmlns=\"http://www.w3.org/2000/svg\"><path d=\"M0 0h24v24H0V0z\" fill=\"none\"></path><path d=\"M9.29 6.71a.996.996 0 0 0 0 1.41L13.17 12l-3.88 3.88a.996.996 0 1 0 1.41 1.41l4.59-4.59a.996.996 0 0 0 0-1.41L10.7 6.7c-.38-.38-1.02-.38-1.41.01z\"></path></svg></span></label><div aria-expanded=\"false\" aria-hidden=\"true\" class=\"_3ugJBFJR4_oBad38XOic2A\" data-testid=\"list-container\"><div class=\"V1pMcXJmaAj_xVf9Ebt4r\" role=\"presentation\"><ul aria-orientation=\"vertical\" class=\"ipc-list _1BHmFYrYdlAF0gND-D42MO ipc-list--baseAlt\" role=\"menu\"><a aria-disabled=\"false\" class=\"ipc-list__item nav-link sc-jTzLTM fjLstn ipc-list__item--indent-one\" href=\"https://www.imdb.com/calendar/?ref_=nv_mv_cal\" role=\"menuitem\" tabindex=\"-1\"><span class=\"ipc-list-item__text\" role=\"presentation\">Release Calendar</span></a><a aria-disabled=\"false\" class=\"ipc-list__item nav-link nav-link--hideXS nav-link--hideS nav-link--hideM sc-jTzLTM fjLstn ipc-list__item--indent-one\" href=\"https://www.imdb.com/list/ls016522954/?ref_=nv_tvv_dvd\" role=\"menuitem\" tabindex=\"-1\"><span class=\"ipc-list-item__text\" role=\"presentation\">DVD &amp; Blu-ray Releases</span></a><a aria-disabled=\"false\" class=\"ipc-list__item nav-link sc-jTzLTM fjLstn ipc-list__item--indent-one\" href=\"/chart/top/?ref_=nv_mv_250\" role=\"menuitem\" tabindex=\"-1\"><span class=\"ipc-list-item__text\" role=\"presentation\">Top Rated Movies</span></a><a aria-disabled=\"false\" class=\"ipc-list__item nav-link sc-jTzLTM fjLstn ipc-list__item--indent-one\" href=\"/chart/moviemeter/?ref_=nv_mv_mpm\" role=\"menuitem\" tabindex=\"-1\"><span class=\"ipc-list-item__text\" role=\"presentation\">Most Popular Movies</span></a><a aria-disabled=\"false\" class=\"ipc-list__item nav-link nav-link--hideXS nav-link--hideS nav-link--hideM sc-jTzLTM fjLstn ipc-list__item--indent-one\" href=\"https://www.imdb.com/feature/genre/?ref_=nv_ch_gr\" role=\"menuitem\" tabindex=\"-1\"><span class=\"ipc-list-item__text\" role=\"presentation\">Browse Movies by Genre</span></a><a aria-disabled=\"false\" class=\"ipc-list__item nav-link sc-jTzLTM fjLstn ipc-list__item--indent-one\" href=\"/chart/boxoffice/?ref_=nv_ch_cht\" role=\"menuitem\" tabindex=\"-1\"><span class=\"ipc-list-item__text\" role=\"presentation\">Top Box Office</span></a><a aria-disabled=\"false\" class=\"ipc-list__item nav-link nav-link--hideL nav-link--hideXL sc-jTzLTM fjLstn ipc-list__item--indent-one\" href=\"https://m.imdb.com/showtimes/movie/?ref_=nv_mv_sh\" role=\"menuitem\" tabindex=\"-1\"><span class=\"ipc-list-item__text\" role=\"presentation\">Showtimes &amp; Tickets</span></a><a aria-disabled=\"false\" class=\"ipc-list__item nav-link nav-link--hideXS nav-link--hideS nav-link--hideM sc-jTzLTM fjLstn ipc-list__item--indent-one\" href=\"https://www.imdb.com/showtimes/?ref_=nv_mv_sh\" role=\"menuitem\" tabindex=\"-1\"><span class=\"ipc-list-item__text\" role=\"presentation\">Showtimes &amp; Tickets</span></a><a aria-disabled=\"false\" class=\"ipc-list__item nav-link nav-link--hideXS nav-link--hideS nav-link--hideM sc-jTzLTM fjLstn ipc-list__item--indent-one\" href=\"https://www.imdb.com/movies-in-theaters/?ref_=nv_mv_inth\" role=\"menuitem\" tabindex=\"-1\"><span class=\"ipc-list-item__text\" role=\"presentation\">In Theaters</span></a><a aria-disabled=\"false\" class=\"ipc-list__item nav-link nav-link--hideL nav-link--hideXL sc-jTzLTM fjLstn ipc-list__item--indent-one\" href=\"https://m.imdb.com/coming-soon/?ref_=nv_mv_cs\" role=\"menuitem\" tabindex=\"-1\"><span class=\"ipc-list-item__text\" role=\"presentation\">Coming Soon</span></a><a aria-disabled=\"false\" class=\"ipc-list__item nav-link nav-link--hideXS nav-link--hideS nav-link--hideM sc-jTzLTM fjLstn ipc-list__item--indent-one\" href=\"https://www.imdb.com/coming-soon/?ref_=nv_mv_cs\" role=\"menuitem\" tabindex=\"-1\"><span class=\"ipc-list-item__text\" role=\"presentation\">Coming Soon</span></a><a aria-disabled=\"false\" class=\"ipc-list__item nav-link sc-jTzLTM fjLstn ipc-list__item--indent-one\" href=\"/news/movie/?ref_=nv_nw_mv\" role=\"menuitem\" tabindex=\"-1\"><span class=\"ipc-list-item__text\" role=\"presentation\">Movie News</span></a><a aria-disabled=\"false\" class=\"ipc-list__item nav-link sc-jTzLTM fjLstn ipc-list__item--indent-one\" href=\"/india/toprated/?ref_=nv_mv_in\" role=\"menuitem\" tabindex=\"-1\"><span class=\"ipc-list-item__text\" role=\"presentation\">India Movie Spotlight</span></a></ul></div></div></span></div><div class=\"sc-jzJRlG jGFlLU\" data-testid=\"grouped-link-category\"><div class=\"_1K0S44SUv8s7pXTI-caWlb sc-fjdhpX dYzJro\" data-testid=\"nav-link-category\" role=\"presentation\"><input aria-hidden=\"true\" class=\"_16jTCq9eBU0A38SFBAoU8k\" data-category-id=\"tvshows\" hidden=\"\" id=\"nav-link-categories-tvshows\" name=\"nav-categories-list\" tabindex=\"-1\" type=\"radio\"/><span class=\"_299G6wcz6LCpY_QFQJtc76\"><label aria-label=\"Expand TV Shows Nav Links\" class=\"_1UO7JWXJx2A3lPt87JY0Gh\" data-testid=\"category-expando\" for=\"nav-link-categories-tvshows\" role=\"button\" tabindex=\"0\"><span class=\"_2Iv_l4vJVkTcKsXSsnjoyl\"><svg class=\"ipc-icon ipc-icon--television\" fill=\"currentColor\" height=\"24\" role=\"presentation\" viewbox=\"0 0 24 24\" width=\"24\" xmlns=\"http://www.w3.org/2000/svg\"><path d=\"M0 0h24v24H0V0z\" fill=\"none\"></path><path d=\"M21 3H3c-1.1 0-2 .9-2 2v12c0 1.1.9 2 2 2h5v1c0 .55.45 1 1 1h6c.55 0 1-.45 1-1v-1h5c1.1 0 1.99-.9 1.99-2L23 5a2 2 0 0 0-2-2zm-1 14H4c-.55 0-1-.45-1-1V6c0-.55.45-1 1-1h16c.55 0 1 .45 1 1v10c0 .55-.45 1-1 1z\"></path></svg></span><span class=\"_3ljuaKnLgmSdYVv9u-R2kl\">TV Shows</span><span class=\"_3eshWnjV18LJcWXsSl9YJv\"><svg class=\"ipc-icon ipc-icon--chevron-right\" fill=\"currentColor\" height=\"24\" role=\"presentation\" viewbox=\"0 0 24 24\" width=\"24\" xmlns=\"http://www.w3.org/2000/svg\"><path d=\"M0 0h24v24H0V0z\" fill=\"none\"></path><path d=\"M9.29 6.71a.996.996 0 0 0 0 1.41L13.17 12l-3.88 3.88a.996.996 0 1 0 1.41 1.41l4.59-4.59a.996.996 0 0 0 0-1.41L10.7 6.7c-.38-.38-1.02-.38-1.41.01z\"></path></svg></span></label><div aria-expanded=\"false\" aria-hidden=\"true\" class=\"_3ugJBFJR4_oBad38XOic2A\" data-testid=\"list-container\"><div class=\"V1pMcXJmaAj_xVf9Ebt4r\" role=\"presentation\"><ul aria-orientation=\"vertical\" class=\"ipc-list _1BHmFYrYdlAF0gND-D42MO ipc-list--baseAlt\" role=\"menu\"><a aria-disabled=\"false\" class=\"ipc-list__item nav-link nav-link--hideXS nav-link--hideS nav-link--hideM sc-jTzLTM fjLstn ipc-list__item--indent-one\" href=\"https://www.imdb.com/whats-on-tv/?ref_=nv_tv_ontv\" role=\"menuitem\" tabindex=\"-1\"><span class=\"ipc-list-item__text\" role=\"presentation\">What's on TV &amp; Streaming</span></a><a aria-disabled=\"false\" class=\"ipc-list__item nav-link nav-link--hideL nav-link--hideXL sc-jTzLTM fjLstn ipc-list__item--indent-one\" href=\"https://m.imdb.com/whats-on-tv/?ref_=nv_tv_ontv\" role=\"menuitem\" tabindex=\"-1\"><span class=\"ipc-list-item__text\" role=\"presentation\">What's on TV &amp; Streaming</span></a><a aria-disabled=\"false\" class=\"ipc-list__item nav-link sc-jTzLTM fjLstn ipc-list__item--indent-one\" href=\"/chart/toptv/?ref_=nv_tvv_250\" role=\"menuitem\" tabindex=\"-1\"><span class=\"ipc-list-item__text\" role=\"presentation\">Top Rated Shows</span></a><a aria-disabled=\"false\" class=\"ipc-list__item nav-link sc-jTzLTM fjLstn ipc-list__item--indent-one\" href=\"/chart/tvmeter/?ref_=nv_tvv_mptv\" role=\"menuitem\" tabindex=\"-1\"><span class=\"ipc-list-item__text\" role=\"presentation\">Most Popular Shows</span></a><a aria-disabled=\"false\" class=\"ipc-list__item nav-link nav-link--hideXS nav-link--hideS nav-link--hideM sc-jTzLTM fjLstn ipc-list__item--indent-one\" href=\"https://www.imdb.com/feature/genre/?ref_=nv_tv_gr\" role=\"menuitem\" tabindex=\"-1\"><span class=\"ipc-list-item__text\" role=\"presentation\">Browse TV Shows by Genre</span></a><a aria-disabled=\"false\" class=\"ipc-list__item nav-link sc-jTzLTM fjLstn ipc-list__item--indent-one\" href=\"/news/tv/?ref_=nv_nw_tv\" role=\"menuitem\" tabindex=\"-1\"><span class=\"ipc-list-item__text\" role=\"presentation\">TV News</span></a><a aria-disabled=\"false\" class=\"ipc-list__item nav-link sc-jTzLTM fjLstn ipc-list__item--indent-one\" href=\"/india/tv?ref_=nv_tv_in\" role=\"menuitem\" tabindex=\"-1\"><span class=\"ipc-list-item__text\" role=\"presentation\">India TV Spotlight</span></a></ul></div></div></span></div><div class=\"_1K0S44SUv8s7pXTI-caWlb sc-fjdhpX dYzJro\" data-testid=\"nav-link-category\" role=\"presentation\"><input aria-hidden=\"true\" class=\"_16jTCq9eBU0A38SFBAoU8k\" data-category-id=\"video\" hidden=\"\" id=\"nav-link-categories-video\" name=\"nav-categories-list\" tabindex=\"-1\" type=\"radio\"/><span class=\"_299G6wcz6LCpY_QFQJtc76\"><label aria-label=\"Expand Watch Nav Links\" class=\"_1UO7JWXJx2A3lPt87JY0Gh\" data-testid=\"category-expando\" for=\"nav-link-categories-video\" role=\"button\" tabindex=\"0\"><span class=\"_2Iv_l4vJVkTcKsXSsnjoyl\"><svg class=\"ipc-icon ipc-icon--video-library\" fill=\"currentColor\" height=\"24\" role=\"presentation\" viewbox=\"0 0 24 24\" width=\"24\" xmlns=\"http://www.w3.org/2000/svg\"><path d=\"M3 6c-.55 0-1 .45-1 1v13c0 1.1.9 2 2 2h13c.55 0 1-.45 1-1s-.45-1-1-1H5c-.55 0-1-.45-1-1V7c0-.55-.45-1-1-1zm17-4H8c-1.1 0-2 .9-2 2v12c0 1.1.9 2 2 2h12c1.1 0 2-.9 2-2V4c0-1.1-.9-2-2-2zm-8 12.5v-9l5.47 4.1c.27.2.27.6 0 .8L12 14.5z\"></path></svg></span><span class=\"_3ljuaKnLgmSdYVv9u-R2kl\">Watch</span><span class=\"_3eshWnjV18LJcWXsSl9YJv\"><svg class=\"ipc-icon ipc-icon--chevron-right\" fill=\"currentColor\" height=\"24\" role=\"presentation\" viewbox=\"0 0 24 24\" width=\"24\" xmlns=\"http://www.w3.org/2000/svg\"><path d=\"M0 0h24v24H0V0z\" fill=\"none\"></path><path d=\"M9.29 6.71a.996.996 0 0 0 0 1.41L13.17 12l-3.88 3.88a.996.996 0 1 0 1.41 1.41l4.59-4.59a.996.996 0 0 0 0-1.41L10.7 6.7c-.38-.38-1.02-.38-1.41.01z\"></path></svg></span></label><div aria-expanded=\"false\" aria-hidden=\"true\" class=\"_3ugJBFJR4_oBad38XOic2A\" data-testid=\"list-container\"><div class=\"V1pMcXJmaAj_xVf9Ebt4r\" role=\"presentation\"><ul aria-orientation=\"vertical\" class=\"ipc-list _1BHmFYrYdlAF0gND-D42MO ipc-list--baseAlt\" role=\"menu\"><a aria-disabled=\"false\" class=\"ipc-list__item nav-link sc-jTzLTM fjLstn ipc-list__item--indent-one\" href=\"/what-to-watch/?ref_=nv_watch\" role=\"menuitem\" tabindex=\"-1\"><span class=\"ipc-list-item__text\" role=\"presentation\">What to Watch</span></a><a aria-disabled=\"false\" class=\"ipc-list__item nav-link sc-jTzLTM fjLstn ipc-list__item--indent-one\" href=\"/trailers/?ref_=nv_mv_tr\" role=\"menuitem\" tabindex=\"-1\"><span class=\"ipc-list-item__text\" role=\"presentation\">Latest Trailers</span></a><a aria-disabled=\"false\" class=\"ipc-list__item nav-link sc-jTzLTM fjLstn ipc-list__item--indent-one\" href=\"/originals/?ref_=nv_sf_ori\" role=\"menuitem\" tabindex=\"-1\"><span class=\"ipc-list-item__text\" role=\"presentation\">IMDb Originals</span></a><a aria-disabled=\"false\" class=\"ipc-list__item nav-link sc-jTzLTM fjLstn ipc-list__item--indent-one\" href=\"/imdbpicks/?ref_=nv_pi\" role=\"menuitem\" tabindex=\"-1\"><span class=\"ipc-list-item__text\" role=\"presentation\">IMDb Picks</span></a><a aria-disabled=\"false\" class=\"ipc-list__item nav-link sc-jTzLTM fjLstn ipc-list__item--indent-one\" href=\"/podcasts/?ref_=nv_pod\" role=\"menuitem\" tabindex=\"-1\"><span class=\"ipc-list-item__text\" role=\"presentation\">IMDb Podcasts</span></a></ul></div></div></span></div></div><div class=\"_1K0S44SUv8s7pXTI-caWlb sc-fjdhpX dYzJro\" data-testid=\"nav-link-category\" role=\"presentation\"><input aria-hidden=\"true\" class=\"_16jTCq9eBU0A38SFBAoU8k\" data-category-id=\"awards\" hidden=\"\" id=\"nav-link-categories-awards\" name=\"nav-categories-list\" tabindex=\"-1\" type=\"radio\"/><span class=\"_299G6wcz6LCpY_QFQJtc76\"><label aria-label=\"Expand Awards &amp; Events Nav Links\" class=\"_1UO7JWXJx2A3lPt87JY0Gh\" data-testid=\"category-expando\" for=\"nav-link-categories-awards\" role=\"button\" tabindex=\"0\"><span class=\"_2Iv_l4vJVkTcKsXSsnjoyl\"><svg class=\"ipc-icon ipc-icon--star-circle-filled\" fill=\"currentColor\" height=\"24\" role=\"presentation\" viewbox=\"0 0 24 24\" width=\"24\" xmlns=\"http://www.w3.org/2000/svg\"><path d=\"M0 0h24v24H0V0z\" fill=\"none\"></path><path d=\"M11.99 2C6.47 2 2 6.48 2 12s4.47 10 9.99 10C17.52 22 22 17.52 22 12S17.52 2 11.99 2zm3.23 15.39L12 15.45l-3.22 1.94a.502.502 0 0 1-.75-.54l.85-3.66-2.83-2.45a.505.505 0 0 1 .29-.88l3.74-.32 1.46-3.45c.17-.41.75-.41.92 0l1.46 3.44 3.74.32a.5.5 0 0 1 .28.88l-2.83 2.45.85 3.67c.1.43-.36.77-.74.54z\"></path></svg></span><span class=\"_3ljuaKnLgmSdYVv9u-R2kl\">Awards &amp; Events</span><span class=\"_3eshWnjV18LJcWXsSl9YJv\"><svg class=\"ipc-icon ipc-icon--chevron-right\" fill=\"currentColor\" height=\"24\" role=\"presentation\" viewbox=\"0 0 24 24\" width=\"24\" xmlns=\"http://www.w3.org/2000/svg\"><path d=\"M0 0h24v24H0V0z\" fill=\"none\"></path><path d=\"M9.29 6.71a.996.996 0 0 0 0 1.41L13.17 12l-3.88 3.88a.996.996 0 1 0 1.41 1.41l4.59-4.59a.996.996 0 0 0 0-1.41L10.7 6.7c-.38-.38-1.02-.38-1.41.01z\"></path></svg></span></label><div aria-expanded=\"false\" aria-hidden=\"true\" class=\"_3ugJBFJR4_oBad38XOic2A\" data-testid=\"list-container\"><div class=\"V1pMcXJmaAj_xVf9Ebt4r\" role=\"presentation\"><ul aria-orientation=\"vertical\" class=\"ipc-list _1BHmFYrYdlAF0gND-D42MO ipc-list--baseAlt\" role=\"menu\"><a aria-disabled=\"false\" class=\"ipc-list__item nav-link sc-jTzLTM fjLstn ipc-list__item--indent-one\" href=\"/oscars/?ref_=nv_ev_acd\" role=\"menuitem\" tabindex=\"-1\"><span class=\"ipc-list-item__text\" role=\"presentation\">Oscars</span></a><a aria-disabled=\"false\" class=\"ipc-list__item nav-link nav-link--hideL nav-link--hideXL sc-jTzLTM fjLstn ipc-list__item--indent-one\" href=\"https://m.imdb.com/feature/bestpicture/?ref_=nv_ch_osc\" role=\"menuitem\" tabindex=\"-1\"><span class=\"ipc-list-item__text\" role=\"presentation\">Best Picture Winners</span></a><a aria-disabled=\"false\" class=\"ipc-list__item nav-link nav-link--hideXS nav-link--hideS nav-link--hideM sc-jTzLTM fjLstn ipc-list__item--indent-one\" href=\"https://www.imdb.com/search/title/?count=100&amp;groups=oscar_best_picture_winners&amp;sort=year%2Cdesc&amp;ref_=nv_ch_osc\" role=\"menuitem\" tabindex=\"-1\"><span class=\"ipc-list-item__text\" role=\"presentation\">Best Picture Winners</span></a><a aria-disabled=\"false\" class=\"ipc-list__item nav-link sc-jTzLTM fjLstn ipc-list__item--indent-one\" href=\"/golden-globes/?ref_=nv_ev_gg\" role=\"menuitem\" tabindex=\"-1\"><span class=\"ipc-list-item__text\" role=\"presentation\">Golden Globes</span></a><a aria-disabled=\"false\" class=\"ipc-list__item nav-link sc-jTzLTM fjLstn ipc-list__item--indent-one\" href=\"/emmys/?ref_=nv_ev_rte\" role=\"menuitem\" tabindex=\"-1\"><span class=\"ipc-list-item__text\" role=\"presentation\">Emmys</span></a><a aria-disabled=\"false\" class=\"ipc-list__item nav-link sc-jTzLTM fjLstn ipc-list__item--indent-one\" href=\"/imdbpicks/blackhistorymonth?ref_=nv_ev_bhm\" role=\"menuitem\" tabindex=\"-1\"><span class=\"ipc-list-item__text\" role=\"presentation\">Black History Month</span></a><a aria-disabled=\"false\" class=\"ipc-list__item nav-link sc-jTzLTM fjLstn ipc-list__item--indent-one\" href=\"/starmeterawards/?ref_=nv_ev_sma\" role=\"menuitem\" tabindex=\"-1\"><span class=\"ipc-list-item__text\" role=\"presentation\">STARmeter Awards</span></a><a aria-disabled=\"false\" class=\"ipc-list__item nav-link sc-jTzLTM fjLstn ipc-list__item--indent-one\" href=\"/comic-con/?ref_=nv_ev_comic\" role=\"menuitem\" tabindex=\"-1\"><span class=\"ipc-list-item__text\" role=\"presentation\">San Diego Comic-Con</span></a><a aria-disabled=\"false\" class=\"ipc-list__item nav-link sc-jTzLTM fjLstn ipc-list__item--indent-one\" href=\"/nycc/?ref_=nv_ev_nycc\" role=\"menuitem\" tabindex=\"-1\"><span class=\"ipc-list-item__text\" role=\"presentation\">New York Comic-Con</span></a><a aria-disabled=\"false\" class=\"ipc-list__item nav-link sc-jTzLTM fjLstn ipc-list__item--indent-one\" href=\"/sundance/?ref_=nv_ev_sun\" role=\"menuitem\" tabindex=\"-1\"><span class=\"ipc-list-item__text\" role=\"presentation\">Sundance Film Festival</span></a><a aria-disabled=\"false\" class=\"ipc-list__item nav-link sc-jTzLTM fjLstn ipc-list__item--indent-one\" href=\"/toronto/?ref_=nv_ev_tor\" role=\"menuitem\" tabindex=\"-1\"><span class=\"ipc-list-item__text\" role=\"presentation\">Toronto Int'l Film Festival</span></a><a aria-disabled=\"false\" class=\"ipc-list__item nav-link sc-jTzLTM fjLstn ipc-list__item--indent-one\" href=\"/awards-central/?ref_=nv_ev_awrd\" role=\"menuitem\" tabindex=\"-1\"><span class=\"ipc-list-item__text\" role=\"presentation\">Awards Central</span></a><a aria-disabled=\"false\" class=\"ipc-list__item nav-link sc-jTzLTM fjLstn ipc-list__item--indent-one\" href=\"/festival-central/?ref_=nv_ev_fc\" role=\"menuitem\" tabindex=\"-1\"><span class=\"ipc-list-item__text\" role=\"presentation\">Festival Central</span></a><a aria-disabled=\"false\" class=\"ipc-list__item nav-link sc-jTzLTM fjLstn ipc-list__item--indent-one\" href=\"https://www.imdb.com/event/all/?ref_=nv_ev_all\" role=\"menuitem\" tabindex=\"-1\"><span class=\"ipc-list-item__text\" role=\"presentation\">All Events</span></a></ul></div></div></span></div><div class=\"_1K0S44SUv8s7pXTI-caWlb noMarginItem sc-fjdhpX dYzJro\" data-testid=\"nav-link-category\" role=\"presentation\"><input aria-hidden=\"true\" class=\"_16jTCq9eBU0A38SFBAoU8k\" data-category-id=\"celebs\" hidden=\"\" id=\"nav-link-categories-celebs\" name=\"nav-categories-list\" tabindex=\"-1\" type=\"radio\"/><span class=\"_299G6wcz6LCpY_QFQJtc76\"><label aria-label=\"Expand Celebs Nav Links\" class=\"_1UO7JWXJx2A3lPt87JY0Gh\" data-testid=\"category-expando\" for=\"nav-link-categories-celebs\" role=\"button\" tabindex=\"0\"><span class=\"_2Iv_l4vJVkTcKsXSsnjoyl\"><svg class=\"ipc-icon ipc-icon--people\" fill=\"currentColor\" height=\"24\" role=\"presentation\" viewbox=\"0 0 24 24\" width=\"24\" xmlns=\"http://www.w3.org/2000/svg\"><path d=\"M0 0h24v24H0V0z\" fill=\"none\"></path><path d=\"M16 11c1.66 0 2.99-1.34 2.99-3S17.66 5 16 5s-3 1.34-3 3 1.34 3 3 3zm-8 0c1.66 0 2.99-1.34 2.99-3S9.66 5 8 5 5 6.34 5 8s1.34 3 3 3zm0 2c-2.33 0-7 1.17-7 3.5V18c0 .55.45 1 1 1h12c.55 0 1-.45 1-1v-1.5c0-2.33-4.67-3.5-7-3.5zm8 0c-.29 0-.62.02-.97.05.02.01.03.03.04.04 1.14.83 1.93 1.94 1.93 3.41V18c0 .35-.07.69-.18 1H22c.55 0 1-.45 1-1v-1.5c0-2.33-4.67-3.5-7-3.5z\"></path></svg></span><span class=\"_3ljuaKnLgmSdYVv9u-R2kl\">Celebs</span><span class=\"_3eshWnjV18LJcWXsSl9YJv\"><svg class=\"ipc-icon ipc-icon--chevron-right\" fill=\"currentColor\" height=\"24\" role=\"presentation\" viewbox=\"0 0 24 24\" width=\"24\" xmlns=\"http://www.w3.org/2000/svg\"><path d=\"M0 0h24v24H0V0z\" fill=\"none\"></path><path d=\"M9.29 6.71a.996.996 0 0 0 0 1.41L13.17 12l-3.88 3.88a.996.996 0 1 0 1.41 1.41l4.59-4.59a.996.996 0 0 0 0-1.41L10.7 6.7c-.38-.38-1.02-.38-1.41.01z\"></path></svg></span></label><div aria-expanded=\"false\" aria-hidden=\"true\" class=\"_3ugJBFJR4_oBad38XOic2A\" data-testid=\"list-container\"><div class=\"V1pMcXJmaAj_xVf9Ebt4r\" role=\"presentation\"><ul aria-orientation=\"vertical\" class=\"ipc-list _1BHmFYrYdlAF0gND-D42MO ipc-list--baseAlt\" role=\"menu\"><a aria-disabled=\"false\" class=\"ipc-list__item nav-link sc-jTzLTM fjLstn ipc-list__item--indent-one\" href=\"/feature/bornondate/?ref_=nv_cel_brn\" role=\"menuitem\" tabindex=\"-1\"><span class=\"ipc-list-item__text\" role=\"presentation\">Born Today</span></a><a aria-disabled=\"false\" class=\"ipc-list__item nav-link nav-link--hideL nav-link--hideXL sc-jTzLTM fjLstn ipc-list__item--indent-one\" href=\"https://m.imdb.com/chart/starmeter/?ref_=nv_cel_brn\" role=\"menuitem\" tabindex=\"-1\"><span class=\"ipc-list-item__text\" role=\"presentation\">Most Popular Celebs</span></a><a aria-disabled=\"false\" class=\"ipc-list__item nav-link nav-link--hideXS nav-link--hideS nav-link--hideM sc-jTzLTM fjLstn ipc-list__item--indent-one\" href=\"https://www.imdb.com/search/name/?gender=male%2Cfemale&amp;ref_=nv_cel_m\" role=\"menuitem\" tabindex=\"-1\"><span class=\"ipc-list-item__text\" role=\"presentation\">Most Popular Celebs</span></a><a aria-disabled=\"false\" class=\"ipc-list__item nav-link sc-jTzLTM fjLstn ipc-list__item--indent-one\" href=\"/news/celebrity/?ref_=nv_cel_nw\" role=\"menuitem\" tabindex=\"-1\"><span class=\"ipc-list-item__text\" role=\"presentation\">Celebrity News</span></a></ul></div></div></span></div><div class=\"sc-cSHVUG bgzAeT\" data-testid=\"nav-link-category\"></div><div class=\"_1K0S44SUv8s7pXTI-caWlb noMarginItem sc-fjdhpX dYzJro\" data-testid=\"nav-link-category\" role=\"presentation\"><input aria-hidden=\"true\" class=\"_16jTCq9eBU0A38SFBAoU8k\" data-category-id=\"comm\" hidden=\"\" id=\"nav-link-categories-comm\" name=\"nav-categories-list\" tabindex=\"-1\" type=\"radio\"/><span class=\"_299G6wcz6LCpY_QFQJtc76\"><label aria-label=\"Expand Community Nav Links\" class=\"_1UO7JWXJx2A3lPt87JY0Gh\" data-testid=\"category-expando\" for=\"nav-link-categories-comm\" role=\"button\" tabindex=\"0\"><span class=\"_2Iv_l4vJVkTcKsXSsnjoyl\"><svg class=\"ipc-icon ipc-icon--earth\" fill=\"currentColor\" height=\"24\" role=\"presentation\" viewbox=\"0 0 24 24\" width=\"24\" xmlns=\"http://www.w3.org/2000/svg\"><path d=\"M0 0h24v24H0V0z\" fill=\"none\"></path><path d=\"M12 2C6.48 2 2 6.48 2 12s4.48 10 10 10 10-4.48 10-10S17.52 2 12 2zm-1 17.93c-3.95-.49-7-3.85-7-7.93 0-.62.08-1.21.21-1.79L9 15v1c0 1.1.9 2 2 2v1.93zm6.9-2.54c-.26-.81-1-1.39-1.9-1.39h-1v-3c0-.55-.45-1-1-1H8v-2h2c.55 0 1-.45 1-1V7h2c1.1 0 2-.9 2-2v-.41c2.93 1.19 5 4.06 5 7.41 0 2.08-.8 3.97-2.1 5.39z\"></path></svg></span><span class=\"_3ljuaKnLgmSdYVv9u-R2kl\">Community</span><span class=\"_3eshWnjV18LJcWXsSl9YJv\"><svg class=\"ipc-icon ipc-icon--chevron-right\" fill=\"currentColor\" height=\"24\" role=\"presentation\" viewbox=\"0 0 24 24\" width=\"24\" xmlns=\"http://www.w3.org/2000/svg\"><path d=\"M0 0h24v24H0V0z\" fill=\"none\"></path><path d=\"M9.29 6.71a.996.996 0 0 0 0 1.41L13.17 12l-3.88 3.88a.996.996 0 1 0 1.41 1.41l4.59-4.59a.996.996 0 0 0 0-1.41L10.7 6.7c-.38-.38-1.02-.38-1.41.01z\"></path></svg></span></label><div aria-expanded=\"false\" aria-hidden=\"true\" class=\"_3ugJBFJR4_oBad38XOic2A\" data-testid=\"list-container\"><div class=\"V1pMcXJmaAj_xVf9Ebt4r\" role=\"presentation\"><ul aria-orientation=\"vertical\" class=\"ipc-list _1BHmFYrYdlAF0gND-D42MO ipc-list--baseAlt\" role=\"menu\"><a aria-disabled=\"false\" class=\"ipc-list__item nav-link sc-jTzLTM fjLstn ipc-list__item--indent-one\" href=\"https://help.imdb.com/imdb?ref_=cons_nb_hlp\" role=\"menuitem\" tabindex=\"-1\"><span class=\"ipc-list-item__text\" role=\"presentation\">Help Center</span></a><a aria-disabled=\"false\" class=\"ipc-list__item nav-link sc-jTzLTM fjLstn ipc-list__item--indent-one\" href=\"https://contribute.imdb.com/czone?ref_=nv_cm_cz\" role=\"menuitem\" tabindex=\"-1\"><span class=\"ipc-list-item__text\" role=\"presentation\">Contributor Zone</span></a><a aria-disabled=\"false\" class=\"ipc-list__item nav-link sc-jTzLTM fjLstn ipc-list__item--indent-one\" href=\"/poll/?ref_=nv_cm_pl\" role=\"menuitem\" tabindex=\"-1\"><span class=\"ipc-list-item__text\" role=\"presentation\">Polls</span></a></ul></div></div></span></div><a aria-disabled=\"false\" aria-label=\"Go To IMDb Pro\" class=\"ipc-list__item nav-link _2gsLsBPK0cn_jZtMaWl-cV sc-jTzLTM fjLstn\" href=\"https://pro.imdb.com?ref_=cons_nb_hm&amp;rf=cons_nb_hm\" role=\"menuitem\" tabindex=\"0\" target=\"_blank\"><span class=\"ipc-list-item__text\" role=\"presentation\"><div class=\"_3K5P-7N3XyIyLKFCjVRH-K sc-chPdSV ijHKQE\"><svg class=\"ipc-logo\" height=\"14\" version=\"1.1\" viewbox=\"0 0 52 14\" width=\"52\" xmlns=\"http://www.w3.org/2000/svg\"><g fill=\"currentColor\"><rect height=\"12.34\" width=\"3.21\" x=\"0\" y=\"1\"></rect><path d=\"M10,1 L9.3,6.76 L8.84,3.63 C8.7,2.62 8.58,1.75 8.45,1 L4.3,1 L4.3,13.34 L7.11,13.34 L7.11,5.19 L8.3,13.34 L10.3,13.34 L11.42,5 L11.42,13.33 L14.22,13.33 L14.22,1 L10,1 Z\"></path><path d=\"M19.24,3.22 C19.3711159,3.29185219 19.4602235,3.42180078 19.48,3.57 C19.5340993,3.92393477 19.554191,4.28223587 19.54,4.64 L19.54,9.42 C19.578852,9.92887392 19.5246327,10.4405682 19.38,10.93 C19.27,11.12 18.99,11.21 18.53,11.21 L18.53,3.11 C18.7718735,3.09406934 19.0142863,3.13162626 19.24,3.22 Z M19.24,13.34 C19.8163127,13.3574057 20.3928505,13.3138302 20.96,13.21 C21.3245396,13.1481159 21.6680909,12.9969533 21.96,12.77 C22.2288287,12.5438006 22.4209712,12.2398661 22.51,11.9 C22.643288,11.1679419 22.6969338,10.4236056 22.67,9.68 L22.67,5.34 C22.6662002,4.55669241 22.6060449,3.77467335 22.49,3 C22.43037,2.59841431 22.260779,2.22116094 22,1.91 C21.6636187,1.56093667 21.2326608,1.317654 20.76,1.21 C19.7709421,1.02848785 18.7647002,0.958050915 17.76,1 L15.32,1 L15.32,13.34 L19.24,13.34 Z\"></path><path d=\"M27.86,10.34 C27.8769902,10.7218086 27.8501483,11.1043064 27.78,11.48 C27.72,11.63 27.46,11.71 27.26,11.71 C27.0954951,11.7299271 26.9386363,11.6349863 26.88,11.48 C26.7930212,11.1542289 26.7592527,10.8165437 26.78,10.48 L26.78,7.18 C26.7626076,6.84408875 26.7929089,6.50740774 26.87,6.18 C26.9317534,6.03447231 27.0833938,5.94840616 27.24,5.97 C27.43,5.97 27.7,6.05 27.76,6.21 C27.8468064,6.53580251 27.8805721,6.87345964 27.86,7.21 L27.86,10.34 Z M23.7,1 L23.7,13.34 L26.58,13.34 L26.78,12.55 C27.0112432,12.8467609 27.3048209,13.0891332 27.64,13.26 C28.0022345,13.4198442 28.394069,13.5016184 28.79,13.5 C29.2588971,13.515288 29.7196211,13.3746089 30.1,13.1 C30.4399329,12.8800058 30.6913549,12.5471372 30.81,12.16 C30.9423503,11.6167622 31.0061799,11.0590937 31,10.5 L31,7 C31.0087531,6.51279482 30.9920637,6.02546488 30.95,5.54 C30.904474,5.28996521 30.801805,5.05382649 30.65,4.85 C30.4742549,4.59691259 30.2270668,4.40194735 29.94,4.29 C29.5869438,4.15031408 29.2096076,4.08232558 28.83,4.09 C28.4361722,4.08961884 28.0458787,4.16428368 27.68,4.31 C27.3513666,4.46911893 27.0587137,4.693713 26.82,4.97 L26.82,1 L23.7,1 Z\"></path><path d=\"M32.13,1 L35.32,1 C35.9925574,0.978531332 36.6650118,1.04577677 37.32,1.2 C37.717112,1.29759578 38.0801182,1.50157071 38.37,1.79 C38.6060895,2.05302496 38.7682605,2.37391646 38.84,2.72 C38.935586,3.27463823 38.9757837,3.8374068 38.96,4.4 L38.96,5.46 C38.9916226,6.03689533 38.9100917,6.61440551 38.72,7.16 C38.5402933,7.53432344 38.2260614,7.82713037 37.84,7.98 C37.3049997,8.18709035 36.7332458,8.28238268 36.16,8.26 L35.31,8.26 L35.31,13.16 L32.13,13.16 L32.13,1 Z M35.29,3.08 L35.29,6.18 L35.53,6.18 C35.7515781,6.20532753 35.9725786,6.12797738 36.13,5.97 C36.2717869,5.69610033 36.3308522,5.38687568 36.3,5.08 L36.3,4.08 C36.3390022,3.79579475 36.2713114,3.5072181 36.11,3.27 C35.8671804,3.11299554 35.5771259,3.04578777 35.29,3.08 Z\"></path><path d=\"M42,4.36 L41.89,5.52 C42.28,4.69 43.67,4.42 44.41,4.37 L43.6,7.3 C43.2290559,7.27725357 42.8582004,7.34593052 42.52,7.5 C42.3057075,7.61238438 42.1519927,7.81367763 42.1,8.05 C42.0178205,8.59259006 41.9843538,9.14144496 42,9.69 L42,13.16 L39.34,13.16 L39.34,4.36 L42,4.36 Z\"></path><path d=\"M51.63,9.71 C51.6472876,10.3265292 51.6003682,10.9431837 51.49,11.55 C51.376862,11.9620426 51.1639158,12.3398504 50.87,12.65 C50.5352227,13.001529 50.1148049,13.2599826 49.65,13.4 C49.0994264,13.5686585 48.5257464,13.6496486 47.95,13.64 C47.3333389,13.6524659 46.7178074,13.5818311 46.12,13.43 C45.6996896,13.322764 45.3140099,13.1092627 45,12.81 C44.7275808,12.5275876 44.5254637,12.1850161 44.41,11.81 C44.2627681,11.2181509 44.1921903,10.6098373 44.2,10 L44.2,7.64 C44.1691064,6.9584837 44.2780071,6.27785447 44.52,5.64 C44.7547114,5.12751365 45.1616363,4.71351186 45.67,4.47 C46.3337168,4.13941646 47.0688388,3.97796445 47.81,4 C48.4454888,3.98667568 49.0783958,4.08482705 49.68,4.29 C50.1352004,4.42444561 50.5506052,4.66819552 50.89,5 C51.1535526,5.26601188 51.3550281,5.58700663 51.48,5.94 C51.6001358,6.42708696 51.6506379,6.92874119 51.63,7.43 L51.63,9.71 Z M48.39,6.73 C48.412199,6.42705368 48.3817488,6.12255154 48.3,5.83 C48.2091142,5.71223121 48.0687606,5.64325757 47.92,5.64325757 C47.7712394,5.64325757 47.6308858,5.71223121 47.54,5.83 C47.447616,6.12046452 47.4136298,6.42634058 47.44,6.73 L47.44,10.93 C47.4168299,11.2204468 47.4508034,11.5126191 47.54,11.79 C47.609766,11.9270995 47.7570827,12.0067302 47.91,11.99 C48.0639216,12.0108082 48.2159732,11.9406305 48.3,11.81 C48.3790864,11.5546009 48.4096133,11.2866434 48.39,11.02 L48.39,6.73 Z\"></path></g></svg><div class=\"sc-kgoBCf gUgDEj\">For Industry Professionals</div></div></span><span class=\"ipc-list-item__icon ipc-list-item__icon--post\" role=\"presentation\"><svg class=\"ipc-icon ipc-icon--launch\" fill=\"currentColor\" height=\"24\" role=\"presentation\" viewbox=\"0 0 24 24\" width=\"24\" xmlns=\"http://www.w3.org/2000/svg\"><path d=\"M16 16.667H8A.669.669 0 0 1 7.333 16V8c0-.367.3-.667.667-.667h3.333c.367 0 .667-.3.667-.666C12 6.3 11.7 6 11.333 6h-4C6.593 6 6 6.6 6 7.333v9.334C6 17.4 6.6 18 7.333 18h9.334C17.4 18 18 17.4 18 16.667v-4c0-.367-.3-.667-.667-.667-.366 0-.666.3-.666.667V16c0 .367-.3.667-.667.667zm-2.667-10c0 .366.3.666.667.666h1.727L9.64 13.42a.664.664 0 1 0 .94.94l6.087-6.087V10c0 .367.3.667.666.667.367 0 .667-.3.667-.667V6h-4c-.367 0-.667.3-.667.667z\"></path></svg></span></a></div></div></div><label aria-hidden=\"true\" aria-label=\"Close Navigation Drawer\" class=\"_33DjoP1bQFTGjUsd6TDnRs\" data-testid=\"backdrop\" for=\"imdbHeader-navDrawer\" role=\"button\" tabindex=\"0\"></label></aside><a aria-label=\"Home\" class=\"sc-bdVaJa iWlUOU imdb-header__logo-link ndoNSXlV2Ofc_6OM-K74k\" href=\"/?ref_=nv_home\" id=\"home_img_holder\"><svg class=\"ipc-logo\" height=\"32\" id=\"home_img\" version=\"1.1\" viewbox=\"0 0 64 32\" width=\"64\" xmlns=\"http://www.w3.org/2000/svg\"><g fill=\"#F5C518\"><rect height=\"100%\" rx=\"4\" width=\"100%\" x=\"0\" y=\"0\"></rect></g><g fill=\"#000000\" fill-rule=\"nonzero\" transform=\"translate(8.000000, 7.000000)\"><polygon points=\"0 18 5 18 5 0 0 0\"></polygon><path d=\"M15.6725178,0 L14.5534833,8.40846934 L13.8582008,3.83502426 C13.65661,2.37009263 13.4632474,1.09175121 13.278113,0 L7,0 L7,18 L11.2416347,18 L11.2580911,6.11380679 L13.0436094,18 L16.0633571,18 L17.7583653,5.8517865 L17.7707076,18 L22,18 L22,0 L15.6725178,0 Z\"></path><path d=\"M24,18 L24,0 L31.8045586,0 C33.5693522,0 35,1.41994415 35,3.17660424 L35,14.8233958 C35,16.5777858 33.5716617,18 31.8045586,18 L24,18 Z M29.8322479,3.2395236 C29.6339219,3.13233348 29.2545158,3.08072342 28.7026524,3.08072342 L28.7026524,14.8914865 C29.4312846,14.8914865 29.8796736,14.7604764 30.0478195,14.4865461 C30.2159654,14.2165858 30.3021941,13.486105 30.3021941,12.2871637 L30.3021941,5.3078959 C30.3021941,4.49404499 30.272014,3.97397442 30.2159654,3.74371416 C30.1599168,3.5134539 30.0348852,3.34671372 29.8322479,3.2395236 Z\"></path><path d=\"M44.4299079,4.50685823 L44.749518,4.50685823 C46.5447098,4.50685823 48,5.91267586 48,7.64486762 L48,14.8619906 C48,16.5950653 46.5451816,18 44.749518,18 L44.4299079,18 C43.3314617,18 42.3602746,17.4736618 41.7718697,16.6682739 L41.4838962,17.7687785 L37,17.7687785 L37,0 L41.7843263,0 L41.7843263,5.78053556 C42.4024982,5.01015739 43.3551514,4.50685823 44.4299079,4.50685823 Z M43.4055679,13.2842155 L43.4055679,9.01907814 C43.4055679,8.31433946 43.3603268,7.85185468 43.2660746,7.63896485 C43.1718224,7.42607505 42.7955881,7.2893916 42.5316822,7.2893916 C42.267776,7.2893916 41.8607934,7.40047379 41.7816216,7.58767002 L41.7816216,9.01907814 L41.7816216,13.4207851 L41.7816216,14.8074788 C41.8721037,15.0130276 42.2602358,15.1274059 42.5316822,15.1274059 C42.8031285,15.1274059 43.1982131,15.0166981 43.281155,14.8074788 C43.3640968,14.5982595 43.4055679,14.0880581 43.4055679,13.2842155 Z\"></path></g></svg></a><input aria-hidden=\"true\" class=\"imdb-header-search__state om11dllK0D2aNvqAi5UZq sc-gqjmRU hOwCdO\" hidden=\"\" id=\"navSearch-searchState\" name=\"navSearch-searchState\" type=\"checkbox\"/><div class=\"nav-search__search-container _-7m-2d080hJg3V1G1WqY- sc-iwsKbI hAUoSP\" id=\"suggestion-search-container\"><form action=\"/find\" class=\"_3tGWq6W2TYPbP48TZtGEaB imdb-header__search-form sc-dnqmqq ibWJpR\" id=\"nav-search-form\" method=\"get\" name=\"nav-search-form\" role=\"search\"><div class=\"search-category-selector sc-htoDjs jAJuqP\"><div class=\"sc-gzVnrw sVyDb navbar__flyout--breakpoint-m navbar__flyout--positionLeft\"><label aria-disabled=\"false\" aria-label=\"All\" class=\"ipc-button ipc-button--single-padding ipc-button--default-height ipc-button--core-base ipc-button--theme-base ipc-button--on-textPrimary ipc-text-button navbar__flyout__text-button-after-mobile search-category-selector__opener xy71ywaNKGjcnlWE2zShT nav-search-form__categories\" for=\"navbar-search-category-select\" role=\"button\" tabindex=\"0\"><div class=\"ipc-button__text\">All<svg class=\"ipc-icon ipc-icon--arrow-drop-down navbar__flyout__button-pointer\" fill=\"currentColor\" height=\"24\" role=\"presentation\" viewbox=\"0 0 24 24\" width=\"24\" xmlns=\"http://www.w3.org/2000/svg\"><path d=\"M0 0h24v24H0V0z\" fill=\"none\"></path><path d=\"M8.71 11.71l2.59 2.59c.39.39 1.02.39 1.41 0l2.59-2.59c.63-.63.18-1.71-.71-1.71H9.41c-.89 0-1.33 1.08-.7 1.71z\"></path></svg></div></label><input aria-hidden=\"true\" class=\"ipc-menu__focused-state\" hidden=\"\" id=\"navbar-search-category-select\" name=\"navbar-search-category-select\" tabindex=\"-1\" type=\"checkbox\"/><div class=\"ipc-menu mdc-menu ipc-menu--not-initialized ipc-menu--on-baseAlt ipc-menu--anchored ipc-menu--with-checkbox ipc-menu--expand-from-top-left navbar__flyout--menu\" data-menu-id=\"navbar-search-category-select\" role=\"presentation\"><div class=\"ipc-menu__items mdc-menu__items\" role=\"presentation\"><span id=\"navbar-search-category-select-contents\"><ul aria-orientation=\"vertical\" class=\"ipc-list _2mcNnzNh_17zh5IV1Mukpr ipc-list--baseAlt\" role=\"menu\"><a aria-disabled=\"false\" aria-label=\"All\" class=\"ipc-list__item _1xTnkpad08eEWkqotpqi4r _1VKSPp5LHTu0I_RQCOsBDd\" role=\"menuitem\" tabindex=\"0\"><span class=\"ipc-list-item__text\" role=\"presentation\"><svg class=\"ipc-icon ipc-icon--search _37fcCRzERfyeXeLFPsjHdY\" fill=\"currentColor\" height=\"24\" role=\"presentation\" viewbox=\"0 0 24 24\" width=\"24\" xmlns=\"http://www.w3.org/2000/svg\"><path d=\"M0 0h24v24H0V0z\" fill=\"none\"></path><path d=\"M15.5 14h-.79l-.28-.27a6.5 6.5 0 0 0 1.48-5.34c-.47-2.78-2.79-5-5.59-5.34a6.505 6.505 0 0 0-7.27 7.27c.34 2.8 2.56 5.12 5.34 5.59a6.5 6.5 0 0 0 5.34-1.48l.27.28v.79l4.25 4.25c.41.41 1.08.41 1.49 0 .41-.41.41-1.08 0-1.49L15.5 14zm-6 0C7.01 14 5 11.99 5 9.5S7.01 5 9.5 5 14 7.01 14 9.5 11.99 14 9.5 14z\"></path></svg>All</span></a><a aria-disabled=\"false\" aria-label=\"Titles\" class=\"ipc-list__item _1xTnkpad08eEWkqotpqi4r\" role=\"menuitem\" tabindex=\"0\"><span class=\"ipc-list-item__text\" role=\"presentation\"><svg class=\"ipc-icon ipc-icon--movie _37fcCRzERfyeXeLFPsjHdY\" fill=\"currentColor\" height=\"24\" role=\"presentation\" viewbox=\"0 0 24 24\" width=\"24\" xmlns=\"http://www.w3.org/2000/svg\"><path d=\"M0 0h24v24H0V0z\" fill=\"none\"></path><path d=\"M18 4v1h-2V4c0-.55-.45-1-1-1H9c-.55 0-1 .45-1 1v1H6V4c0-.55-.45-1-1-1s-1 .45-1 1v16c0 .55.45 1 1 1s1-.45 1-1v-1h2v1c0 .55.45 1 1 1h6c.55 0 1-.45 1-1v-1h2v1c0 .55.45 1 1 1s1-.45 1-1V4c0-.55-.45-1-1-1s-1 .45-1 1zM8 17H6v-2h2v2zm0-4H6v-2h2v2zm0-4H6V7h2v2zm10 8h-2v-2h2v2zm0-4h-2v-2h2v2zm0-4h-2V7h2v2z\"></path></svg>Titles</span></a><a aria-disabled=\"false\" aria-label=\"TV Episodes\" class=\"ipc-list__item _1xTnkpad08eEWkqotpqi4r\" role=\"menuitem\" tabindex=\"0\"><span class=\"ipc-list-item__text\" role=\"presentation\"><svg class=\"ipc-icon ipc-icon--television _37fcCRzERfyeXeLFPsjHdY\" fill=\"currentColor\" height=\"24\" role=\"presentation\" viewbox=\"0 0 24 24\" width=\"24\" xmlns=\"http://www.w3.org/2000/svg\"><path d=\"M0 0h24v24H0V0z\" fill=\"none\"></path><path d=\"M21 3H3c-1.1 0-2 .9-2 2v12c0 1.1.9 2 2 2h5v1c0 .55.45 1 1 1h6c.55 0 1-.45 1-1v-1h5c1.1 0 1.99-.9 1.99-2L23 5a2 2 0 0 0-2-2zm-1 14H4c-.55 0-1-.45-1-1V6c0-.55.45-1 1-1h16c.55 0 1 .45 1 1v10c0 .55-.45 1-1 1z\"></path></svg>TV Episodes</span></a><a aria-disabled=\"false\" aria-label=\"Celebs\" class=\"ipc-list__item _1xTnkpad08eEWkqotpqi4r\" role=\"menuitem\" tabindex=\"0\"><span class=\"ipc-list-item__text\" role=\"presentation\"><svg class=\"ipc-icon ipc-icon--people _37fcCRzERfyeXeLFPsjHdY\" fill=\"currentColor\" height=\"24\" role=\"presentation\" viewbox=\"0 0 24 24\" width=\"24\" xmlns=\"http://www.w3.org/2000/svg\"><path d=\"M0 0h24v24H0V0z\" fill=\"none\"></path><path d=\"M16 11c1.66 0 2.99-1.34 2.99-3S17.66 5 16 5s-3 1.34-3 3 1.34 3 3 3zm-8 0c1.66 0 2.99-1.34 2.99-3S9.66 5 8 5 5 6.34 5 8s1.34 3 3 3zm0 2c-2.33 0-7 1.17-7 3.5V18c0 .55.45 1 1 1h12c.55 0 1-.45 1-1v-1.5c0-2.33-4.67-3.5-7-3.5zm8 0c-.29 0-.62.02-.97.05.02.01.03.03.04.04 1.14.83 1.93 1.94 1.93 3.41V18c0 .35-.07.69-.18 1H22c.55 0 1-.45 1-1v-1.5c0-2.33-4.67-3.5-7-3.5z\"></path></svg>Celebs</span></a><a aria-disabled=\"false\" aria-label=\"Companies\" class=\"ipc-list__item _1xTnkpad08eEWkqotpqi4r\" role=\"menuitem\" tabindex=\"0\"><span class=\"ipc-list-item__text\" role=\"presentation\"><svg class=\"ipc-icon ipc-icon--business _37fcCRzERfyeXeLFPsjHdY\" fill=\"currentColor\" height=\"24\" role=\"presentation\" viewbox=\"0 0 24 24\" width=\"24\" xmlns=\"http://www.w3.org/2000/svg\"><path d=\"M0 0h24v24H0V0z\" fill=\"none\"></path><path d=\"M12 7V5c0-1.1-.9-2-2-2H4c-1.1 0-2 .9-2 2v14c0 1.1.9 2 2 2h16c1.1 0 2-.9 2-2V9c0-1.1-.9-2-2-2h-8zM6 19H4v-2h2v2zm0-4H4v-2h2v2zm0-4H4V9h2v2zm0-4H4V5h2v2zm4 12H8v-2h2v2zm0-4H8v-2h2v2zm0-4H8V9h2v2zm0-4H8V5h2v2zm9 12h-7v-2h2v-2h-2v-2h2v-2h-2V9h7c.55 0 1 .45 1 1v8c0 .55-.45 1-1 1zm-1-8h-2v2h2v-2zm0 4h-2v2h2v-2z\"></path></svg>Companies</span></a><a aria-disabled=\"false\" aria-label=\"Keywords\" class=\"ipc-list__item _1xTnkpad08eEWkqotpqi4r\" role=\"menuitem\" tabindex=\"0\"><span class=\"ipc-list-item__text\" role=\"presentation\"><svg class=\"ipc-icon ipc-icon--label _37fcCRzERfyeXeLFPsjHdY\" fill=\"currentColor\" height=\"24\" role=\"presentation\" viewbox=\"0 0 24 24\" width=\"24\" xmlns=\"http://www.w3.org/2000/svg\"><path d=\"M0 0h24v24H0V0z\" fill=\"none\"></path><path d=\"M17.63 5.84C17.27 5.33 16.67 5 16 5L5 5.01C3.9 5.01 3 5.9 3 7v10c0 1.1.9 1.99 2 1.99L16 19c.67 0 1.27-.33 1.63-.84l3.96-5.58a.99.99 0 0 0 0-1.16l-3.96-5.58z\"></path></svg>Keywords</span></a><li class=\"ipc-list-divider\" role=\"separator\"></li><a aria-disabled=\"false\" class=\"ipc-list__item _1xTnkpad08eEWkqotpqi4r\" href=\"https://www.imdb.com/search/\" role=\"menuitem\" tabindex=\"0\"><span class=\"ipc-list-item__text\" role=\"presentation\"><svg class=\"ipc-icon ipc-icon--find-in-page _37fcCRzERfyeXeLFPsjHdY\" fill=\"currentColor\" height=\"24\" role=\"presentation\" viewbox=\"0 0 24 24\" width=\"24\" xmlns=\"http://www.w3.org/2000/svg\"><path d=\"M0 0h24v24H0V0z\" fill=\"none\"></path><path d=\"M20 19.59V8.83c0-.53-.21-1.04-.59-1.41l-4.83-4.83c-.37-.38-.88-.59-1.41-.59H6c-1.1 0-1.99.9-1.99 2L4 20c0 1.1.89 2 1.99 2H18c.45 0 .85-.15 1.19-.4l-4.43-4.43c-.86.56-1.89.88-3 .82-2.37-.11-4.4-1.96-4.72-4.31a5.013 5.013 0 0 1 5.83-5.61c1.95.33 3.57 1.85 4 3.78.33 1.46.01 2.82-.7 3.9L20 19.59zM9 13c0 1.66 1.34 3 3 3s3-1.34 3-3-1.34-3-3-3-3 1.34-3 3z\"></path></svg>Advanced Search</span><span class=\"ipc-list-item__icon ipc-list-item__icon--post\" role=\"presentation\"><svg class=\"ipc-icon ipc-icon--chevron-right\" fill=\"currentColor\" height=\"24\" role=\"presentation\" viewbox=\"0 0 24 24\" width=\"24\" xmlns=\"http://www.w3.org/2000/svg\"><path d=\"M0 0h24v24H0V0z\" fill=\"none\"></path><path d=\"M9.29 6.71a.996.996 0 0 0 0 1.41L13.17 12l-3.88 3.88a.996.996 0 1 0 1.41 1.41l4.59-4.59a.996.996 0 0 0 0-1.41L10.7 6.7c-.38-.38-1.02-.38-1.41.01z\"></path></svg></span></a></ul></span></div></div></div></div><div class=\"nav-search__search-input-container sc-bZQynM jIbbnv\"><div aria-expanded=\"false\" aria-haspopup=\"listbox\" aria-owns=\"react-autowhatever-1\" class=\"react-autosuggest__container\" role=\"combobox\"><input aria-autocomplete=\"list\" aria-controls=\"react-autowhatever-1\" autocapitalize=\"off\" autocomplete=\"off\" autocorrect=\"off\" class=\"imdb-header-search__input GVtrp0cCs2HZCo7E2L5UU react-autosuggest__input\" id=\"suggestion-search\" name=\"q\" placeholder=\"Search IMDb\" type=\"text\" value=\"\"/></div></div><button class=\"nav-search__search-submit _2wo2z_hfPCHWGjZvUGi_f1\" id=\"suggestion-search-button\" type=\"submit\"><svg class=\"ipc-icon ipc-icon--magnify\" fill=\"currentColor\" height=\"24\" role=\"presentation\" viewbox=\"0 0 24 24\" width=\"24\" xmlns=\"http://www.w3.org/2000/svg\"><path d=\"M0 0h24v24H0V0z\" fill=\"none\"></path><path d=\"M15.5 14h-.79l-.28-.27a6.5 6.5 0 0 0 1.48-5.34c-.47-2.78-2.79-5-5.59-5.34a6.505 6.505 0 0 0-7.27 7.27c.34 2.8 2.56 5.12 5.34 5.59a6.5 6.5 0 0 0 5.34-1.48l.27.28v.79l4.25 4.25c.41.41 1.08.41 1.49 0 .41-.41.41-1.08 0-1.49L15.5 14zm-6 0C7.01 14 5 11.99 5 9.5S7.01 5 9.5 5 14 7.01 14 9.5 11.99 14 9.5 14z\"></path></svg></button><input name=\"ref_\" type=\"hidden\" value=\"nv_sr_sm\"/></form><label aria-disabled=\"false\" aria-label=\"Close Search\" class=\"ipc-icon-button imdb-header-search__state-closer ipc-icon-button--baseAlt ipc-icon-button--onBase\" for=\"navSearch-searchState\" id=\"imdbHeader-searchClose\" role=\"button\" tabindex=\"0\" title=\"Close Search\"><svg class=\"ipc-icon ipc-icon--clear\" fill=\"currentColor\" height=\"24\" role=\"presentation\" viewbox=\"0 0 24 24\" width=\"24\" xmlns=\"http://www.w3.org/2000/svg\"><path d=\"M0 0h24v24H0V0z\" fill=\"none\"></path><path d=\"M18.3 5.71a.996.996 0 0 0-1.41 0L12 10.59 7.11 5.7A.996.996 0 1 0 5.7 7.11L10.59 12 5.7 16.89a.996.996 0 1 0 1.41 1.41L12 13.41l4.89 4.89a.996.996 0 1 0 1.41-1.41L13.41 12l4.89-4.89c.38-.38.38-1.02 0-1.4z\"></path></svg></label></div><label aria-disabled=\"false\" aria-label=\"Open Search\" class=\"ipc-icon-button imdb-header-search__state-opener sc-gZMcBi iCQWEu ipc-icon-button--baseAlt ipc-icon-button--onBase\" for=\"navSearch-searchState\" id=\"imdbHeader-searchOpen\" role=\"button\" tabindex=\"0\" title=\"Open Search\"><svg class=\"ipc-icon ipc-icon--magnify\" fill=\"currentColor\" height=\"24\" role=\"presentation\" viewbox=\"0 0 24 24\" width=\"24\" xmlns=\"http://www.w3.org/2000/svg\"><path d=\"M0 0h24v24H0V0z\" fill=\"none\"></path><path d=\"M15.5 14h-.79l-.28-.27a6.5 6.5 0 0 0 1.48-5.34c-.47-2.78-2.79-5-5.59-5.34a6.505 6.505 0 0 0-7.27 7.27c.34 2.8 2.56 5.12 5.34 5.59a6.5 6.5 0 0 0 5.34-1.48l.27.28v.79l4.25 4.25c.41.41 1.08.41 1.49 0 .41-.41.41-1.08 0-1.49L15.5 14zm-6 0C7.01 14 5 11.99 5 9.5S7.01 5 9.5 5 14 7.01 14 9.5 11.99 14 9.5 14z\"></path></svg></label><div class=\"navbar__imdbpro sc-jKJlTe bQZNWZ\"><div class=\"navbar__imdbpro-content sc-gzVnrw sVyDb navbar__flyout--breakpoint-l\"><a aria-disabled=\"false\" aria-label=\"Go To IMDb Pro\" class=\"ipc-button ipc-button--single-padding ipc-button--default-height ipc-button--core-baseAlt ipc-button--theme-baseAlt ipc-button--on-textPrimary ipc-text-button navbar__flyout__text-button-after-mobile navbar__imdb-pro--toggle\" href=\"https://pro.imdb.com/login/ap?u=/login/lwa&amp;imdbPageAction=signUp&amp;rf=cons_nb_hm&amp;ref_=cons_nb_hm\" role=\"button\" tabindex=\"0\"><div class=\"ipc-button__text\"><svg class=\"ipc-logo navbar__imdbpro-menu-toggle__name\" height=\"14\" version=\"1.1\" viewbox=\"0 0 52 14\" width=\"52\" xmlns=\"http://www.w3.org/2000/svg\"><g fill=\"currentColor\"><rect height=\"12.34\" width=\"3.21\" x=\"0\" y=\"1\"></rect><path d=\"M10,1 L9.3,6.76 L8.84,3.63 C8.7,2.62 8.58,1.75 8.45,1 L4.3,1 L4.3,13.34 L7.11,13.34 L7.11,5.19 L8.3,13.34 L10.3,13.34 L11.42,5 L11.42,13.33 L14.22,13.33 L14.22,1 L10,1 Z\"></path><path d=\"M19.24,3.22 C19.3711159,3.29185219 19.4602235,3.42180078 19.48,3.57 C19.5340993,3.92393477 19.554191,4.28223587 19.54,4.64 L19.54,9.42 C19.578852,9.92887392 19.5246327,10.4405682 19.38,10.93 C19.27,11.12 18.99,11.21 18.53,11.21 L18.53,3.11 C18.7718735,3.09406934 19.0142863,3.13162626 19.24,3.22 Z M19.24,13.34 C19.8163127,13.3574057 20.3928505,13.3138302 20.96,13.21 C21.3245396,13.1481159 21.6680909,12.9969533 21.96,12.77 C22.2288287,12.5438006 22.4209712,12.2398661 22.51,11.9 C22.643288,11.1679419 22.6969338,10.4236056 22.67,9.68 L22.67,5.34 C22.6662002,4.55669241 22.6060449,3.77467335 22.49,3 C22.43037,2.59841431 22.260779,2.22116094 22,1.91 C21.6636187,1.56093667 21.2326608,1.317654 20.76,1.21 C19.7709421,1.02848785 18.7647002,0.958050915 17.76,1 L15.32,1 L15.32,13.34 L19.24,13.34 Z\"></path><path d=\"M27.86,10.34 C27.8769902,10.7218086 27.8501483,11.1043064 27.78,11.48 C27.72,11.63 27.46,11.71 27.26,11.71 C27.0954951,11.7299271 26.9386363,11.6349863 26.88,11.48 C26.7930212,11.1542289 26.7592527,10.8165437 26.78,10.48 L26.78,7.18 C26.7626076,6.84408875 26.7929089,6.50740774 26.87,6.18 C26.9317534,6.03447231 27.0833938,5.94840616 27.24,5.97 C27.43,5.97 27.7,6.05 27.76,6.21 C27.8468064,6.53580251 27.8805721,6.87345964 27.86,7.21 L27.86,10.34 Z M23.7,1 L23.7,13.34 L26.58,13.34 L26.78,12.55 C27.0112432,12.8467609 27.3048209,13.0891332 27.64,13.26 C28.0022345,13.4198442 28.394069,13.5016184 28.79,13.5 C29.2588971,13.515288 29.7196211,13.3746089 30.1,13.1 C30.4399329,12.8800058 30.6913549,12.5471372 30.81,12.16 C30.9423503,11.6167622 31.0061799,11.0590937 31,10.5 L31,7 C31.0087531,6.51279482 30.9920637,6.02546488 30.95,5.54 C30.904474,5.28996521 30.801805,5.05382649 30.65,4.85 C30.4742549,4.59691259 30.2270668,4.40194735 29.94,4.29 C29.5869438,4.15031408 29.2096076,4.08232558 28.83,4.09 C28.4361722,4.08961884 28.0458787,4.16428368 27.68,4.31 C27.3513666,4.46911893 27.0587137,4.693713 26.82,4.97 L26.82,1 L23.7,1 Z\"></path><path d=\"M32.13,1 L35.32,1 C35.9925574,0.978531332 36.6650118,1.04577677 37.32,1.2 C37.717112,1.29759578 38.0801182,1.50157071 38.37,1.79 C38.6060895,2.05302496 38.7682605,2.37391646 38.84,2.72 C38.935586,3.27463823 38.9757837,3.8374068 38.96,4.4 L38.96,5.46 C38.9916226,6.03689533 38.9100917,6.61440551 38.72,7.16 C38.5402933,7.53432344 38.2260614,7.82713037 37.84,7.98 C37.3049997,8.18709035 36.7332458,8.28238268 36.16,8.26 L35.31,8.26 L35.31,13.16 L32.13,13.16 L32.13,1 Z M35.29,3.08 L35.29,6.18 L35.53,6.18 C35.7515781,6.20532753 35.9725786,6.12797738 36.13,5.97 C36.2717869,5.69610033 36.3308522,5.38687568 36.3,5.08 L36.3,4.08 C36.3390022,3.79579475 36.2713114,3.5072181 36.11,3.27 C35.8671804,3.11299554 35.5771259,3.04578777 35.29,3.08 Z\"></path><path d=\"M42,4.36 L41.89,5.52 C42.28,4.69 43.67,4.42 44.41,4.37 L43.6,7.3 C43.2290559,7.27725357 42.8582004,7.34593052 42.52,7.5 C42.3057075,7.61238438 42.1519927,7.81367763 42.1,8.05 C42.0178205,8.59259006 41.9843538,9.14144496 42,9.69 L42,13.16 L39.34,13.16 L39.34,4.36 L42,4.36 Z\"></path><path d=\"M51.63,9.71 C51.6472876,10.3265292 51.6003682,10.9431837 51.49,11.55 C51.376862,11.9620426 51.1639158,12.3398504 50.87,12.65 C50.5352227,13.001529 50.1148049,13.2599826 49.65,13.4 C49.0994264,13.5686585 48.5257464,13.6496486 47.95,13.64 C47.3333389,13.6524659 46.7178074,13.5818311 46.12,13.43 C45.6996896,13.322764 45.3140099,13.1092627 45,12.81 C44.7275808,12.5275876 44.5254637,12.1850161 44.41,11.81 C44.2627681,11.2181509 44.1921903,10.6098373 44.2,10 L44.2,7.64 C44.1691064,6.9584837 44.2780071,6.27785447 44.52,5.64 C44.7547114,5.12751365 45.1616363,4.71351186 45.67,4.47 C46.3337168,4.13941646 47.0688388,3.97796445 47.81,4 C48.4454888,3.98667568 49.0783958,4.08482705 49.68,4.29 C50.1352004,4.42444561 50.5506052,4.66819552 50.89,5 C51.1535526,5.26601188 51.3550281,5.58700663 51.48,5.94 C51.6001358,6.42708696 51.6506379,6.92874119 51.63,7.43 L51.63,9.71 Z M48.39,6.73 C48.412199,6.42705368 48.3817488,6.12255154 48.3,5.83 C48.2091142,5.71223121 48.0687606,5.64325757 47.92,5.64325757 C47.7712394,5.64325757 47.6308858,5.71223121 47.54,5.83 C47.447616,6.12046452 47.4136298,6.42634058 47.44,6.73 L47.44,10.93 C47.4168299,11.2204468 47.4508034,11.5126191 47.54,11.79 C47.609766,11.9270995 47.7570827,12.0067302 47.91,11.99 C48.0639216,12.0108082 48.2159732,11.9406305 48.3,11.81 C48.3790864,11.5546009 48.4096133,11.2866434 48.39,11.02 L48.39,6.73 Z\"></path></g></svg></div></a></div></div><div class=\"sc-kEYyzF elgZIA\"></div><div class=\"sc-ckVGcZ iTyDTb imdb-header__watchlist-button\"><a aria-disabled=\"false\" class=\"ipc-button ipc-button--single-padding ipc-button--default-height ipc-button--core-baseAlt ipc-button--theme-baseAlt ipc-button--on-textPrimary ipc-text-button\" href=\"/list/watchlist?ref_=nv_usr_wl_all_0\" role=\"button\" tabindex=\"0\"><svg class=\"ipc-icon ipc-icon--watchlist ipc-button__icon ipc-button__icon--pre\" fill=\"currentColor\" height=\"24\" role=\"presentation\" viewbox=\"0 0 24 24\" width=\"24\" xmlns=\"http://www.w3.org/2000/svg\"><path d=\"M17 3c1.05 0 1.918.82 1.994 1.851L19 5v16l-7-3-7 3V5c0-1.05.82-1.918 1.851-1.994L7 3h10zm-4 4h-2v3H8v2h3v3h2v-3h3v-2h-3V7z\" fill=\"currentColor\"></path></svg><div class=\"ipc-button__text\">Watchlist</div></a></div><div class=\"_3cMNCrSVkxQhCkVs1JLIib navbar__user sc-kpOJdX kPnwgD\"><a aria-disabled=\"false\" class=\"ipc-button ipc-button--single-padding ipc-button--default-height ipc-button--core-baseAlt ipc-button--theme-baseAlt ipc-button--on-textPrimary ipc-text-button imdb-header__signin-text\" href=\"/registration/signin?ref=nv_generic_lgin\" role=\"button\" tabindex=\"0\"><div class=\"ipc-button__text\">Sign In</div></a></div></div></nav><svg style=\"width:0;height:0;overflow:hidden;display:block\" version=\"1.1\" xmlns=\"http://www.w3.org/2000/svg\"><defs><lineargradient id=\"ipc-svg-gradient-tv-logo-t\" x1=\"31.973%\" x2=\"153.413%\" y1=\"53.409%\" y2=\"-16.853%\"><stop offset=\"21.89%\" stop-color=\"#D01F49\"></stop><stop offset=\"83.44%\" stop-color=\"#E8138B\"></stop></lineargradient><lineargradient id=\"ipc-svg-gradient-tv-logo-v\" x1=\"-38.521%\" x2=\"104.155%\" y1=\"84.997%\" y2=\"14.735%\"><stop offset=\"21.89%\" stop-color=\"#D01F49\"></stop><stop offset=\"83.44%\" stop-color=\"#E8138B\"></stop></lineargradient></defs></svg><script>if (typeof uet == 'function') { uet(\"ne\");}</script><main class=\"ipc-page-wrapper ipc-page-wrapper--baseAlt sc-hSdWYo dPmROd\" role=\"main\"><script>if (typeof uet == 'function') { uet(\"bb\");}</script><div id=\"ipc-wrap-background-id\" style=\"position:absolute;width:100%;height:100%\"></div><div class=\"ipc-page-content-container ipc-page-content-container--center sc-eHgmQL jvQohW\" role=\"presentation\"><div><div class=\"slot_wrapper\"><!-- Begin INLINE20 -->\n",
       "<div class=\"cornerstone_slot\" id=\"inline20_wrapper\">\n",
       "<style>\n",
       "@media only screen and (min-width : 320px) and (max-width : 767px){\n",
       ".placeholder_inline20_size {\n",
       "width: 320px;\n",
       "height: 50px;\n",
       "}\n",
       "}\n",
       "@media only screen and (min-width : 768px) and (max-width : 1023px){\n",
       ".placeholder_inline20_size {\n",
       "width: 728px;\n",
       "height: 90px;\n",
       "}\n",
       "}\n",
       "@media only screen and (min-width : 1024px) and (max-width : 1279px){\n",
       ".placeholder_inline20_size {\n",
       "width: 970px;\n",
       "height: 250px;\n",
       "}\n",
       "}\n",
       "@media only screen and (min-width : 1280px) and (max-width : 9999px){\n",
       ".placeholder_inline20_size {\n",
       "width: 970px;\n",
       "height: 250px;\n",
       "}\n",
       "}\n",
       "</style>\n",
       "<div class=\"placeholder_pattern placeholder_inline20_size\" id=\"placeholderPattern\" style=\"position: relative;\">\n",
       "</div>\n",
       "</div>\n",
       "<!-- End INLINE20 --></div></div><script>if (typeof uet == 'function') {\n",
       "                uet(\"bb\", \"hero-feature\", {wb: 1});\n",
       "            }</script><div class=\"ipc-page-grid ipc-page-grid--bias-left hero page-grid\"><div class=\"ipc-page-grid__item ipc-page-grid__item--span-3\"><div class=\"AutorotateWithPeekVideoCarouselstyles__WithPeekLayout-sc-1y0e8a1-0 VrgqF\"><div class=\"AutorotateWithPeekVideoCarouselstyles__WithPeekCarouselContainer-sc-1y0e8a1-1 dRtPwF\"><div class=\"video-hero AutorotateWithPeekVideoCarouselstyles__WithPeekStyledCarousel-sc-1y0e8a1-5 jTnlGZ swiper-container\"><div class=\"swiper-wrapper\"><div class=\"swiper-slide\"><figure class=\"AutorotateWithPeekSlidestyles__WithPeekSlideContainer-sc-85l9zx-0 behHdd\"><div class=\"AutorotateWithPeekSlidestyles__WithPeekDesktopContainer-sc-85l9zx-1 kWtTrU\"><div class=\"fresnel-container fresnel-greaterThanOrEqual-md\"><div class=\"ipc-poster ipc-poster--baseAlt AutorotateWithPeekSlidestyles__WithPeekTitlePoster-sc-85l9zx-4 cwIihd TitlePosterWithPeekstyles__WithPeekStyledPosterComposition-sc-1ryjwsd-0 iLBqtX ipc-sub-grid-item ipc-sub-grid-item--span-2\" role=\"group\"><div aria-label=\"add to watchlist\" class=\"ipc-watchlist-ribbon ipc-focusable ipc-watchlist-ribbon--l ipc-watchlist-ribbon--baseAlt ipc-watchlist-ribbon--loading ipc-watchlist-ribbon--onImage ipc-poster__watchlist-ribbon ipc-poster__watchlist-ribbon\" role=\"button\" tabindex=\"0\"><svg class=\"ipc-watchlist-ribbon__bg\" height=\"34px\" role=\"presentation\" viewbox=\"0 0 24 34\" width=\"24px\" xmlns=\"http://www.w3.org/2000/svg\"><polygon class=\"ipc-watchlist-ribbon__bg-ribbon\" fill=\"#000000\" points=\"24 0 0 0 0 32 12.2436611 26.2926049 24 31.7728343\"></polygon><polygon class=\"ipc-watchlist-ribbon__bg-hover\" points=\"24 0 0 0 0 32 12.2436611 26.2926049 24 31.7728343\"></polygon><polygon class=\"ipc-watchlist-ribbon__bg-shadow\" points=\"24 31.7728343 24 33.7728343 12.2436611 28.2926049 0 34 0 32 12.2436611 26.2926049\"></polygon></svg><div class=\"ipc-watchlist-ribbon__icon\" role=\"presentation\"><svg class=\"ipc-loader ipc-loader--circle ipc-watchlist-ribbon__loader\" height=\"48px\" role=\"presentation\" version=\"1.1\" viewbox=\"0 0 48 48\" width=\"48px\" xmlns=\"http://www.w3.org/2000/svg\"><g class=\"ipc-loader__container\" fill=\"currentColor\"><circle class=\"ipc-loader__circle ipc-loader__circle--one\" cx=\"24\" cy=\"9\" r=\"4\"></circle><circle class=\"ipc-loader__circle ipc-loader__circle--two\" cx=\"35\" cy=\"14\" r=\"4\"></circle><circle class=\"ipc-loader__circle ipc-loader__circle--three\" cx=\"39\" cy=\"24\" r=\"4\"></circle><circle class=\"ipc-loader__circle ipc-loader__circle--four\" cx=\"35\" cy=\"34\" r=\"4\"></circle><circle class=\"ipc-loader__circle ipc-loader__circle--five\" cx=\"24\" cy=\"39\" r=\"4\"></circle><circle class=\"ipc-loader__circle ipc-loader__circle--six\" cx=\"13\" cy=\"34\" r=\"4\"></circle><circle class=\"ipc-loader__circle ipc-loader__circle--seven\" cx=\"9\" cy=\"24\" r=\"4\"></circle><circle class=\"ipc-loader__circle ipc-loader__circle--eight\" cx=\"13\" cy=\"14\" r=\"4\"></circle></g></svg></div></div><div class=\"ipc-media ipc-media--poster ipc-image-media-ratio--poster ipc-media--baseAlt ipc-media--custom ipc-poster__poster-image ipc-media__img\" style=\"width:100%\"><img alt=\"Unconventional Romantic Movies to Stream Now\" class=\"ipc-image\" loading=\"lazy\" sizes=\"50vw, (min-width: 480px) 34vw, (min-width: 600px) 26vw, (min-width: 1024px) 16vw, (min-width: 1280px) 16vw\" src=\"https://m.media-amazon.com/images/M/MV5BN2FkYWQ1OWItMTc4Ni00Yzc4LWI0OGItMDMyMjU1MmFmZTlhXkEyXkFqcGdeQXVyNjMwMzc3MjE@._V1_QL40_UX352_CR0,0,352,521_.jpg\" srcset=\"https://m.media-amazon.com/images/M/MV5BN2FkYWQ1OWItMTc4Ni00Yzc4LWI0OGItMDMyMjU1MmFmZTlhXkEyXkFqcGdeQXVyNjMwMzc3MjE@._V1_QL40_UX352_CR0,0,352,521_.jpg 352w, https://m.media-amazon.com/images/M/MV5BN2FkYWQ1OWItMTc4Ni00Yzc4LWI0OGItMDMyMjU1MmFmZTlhXkEyXkFqcGdeQXVyNjMwMzc3MjE@._V1_QL40_UX528_CR0,0,528,781_.jpg 528w, https://m.media-amazon.com/images/M/MV5BN2FkYWQ1OWItMTc4Ni00Yzc4LWI0OGItMDMyMjU1MmFmZTlhXkEyXkFqcGdeQXVyNjMwMzc3MjE@._V1_QL40_UX704_CR0,1,704,1042_.jpg 704w\" width=\"352\"/></div><a aria-label=\"Unconventional Romantic Movies to Stream Now\" class=\"ipc-lockup-overlay ipc-focusable\" href=\"/title/tt12105192?ref_=hm_hp_cap_pri_1\"><div class=\"ipc-lockup-overlay__screen\"></div></a></div></div><div class=\"fresnel-container fresnel-lessThan-md\"><div class=\"ipc-poster ipc-poster--baseAlt AutorotateWithPeekSlidestyles__WithPeekTitlePoster-sc-85l9zx-4 cwIihd TitlePosterWithPeekstyles__WithPeekStyledPosterComposition-sc-1ryjwsd-0 iLBqtX ipc-sub-grid-item ipc-sub-grid-item--span-2\" role=\"group\"><div aria-label=\"add to watchlist\" class=\"ipc-watchlist-ribbon ipc-focusable ipc-watchlist-ribbon--m ipc-watchlist-ribbon--baseAlt ipc-watchlist-ribbon--loading ipc-watchlist-ribbon--onImage ipc-poster__watchlist-ribbon ipc-poster__watchlist-ribbon\" role=\"button\" tabindex=\"0\"><svg class=\"ipc-watchlist-ribbon__bg\" height=\"34px\" role=\"presentation\" viewbox=\"0 0 24 34\" width=\"24px\" xmlns=\"http://www.w3.org/2000/svg\"><polygon class=\"ipc-watchlist-ribbon__bg-ribbon\" fill=\"#000000\" points=\"24 0 0 0 0 32 12.2436611 26.2926049 24 31.7728343\"></polygon><polygon class=\"ipc-watchlist-ribbon__bg-hover\" points=\"24 0 0 0 0 32 12.2436611 26.2926049 24 31.7728343\"></polygon><polygon class=\"ipc-watchlist-ribbon__bg-shadow\" points=\"24 31.7728343 24 33.7728343 12.2436611 28.2926049 0 34 0 32 12.2436611 26.2926049\"></polygon></svg><div class=\"ipc-watchlist-ribbon__icon\" role=\"presentation\"><svg class=\"ipc-loader ipc-loader--circle ipc-watchlist-ribbon__loader\" height=\"48px\" role=\"presentation\" version=\"1.1\" viewbox=\"0 0 48 48\" width=\"48px\" xmlns=\"http://www.w3.org/2000/svg\"><g class=\"ipc-loader__container\" fill=\"currentColor\"><circle class=\"ipc-loader__circle ipc-loader__circle--one\" cx=\"24\" cy=\"9\" r=\"4\"></circle><circle class=\"ipc-loader__circle ipc-loader__circle--two\" cx=\"35\" cy=\"14\" r=\"4\"></circle><circle class=\"ipc-loader__circle ipc-loader__circle--three\" cx=\"39\" cy=\"24\" r=\"4\"></circle><circle class=\"ipc-loader__circle ipc-loader__circle--four\" cx=\"35\" cy=\"34\" r=\"4\"></circle><circle class=\"ipc-loader__circle ipc-loader__circle--five\" cx=\"24\" cy=\"39\" r=\"4\"></circle><circle class=\"ipc-loader__circle ipc-loader__circle--six\" cx=\"13\" cy=\"34\" r=\"4\"></circle><circle class=\"ipc-loader__circle ipc-loader__circle--seven\" cx=\"9\" cy=\"24\" r=\"4\"></circle><circle class=\"ipc-loader__circle ipc-loader__circle--eight\" cx=\"13\" cy=\"14\" r=\"4\"></circle></g></svg></div></div><div class=\"ipc-media ipc-media--poster ipc-image-media-ratio--poster ipc-media--baseAlt ipc-media--custom ipc-poster__poster-image ipc-media__img\" style=\"width:100%\"><img alt=\"Unconventional Romantic Movies to Stream Now\" class=\"ipc-image\" loading=\"lazy\" sizes=\"50vw, (min-width: 480px) 34vw, (min-width: 600px) 26vw, (min-width: 1024px) 16vw, (min-width: 1280px) 16vw\" src=\"https://m.media-amazon.com/images/M/MV5BN2FkYWQ1OWItMTc4Ni00Yzc4LWI0OGItMDMyMjU1MmFmZTlhXkEyXkFqcGdeQXVyNjMwMzc3MjE@._V1_QL40_UX352_CR0,0,352,521_.jpg\" srcset=\"https://m.media-amazon.com/images/M/MV5BN2FkYWQ1OWItMTc4Ni00Yzc4LWI0OGItMDMyMjU1MmFmZTlhXkEyXkFqcGdeQXVyNjMwMzc3MjE@._V1_QL40_UX352_CR0,0,352,521_.jpg 352w, https://m.media-amazon.com/images/M/MV5BN2FkYWQ1OWItMTc4Ni00Yzc4LWI0OGItMDMyMjU1MmFmZTlhXkEyXkFqcGdeQXVyNjMwMzc3MjE@._V1_QL40_UX528_CR0,0,528,781_.jpg 528w, https://m.media-amazon.com/images/M/MV5BN2FkYWQ1OWItMTc4Ni00Yzc4LWI0OGItMDMyMjU1MmFmZTlhXkEyXkFqcGdeQXVyNjMwMzc3MjE@._V1_QL40_UX704_CR0,1,704,1042_.jpg 704w\" width=\"352\"/></div><a aria-label=\"Unconventional Romantic Movies to Stream Now\" class=\"ipc-lockup-overlay ipc-focusable\" href=\"/title/tt12105192?ref_=hm_hp_cap_pri_1\"><div class=\"ipc-lockup-overlay__screen\"></div></a></div></div><div class=\"ipc-slate ipc-slate--baseAlt VideoSlateWithPeekstyles__WithPeekSlateContainer-oyjpyw-0 cqtngf ipc-sub-grid-item ipc-sub-grid-item--span-4\" role=\"group\"><div class=\"ipc-media ipc-media--slate-16x9 ipc-image-media-ratio--slate-16x9 ipc-media--baseAlt ipc-media--custom ipc-slate__slate-image VideoSlatestyles__SlateImage-sc-13ee1gs-1 dkZsig ipc-media__img\" style=\"width:100%\"><img alt=\"Get Some Picks\" class=\"ipc-image\" loading=\"lazy\" sizes=\"100vw, (min-width: 480px) 68vw, (min-width: 600px) 52vw, (min-width: 1024px) 32vw, (min-width: 1280px) 32vw\" src=\"https://m.media-amazon.com/images/M/MV5BZTdmZDliMmEtMTIxMi00Mzk5LTg2MDItMTRhYTk1MzlmYjViXkEyXkFqcGdeQWplZmZscA@@._V1_QL40_UX1000_CR0,0,1000,563_.jpg\" srcset=\"https://m.media-amazon.com/images/M/MV5BZTdmZDliMmEtMTIxMi00Mzk5LTg2MDItMTRhYTk1MzlmYjViXkEyXkFqcGdeQWplZmZscA@@._V1_QL40_UX1000_CR0,0,1000,563_.jpg 1000w, https://m.media-amazon.com/images/M/MV5BZTdmZDliMmEtMTIxMi00Mzk5LTg2MDItMTRhYTk1MzlmYjViXkEyXkFqcGdeQWplZmZscA@@._V1_QL40_UX1500_CR0,0,1500,844_.jpg 1500w, https://m.media-amazon.com/images/M/MV5BZTdmZDliMmEtMTIxMi00Mzk5LTg2MDItMTRhYTk1MzlmYjViXkEyXkFqcGdeQWplZmZscA@@._V1_QL40_UX2000_CR0,0,2000,1125_.jpg 2000w\" width=\"1000\"/></div><a aria-label=\"Get Some Picks\" class=\"ipc-lockup-overlay AutorotateWithPeekSlidestyles__WithPeekContainerOverlay-sc-85l9zx-7 jTzUIl ipc-focusable\" href=\"/list/ls081395803/videoplayer/vi3764240665?ref_=hm_hp_i_1\"><div class=\"ipc-lockup-overlay__screen\"></div><div class=\"ipc-lockup-overlay__gradient ipc-lockup-overlay__gradient--linear\"></div><div class=\"ipc-lockup-overlay__content\"><figcaption class=\"SlideCaptionWithPeekstyle__WithPeekCaptionContainer-sc-1v8fw6-0 ktzslD\"><div class=\"SlideCaptionstyles__ActionIconContainer-sc-8h388a-7 cdLJQv\"><svg aria-label=\"Watch Get Some Picks on IMDb\" class=\"slide-caption-play-icon SlideCaptionstyles__PlayIcon-sc-8h388a-5 gFEKSx\" role=\"button\" viewbox=\"0 0 109 108\" xmlns=\"http://www.w3.org/2000/svg\" xmlns:xlink=\"http://www.w3.org/1999/xlink\"><defs><circle cx=\"54.5\" cy=\"54.5\" id=\"b\" r=\"53.5\"></circle><filter filterunits=\"objectBoundingBox\" height=\"111.2%\" id=\"a\" width=\"111.2%\" x=\"-5.6%\" y=\"-5.6%\"><feoffset in=\"SourceAlpha\" result=\"shadowOffsetOuter1\"></feoffset><fegaussianblur in=\"shadowOffsetOuter1\" result=\"shadowBlurOuter1\" stddeviation=\"2\"></fegaussianblur><fecomposite in=\"shadowBlurOuter1\" in2=\"SourceAlpha\" operator=\"out\" result=\"shadowBlurOuter1\"></fecomposite><fecolormatrix in=\"shadowBlurOuter1\" values=\"0 0 0 0 0 0 0 0 0 0 0 0 0 0 0 0 0 0 0.5 0\"></fecolormatrix></filter></defs><g fill=\"none\" fill-rule=\"evenodd\"><use fill=\"#000\" filter=\"url(#a)\" xlink:href=\"#b\"></use><use fill=\"currentColor\" fill-opacity=\".7\" xlink:href=\"#b\"></use><path d=\"M54.5 109c30.1 0 54.5-24.4 54.5-54.5S84.6 0 54.5 0 0 24.4 0 54.5 24.4 109 54.5 109zm0-5C27.162 104 5 81.838 5 54.5S27.162 5 54.5 5 104 27.162 104 54.5 81.838 104 54.5 104z\" fill-rule=\"nonzero\"></path><path d=\"M49.12 73.11l22.883-17.15a2.432 2.432 0 0 0 0-3.92L49.12 34.89c-1.617-1.225-3.92-.049-3.92 1.96v34.3c0 2.009 2.303 3.185 3.92 1.96z\"></path></g></svg><span class=\"SlideCaptionstyles__MobileRuntimeText-sc-8h388a-9 cxloje\">2:41</span></div><div class=\"SlideCaptionstyles__CaptionTextContainer-sc-8h388a-1 cjCDsL\"><div class=\"SlideCaptionWithPeekstyle__WithPeekCaptionHeading-sc-1v8fw6-1 jZASpf\"><span class=\"SlideCaptionWithPeekstyle__WithPeekCaptionHeadingText-sc-1v8fw6-3 eYwewV\">Unconventional Romantic Movies to Stream Now</span><span class=\"SlideCaptionWithPeekstyle__WithPeekRuntimeText-sc-1v8fw6-4 cFSMOE\">2:41</span></div><div class=\"SlideCaptionWithPeekstyle__WithPeekCaptionSubHeading-sc-1v8fw6-2 kMejoQ\">Get Some Picks</div></div></figcaption></div></a></div></div></figure></div><div class=\"swiper-slide\"><div class=\"AutorotateWithPeekSlidestyles__WithPeekLazyRenderPlaceholder-sc-85l9zx-5 dsVNKx\"><div class=\"AutorotateWithPeekSlidestyles__WithPeekLazyRenderPlaceholderInner-sc-85l9zx-6 dKrdIU\"></div></div></div><div class=\"swiper-slide\"><div class=\"AutorotateWithPeekSlidestyles__WithPeekLazyRenderPlaceholder-sc-85l9zx-5 dsVNKx\"><div class=\"AutorotateWithPeekSlidestyles__WithPeekLazyRenderPlaceholderInner-sc-85l9zx-6 dKrdIU\"></div></div></div><div class=\"swiper-slide\"><div class=\"AutorotateWithPeekSlidestyles__WithPeekLazyRenderPlaceholder-sc-85l9zx-5 dsVNKx\"><div class=\"AutorotateWithPeekSlidestyles__WithPeekLazyRenderPlaceholderInner-sc-85l9zx-6 dKrdIU\"></div></div></div><div class=\"swiper-slide\"><div class=\"AutorotateWithPeekSlidestyles__WithPeekLazyRenderPlaceholder-sc-85l9zx-5 dsVNKx\"><div class=\"AutorotateWithPeekSlidestyles__WithPeekLazyRenderPlaceholderInner-sc-85l9zx-6 dKrdIU\"></div></div></div><div class=\"swiper-slide\"><div class=\"AutorotateWithPeekSlidestyles__WithPeekLazyRenderPlaceholder-sc-85l9zx-5 dsVNKx\"><div class=\"AutorotateWithPeekSlidestyles__WithPeekLazyRenderPlaceholderInner-sc-85l9zx-6 dKrdIU\"></div></div></div><div class=\"swiper-slide\"><div class=\"AutorotateWithPeekSlidestyles__WithPeekLazyRenderPlaceholder-sc-85l9zx-5 dsVNKx\"><div class=\"AutorotateWithPeekSlidestyles__WithPeekLazyRenderPlaceholderInner-sc-85l9zx-6 dKrdIU\"></div></div></div><div class=\"swiper-slide\"><div class=\"AutorotateWithPeekSlidestyles__WithPeekLazyRenderPlaceholder-sc-85l9zx-5 dsVNKx\"><div class=\"AutorotateWithPeekSlidestyles__WithPeekLazyRenderPlaceholderInner-sc-85l9zx-6 dKrdIU\"></div></div></div><div class=\"swiper-slide\"><div class=\"AutorotateWithPeekSlidestyles__WithPeekLazyRenderPlaceholder-sc-85l9zx-5 dsVNKx\"><div class=\"AutorotateWithPeekSlidestyles__WithPeekLazyRenderPlaceholderInner-sc-85l9zx-6 dKrdIU\"></div></div></div><div class=\"swiper-slide\"><div class=\"AutorotateWithPeekSlidestyles__WithPeekLazyRenderPlaceholder-sc-85l9zx-5 dsVNKx\"><div class=\"AutorotateWithPeekSlidestyles__WithPeekLazyRenderPlaceholderInner-sc-85l9zx-6 dKrdIU\"></div></div></div><div class=\"swiper-slide\"><div class=\"AutorotateWithPeekSlidestyles__WithPeekLazyRenderPlaceholder-sc-85l9zx-5 dsVNKx\"><div class=\"AutorotateWithPeekSlidestyles__WithPeekLazyRenderPlaceholderInner-sc-85l9zx-6 dKrdIU\"></div></div></div><div class=\"swiper-slide\"><div class=\"AutorotateWithPeekSlidestyles__WithPeekLazyRenderPlaceholder-sc-85l9zx-5 dsVNKx\"><div class=\"AutorotateWithPeekSlidestyles__WithPeekLazyRenderPlaceholderInner-sc-85l9zx-6 dKrdIU\"></div></div></div><div class=\"swiper-slide\"><div class=\"AutorotateWithPeekSlidestyles__WithPeekLazyRenderPlaceholder-sc-85l9zx-5 dsVNKx\"><div class=\"AutorotateWithPeekSlidestyles__WithPeekLazyRenderPlaceholderInner-sc-85l9zx-6 dKrdIU\"></div></div></div></div><div class=\"swiper-button-prev AutorotateWithPeekVideoCarouselstyles__WithPeekCarouselPrevButton-sc-1y0e8a1-9 duIESy\"><div class=\"ipc-shoveler__arrow ipc-shoveler__arrow--visible ipc-shoveler__arrow--left ipc-pager ipc-pager--visible ipc-pager--left\" role=\"presentation\"><svg class=\"ipc-icon ipc-icon--chevron-left-inline ipc-icon--inline ipc-pager-icon\" fill=\"currentColor\" height=\"24\" role=\"presentation\" viewbox=\"0 0 24 24\" width=\"24\" xmlns=\"http://www.w3.org/2000/svg\"><path d=\"M18.378 23.369c.398-.402.622-.947.622-1.516 0-.568-.224-1.113-.622-1.515l-8.249-8.34 8.25-8.34a2.16 2.16 0 0 0 .548-2.07A2.132 2.132 0 0 0 17.428.073a2.104 2.104 0 0 0-2.048.555l-9.758 9.866A2.153 2.153 0 0 0 5 12.009c0 .568.224 1.114.622 1.515l9.758 9.866c.808.817 2.17.817 2.998-.021z\"></path></svg></div></div><div class=\"swiper-button-next AutorotateWithPeekVideoCarouselstyles__WithPeekCarouselNextButton-sc-1y0e8a1-8 hcwbey\"><div class=\"ipc-shoveler__arrow ipc-shoveler__arrow--visible ipc-shoveler__arrow--right ipc-pager ipc-pager--visible ipc-pager--right\" role=\"presentation\"><svg class=\"ipc-icon ipc-icon--chevron-right-inline ipc-icon--inline ipc-pager-icon\" fill=\"currentColor\" height=\"24\" role=\"presentation\" viewbox=\"0 0 24 24\" width=\"24\" xmlns=\"http://www.w3.org/2000/svg\"><path d=\"M5.622.631A2.153 2.153 0 0 0 5 2.147c0 .568.224 1.113.622 1.515l8.249 8.34-8.25 8.34a2.16 2.16 0 0 0-.548 2.07c.196.74.768 1.317 1.499 1.515a2.104 2.104 0 0 0 2.048-.555l9.758-9.866a2.153 2.153 0 0 0 0-3.03L8.62.61C7.812-.207 6.45-.207 5.622.63z\"></path></svg></div></div></div></div><div class=\"AutorotateWithPeekVideoCarouselstyles__WithPeekSideContainer-sc-1y0e8a1-2 geYfso\"><div class=\"AutorotateWithPeekVideoCarouselstyles__WithPeekEditorialContainer-sc-1y0e8a1-3 dnUagO\"><div class=\"AutorotatePeekstyle__EditorialColumnTitleContainer-z2dw6i-0 jsWsMV\"><span class=\"AutorotatePeekstyle__EditorialColumnTitle-z2dw6i-13 CwIFp\">Up next</span></div><div class=\"AutorotatePeekstyle__EditorialColumnContainer-z2dw6i-1 dwiBZU\"><div class=\"AutorotatePeekstyle__EditorialColumn-z2dw6i-2 iAixTV\"><div class=\"editorial-slots\"><div class=\"AutorotatePeekstyle__EditorialSlot-z2dw6i-4 iIQGKv\"><div class=\"AutorotatePeekstyle__EditorialSlotPoster-z2dw6i-5 cNKMWL\"><div class=\"ipc-media ipc-media--poster ipc-image-media-ratio--poster ipc-media--baseAlt ipc-media--custom ipc-poster__poster-image AutorotatePeekstyle__StyledPosterImage-z2dw6i-3 drvZQv ipc-media__img\" style=\"width:100%\"><img alt=\"'One Night in Miami' Cast Talks Representation on Screen\" class=\"ipc-image\" loading=\"lazy\" sizes=\"50vw, (min-width: 480px) 34vw, (min-width: 600px) 26vw, (min-width: 1024px) 16vw, (min-width: 1280px) 16vw\" src=\"https://m.media-amazon.com/images/M/MV5BNzIwNGY4YzItNWQ3ZS00ZmUwLTg3NTUtZmZkMWNlNGQ0Y2I2XkEyXkFqcGdeQXVyNzY1ODU1OTk@._V1_QL40_UX256_CR0,0,256,379_.jpg\" srcset=\"https://m.media-amazon.com/images/M/MV5BNzIwNGY4YzItNWQ3ZS00ZmUwLTg3NTUtZmZkMWNlNGQ0Y2I2XkEyXkFqcGdeQXVyNzY1ODU1OTk@._V1_QL40_UX256_CR0,0,256,379_.jpg 256w, https://m.media-amazon.com/images/M/MV5BNzIwNGY4YzItNWQ3ZS00ZmUwLTg3NTUtZmZkMWNlNGQ0Y2I2XkEyXkFqcGdeQXVyNzY1ODU1OTk@._V1_QL40_UX384_CR0,0,384,568_.jpg 384w, https://m.media-amazon.com/images/M/MV5BNzIwNGY4YzItNWQ3ZS00ZmUwLTg3NTUtZmZkMWNlNGQ0Y2I2XkEyXkFqcGdeQXVyNzY1ODU1OTk@._V1_QL40_UX512_CR0,1,512,758_.jpg 512w\" width=\"256\"/></div></div><a class=\"AutorotatePeekstyle__EditorialSlotDetails-z2dw6i-6 eXRXJ\" href=\"/list/ls025720609/videoplayer/vi2406924569?ref_=hp_hp_e_13\"><div class=\"AutorotatePeekstyle__EditorialSlotDetail-z2dw6i-7 AutorotatePeekstyle__EditorialSlotPlaybackDetail-z2dw6i-8 kUrTCY\"><svg aria-label=\"Watch on IMDb\" class=\"editorial-play-icon AutorotatePeekstyle__PlayIcon-z2dw6i-14 kZmcOc\" role=\"button\" viewbox=\"0 0 109 108\" xmlns=\"http://www.w3.org/2000/svg\" xmlns:xlink=\"http://www.w3.org/1999/xlink\"><defs><circle cx=\"54.5\" cy=\"54.5\" id=\"b\" r=\"53.5\"></circle><filter filterunits=\"objectBoundingBox\" height=\"111.2%\" id=\"a\" width=\"111.2%\" x=\"-5.6%\" y=\"-5.6%\"><feoffset in=\"SourceAlpha\" result=\"shadowOffsetOuter1\"></feoffset><fegaussianblur in=\"shadowOffsetOuter1\" result=\"shadowBlurOuter1\" stddeviation=\"2\"></fegaussianblur><fecomposite in=\"shadowBlurOuter1\" in2=\"SourceAlpha\" operator=\"out\" result=\"shadowBlurOuter1\"></fecomposite><fecolormatrix in=\"shadowBlurOuter1\" values=\"0 0 0 0 0 0 0 0 0 0 0 0 0 0 0 0 0 0 0.5 0\"></fecolormatrix></filter></defs><g fill=\"none\" fill-rule=\"evenodd\"><use fill=\"#000\" filter=\"url(#a)\" xlink:href=\"#b\"></use><use fill=\"currentColor\" fill-opacity=\".7\" xlink:href=\"#b\"></use><path d=\"M54.5 109c30.1 0 54.5-24.4 54.5-54.5S84.6 0 54.5 0 0 24.4 0 54.5 24.4 109 54.5 109zm0-5C27.162 104 5 81.838 5 54.5S27.162 5 54.5 5 104 27.162 104 54.5 81.838 104 54.5 104z\" fill-rule=\"nonzero\"></path><path d=\"M49.12 73.11l22.883-17.15a2.432 2.432 0 0 0 0-3.92L49.12 34.89c-1.617-1.225-3.92-.049-3.92 1.96v34.3c0 2.009 2.303 3.185 3.92 1.96z\"></path></g></svg><span class=\"AutorotatePeekstyle__EditorialSlotRunTime-z2dw6i-12 hJHHUo\">8:10</span></div><div class=\"AutorotatePeekstyle__EditorialSlotDetail-z2dw6i-7 AutorotatePeekstyle__EditorialSlotTitleDetail-z2dw6i-9 duWEHC\"><span class=\"AutorotatePeekstyle__EditorialSlotTitle-z2dw6i-10 cTXhQE\">'One Night in Miami' Cast Talks Representation on Screen</span></div><div class=\"AutorotatePeekstyle__EditorialSlotDetail-z2dw6i-7 iZWuhv\"><span class=\"AutorotatePeekstyle__EditorialSlotSubtitle-z2dw6i-11 eDdnBe\">Watch the Interview</span></div></a></div><div class=\"AutorotatePeekstyle__EditorialSlot-z2dw6i-4 iIQGKv\"><div class=\"AutorotatePeekstyle__EditorialSlotPoster-z2dw6i-5 cNKMWL\"><div class=\"ipc-media ipc-media--poster ipc-image-media-ratio--poster ipc-media--baseAlt ipc-media--custom ipc-poster__poster-image AutorotatePeekstyle__StyledPosterImage-z2dw6i-3 drvZQv ipc-media__img\" style=\"width:100%\"><img alt=\"Unconventional Romantic Movies to Stream Now\" class=\"ipc-image\" loading=\"lazy\" sizes=\"50vw, (min-width: 480px) 34vw, (min-width: 600px) 26vw, (min-width: 1024px) 16vw, (min-width: 1280px) 16vw\" src=\"https://m.media-amazon.com/images/M/MV5BN2FkYWQ1OWItMTc4Ni00Yzc4LWI0OGItMDMyMjU1MmFmZTlhXkEyXkFqcGdeQXVyNjMwMzc3MjE@._V1_QL40_UX256_CR0,0,256,379_.jpg\" srcset=\"https://m.media-amazon.com/images/M/MV5BN2FkYWQ1OWItMTc4Ni00Yzc4LWI0OGItMDMyMjU1MmFmZTlhXkEyXkFqcGdeQXVyNjMwMzc3MjE@._V1_QL40_UX256_CR0,0,256,379_.jpg 256w, https://m.media-amazon.com/images/M/MV5BN2FkYWQ1OWItMTc4Ni00Yzc4LWI0OGItMDMyMjU1MmFmZTlhXkEyXkFqcGdeQXVyNjMwMzc3MjE@._V1_QL40_UX384_CR0,0,384,568_.jpg 384w, https://m.media-amazon.com/images/M/MV5BN2FkYWQ1OWItMTc4Ni00Yzc4LWI0OGItMDMyMjU1MmFmZTlhXkEyXkFqcGdeQXVyNjMwMzc3MjE@._V1_QL40_UX512_CR0,1,512,758_.jpg 512w\" width=\"256\"/></div></div><a class=\"AutorotatePeekstyle__EditorialSlotDetails-z2dw6i-6 eXRXJ\" href=\"/list/ls081395803/videoplayer/vi3764240665?ref_=hp_hp_e_1\"><div class=\"AutorotatePeekstyle__EditorialSlotDetail-z2dw6i-7 AutorotatePeekstyle__EditorialSlotPlaybackDetail-z2dw6i-8 kUrTCY\"><svg aria-label=\"Watch on IMDb\" class=\"editorial-play-icon AutorotatePeekstyle__PlayIcon-z2dw6i-14 kZmcOc\" role=\"button\" viewbox=\"0 0 109 108\" xmlns=\"http://www.w3.org/2000/svg\" xmlns:xlink=\"http://www.w3.org/1999/xlink\"><defs><circle cx=\"54.5\" cy=\"54.5\" id=\"b\" r=\"53.5\"></circle><filter filterunits=\"objectBoundingBox\" height=\"111.2%\" id=\"a\" width=\"111.2%\" x=\"-5.6%\" y=\"-5.6%\"><feoffset in=\"SourceAlpha\" result=\"shadowOffsetOuter1\"></feoffset><fegaussianblur in=\"shadowOffsetOuter1\" result=\"shadowBlurOuter1\" stddeviation=\"2\"></fegaussianblur><fecomposite in=\"shadowBlurOuter1\" in2=\"SourceAlpha\" operator=\"out\" result=\"shadowBlurOuter1\"></fecomposite><fecolormatrix in=\"shadowBlurOuter1\" values=\"0 0 0 0 0 0 0 0 0 0 0 0 0 0 0 0 0 0 0.5 0\"></fecolormatrix></filter></defs><g fill=\"none\" fill-rule=\"evenodd\"><use fill=\"#000\" filter=\"url(#a)\" xlink:href=\"#b\"></use><use fill=\"currentColor\" fill-opacity=\".7\" xlink:href=\"#b\"></use><path d=\"M54.5 109c30.1 0 54.5-24.4 54.5-54.5S84.6 0 54.5 0 0 24.4 0 54.5 24.4 109 54.5 109zm0-5C27.162 104 5 81.838 5 54.5S27.162 5 54.5 5 104 27.162 104 54.5 81.838 104 54.5 104z\" fill-rule=\"nonzero\"></path><path d=\"M49.12 73.11l22.883-17.15a2.432 2.432 0 0 0 0-3.92L49.12 34.89c-1.617-1.225-3.92-.049-3.92 1.96v34.3c0 2.009 2.303 3.185 3.92 1.96z\"></path></g></svg><span class=\"AutorotatePeekstyle__EditorialSlotRunTime-z2dw6i-12 hJHHUo\">2:41</span></div><div class=\"AutorotatePeekstyle__EditorialSlotDetail-z2dw6i-7 AutorotatePeekstyle__EditorialSlotTitleDetail-z2dw6i-9 duWEHC\"><span class=\"AutorotatePeekstyle__EditorialSlotTitle-z2dw6i-10 cTXhQE\">Unconventional Romantic Movies to Stream Now</span></div><div class=\"AutorotatePeekstyle__EditorialSlotDetail-z2dw6i-7 iZWuhv\"><span class=\"AutorotatePeekstyle__EditorialSlotSubtitle-z2dw6i-11 eDdnBe\">Get Some Picks</span></div></a></div><div class=\"AutorotatePeekstyle__EditorialSlot-z2dw6i-4 iIQGKv\"><div class=\"AutorotatePeekstyle__EditorialSlotPoster-z2dw6i-5 cNKMWL\"><div class=\"ipc-media ipc-media--poster ipc-image-media-ratio--poster ipc-media--baseAlt ipc-media--custom ipc-poster__poster-image AutorotatePeekstyle__StyledPosterImage-z2dw6i-3 drvZQv ipc-media__img\" style=\"width:100%\"><img alt=\"'Boss Level'\" class=\"ipc-image\" loading=\"lazy\" sizes=\"50vw, (min-width: 480px) 34vw, (min-width: 600px) 26vw, (min-width: 1024px) 16vw, (min-width: 1280px) 16vw\" src=\"https://m.media-amazon.com/images/M/MV5BNTVkODdiMjAtNmQ5Yy00OThhLTg4MDItYTZlYTFmN2E0M2M1XkEyXkFqcGdeQXVyMTkxNjUyNQ@@._V1_QL40_UX256_CR0,0,256,379_.jpg\" srcset=\"https://m.media-amazon.com/images/M/MV5BNTVkODdiMjAtNmQ5Yy00OThhLTg4MDItYTZlYTFmN2E0M2M1XkEyXkFqcGdeQXVyMTkxNjUyNQ@@._V1_QL40_UX256_CR0,0,256,379_.jpg 256w, https://m.media-amazon.com/images/M/MV5BNTVkODdiMjAtNmQ5Yy00OThhLTg4MDItYTZlYTFmN2E0M2M1XkEyXkFqcGdeQXVyMTkxNjUyNQ@@._V1_QL40_UX384_CR0,0,384,568_.jpg 384w, https://m.media-amazon.com/images/M/MV5BNTVkODdiMjAtNmQ5Yy00OThhLTg4MDItYTZlYTFmN2E0M2M1XkEyXkFqcGdeQXVyMTkxNjUyNQ@@._V1_QL40_UX512_CR0,1,512,758_.jpg 512w\" width=\"256\"/></div></div><a class=\"AutorotatePeekstyle__EditorialSlotDetails-z2dw6i-6 eXRXJ\" href=\"/list/ls053181649/videoplayer/vi1229046041?ref_=hp_hp_e_2\"><div class=\"AutorotatePeekstyle__EditorialSlotDetail-z2dw6i-7 AutorotatePeekstyle__EditorialSlotPlaybackDetail-z2dw6i-8 kUrTCY\"><svg aria-label=\"Watch on IMDb\" class=\"editorial-play-icon AutorotatePeekstyle__PlayIcon-z2dw6i-14 kZmcOc\" role=\"button\" viewbox=\"0 0 109 108\" xmlns=\"http://www.w3.org/2000/svg\" xmlns:xlink=\"http://www.w3.org/1999/xlink\"><defs><circle cx=\"54.5\" cy=\"54.5\" id=\"b\" r=\"53.5\"></circle><filter filterunits=\"objectBoundingBox\" height=\"111.2%\" id=\"a\" width=\"111.2%\" x=\"-5.6%\" y=\"-5.6%\"><feoffset in=\"SourceAlpha\" result=\"shadowOffsetOuter1\"></feoffset><fegaussianblur in=\"shadowOffsetOuter1\" result=\"shadowBlurOuter1\" stddeviation=\"2\"></fegaussianblur><fecomposite in=\"shadowBlurOuter1\" in2=\"SourceAlpha\" operator=\"out\" result=\"shadowBlurOuter1\"></fecomposite><fecolormatrix in=\"shadowBlurOuter1\" values=\"0 0 0 0 0 0 0 0 0 0 0 0 0 0 0 0 0 0 0.5 0\"></fecolormatrix></filter></defs><g fill=\"none\" fill-rule=\"evenodd\"><use fill=\"#000\" filter=\"url(#a)\" xlink:href=\"#b\"></use><use fill=\"currentColor\" fill-opacity=\".7\" xlink:href=\"#b\"></use><path d=\"M54.5 109c30.1 0 54.5-24.4 54.5-54.5S84.6 0 54.5 0 0 24.4 0 54.5 24.4 109 54.5 109zm0-5C27.162 104 5 81.838 5 54.5S27.162 5 54.5 5 104 27.162 104 54.5 81.838 104 54.5 104z\" fill-rule=\"nonzero\"></path><path d=\"M49.12 73.11l22.883-17.15a2.432 2.432 0 0 0 0-3.92L49.12 34.89c-1.617-1.225-3.92-.049-3.92 1.96v34.3c0 2.009 2.303 3.185 3.92 1.96z\"></path></g></svg><span class=\"AutorotatePeekstyle__EditorialSlotRunTime-z2dw6i-12 hJHHUo\">2:25</span></div><div class=\"AutorotatePeekstyle__EditorialSlotDetail-z2dw6i-7 AutorotatePeekstyle__EditorialSlotTitleDetail-z2dw6i-9 duWEHC\"><span class=\"AutorotatePeekstyle__EditorialSlotTitle-z2dw6i-10 cTXhQE\">'Boss Level'</span></div><div class=\"AutorotatePeekstyle__EditorialSlotDetail-z2dw6i-7 iZWuhv\"><span class=\"AutorotatePeekstyle__EditorialSlotSubtitle-z2dw6i-11 eDdnBe\">Watch the Trailer</span></div></a></div><div class=\"AutorotatePeekstyle__EditorialSlot-z2dw6i-4 iIQGKv\"><div class=\"AutorotatePeekstyle__EditorialSlotPoster-z2dw6i-5 cNKMWL\"><div class=\"ipc-media ipc-media--poster ipc-image-media-ratio--poster ipc-media--baseAlt ipc-media--custom ipc-poster__poster-image AutorotatePeekstyle__StyledPosterImage-z2dw6i-3 drvZQv ipc-media__img\" style=\"width:100%\"><img alt='\"The Falcon and the Winter Soldier\"' class=\"ipc-image\" loading=\"lazy\" sizes=\"50vw, (min-width: 480px) 34vw, (min-width: 600px) 26vw, (min-width: 1024px) 16vw, (min-width: 1280px) 16vw\" src=\"https://m.media-amazon.com/images/M/MV5BNTU5YmNiYmItM2VjZC00MGNjLWE1YjEtOGUzMDU5OGZkYjA5XkEyXkFqcGdeQXVyNzEzNjU1NDg@._V1_QL40_UX256_CR0,0,256,379_.jpg\" srcset=\"https://m.media-amazon.com/images/M/MV5BNTU5YmNiYmItM2VjZC00MGNjLWE1YjEtOGUzMDU5OGZkYjA5XkEyXkFqcGdeQXVyNzEzNjU1NDg@._V1_QL40_UX256_CR0,0,256,379_.jpg 256w, https://m.media-amazon.com/images/M/MV5BNTU5YmNiYmItM2VjZC00MGNjLWE1YjEtOGUzMDU5OGZkYjA5XkEyXkFqcGdeQXVyNzEzNjU1NDg@._V1_QL40_UX384_CR0,0,384,568_.jpg 384w, https://m.media-amazon.com/images/M/MV5BNTU5YmNiYmItM2VjZC00MGNjLWE1YjEtOGUzMDU5OGZkYjA5XkEyXkFqcGdeQXVyNzEzNjU1NDg@._V1_QL40_UX512_CR0,0,512,758_.jpg 512w\" width=\"256\"/></div></div><a class=\"AutorotatePeekstyle__EditorialSlotDetails-z2dw6i-6 eXRXJ\" href=\"/list/ls053181649/videoplayer/vi1264173337?ref_=hp_hp_e_3\"><div class=\"AutorotatePeekstyle__EditorialSlotDetail-z2dw6i-7 AutorotatePeekstyle__EditorialSlotPlaybackDetail-z2dw6i-8 kUrTCY\"><svg aria-label=\"Watch on IMDb\" class=\"editorial-play-icon AutorotatePeekstyle__PlayIcon-z2dw6i-14 kZmcOc\" role=\"button\" viewbox=\"0 0 109 108\" xmlns=\"http://www.w3.org/2000/svg\" xmlns:xlink=\"http://www.w3.org/1999/xlink\"><defs><circle cx=\"54.5\" cy=\"54.5\" id=\"b\" r=\"53.5\"></circle><filter filterunits=\"objectBoundingBox\" height=\"111.2%\" id=\"a\" width=\"111.2%\" x=\"-5.6%\" y=\"-5.6%\"><feoffset in=\"SourceAlpha\" result=\"shadowOffsetOuter1\"></feoffset><fegaussianblur in=\"shadowOffsetOuter1\" result=\"shadowBlurOuter1\" stddeviation=\"2\"></fegaussianblur><fecomposite in=\"shadowBlurOuter1\" in2=\"SourceAlpha\" operator=\"out\" result=\"shadowBlurOuter1\"></fecomposite><fecolormatrix in=\"shadowBlurOuter1\" values=\"0 0 0 0 0 0 0 0 0 0 0 0 0 0 0 0 0 0 0.5 0\"></fecolormatrix></filter></defs><g fill=\"none\" fill-rule=\"evenodd\"><use fill=\"#000\" filter=\"url(#a)\" xlink:href=\"#b\"></use><use fill=\"currentColor\" fill-opacity=\".7\" xlink:href=\"#b\"></use><path d=\"M54.5 109c30.1 0 54.5-24.4 54.5-54.5S84.6 0 54.5 0 0 24.4 0 54.5 24.4 109 54.5 109zm0-5C27.162 104 5 81.838 5 54.5S27.162 5 54.5 5 104 27.162 104 54.5 81.838 104 54.5 104z\" fill-rule=\"nonzero\"></path><path d=\"M49.12 73.11l22.883-17.15a2.432 2.432 0 0 0 0-3.92L49.12 34.89c-1.617-1.225-3.92-.049-3.92 1.96v34.3c0 2.009 2.303 3.185 3.92 1.96z\"></path></g></svg><span class=\"AutorotatePeekstyle__EditorialSlotRunTime-z2dw6i-12 hJHHUo\">2:00</span></div><div class=\"AutorotatePeekstyle__EditorialSlotDetail-z2dw6i-7 AutorotatePeekstyle__EditorialSlotTitleDetail-z2dw6i-9 duWEHC\"><span class=\"AutorotatePeekstyle__EditorialSlotTitle-z2dw6i-10 cTXhQE\">\"The Falcon and the Winter Soldier\"</span></div><div class=\"AutorotatePeekstyle__EditorialSlotDetail-z2dw6i-7 iZWuhv\"><span class=\"AutorotatePeekstyle__EditorialSlotSubtitle-z2dw6i-11 eDdnBe\">Watch the New Trailer</span></div></a></div><div class=\"AutorotatePeekstyle__EditorialSlot-z2dw6i-4 iIQGKv\"><div class=\"AutorotatePeekstyle__EditorialSlotPoster-z2dw6i-5 cNKMWL\"><div class=\"ipc-media ipc-media--poster ipc-image-media-ratio--poster ipc-media--baseAlt ipc-media--custom ipc-poster__poster-image AutorotatePeekstyle__StyledPosterImage-z2dw6i-3 drvZQv ipc-media__img\" style=\"width:100%\"><img alt=\"How 'Minari' Reflects the Cast's Life Experiences\" class=\"ipc-image\" loading=\"lazy\" sizes=\"50vw, (min-width: 480px) 34vw, (min-width: 600px) 26vw, (min-width: 1024px) 16vw, (min-width: 1280px) 16vw\" src=\"https://m.media-amazon.com/images/M/MV5BNDAzMzlkNzMtNjlhOC00YjNjLWFiZmEtNmVhZTA4ZjI3OTllXkEyXkFqcGdeQXVyNDYzNjU3ODM@._V1_QL40_UX256_CR0,0,256,379_.jpg\" srcset=\"https://m.media-amazon.com/images/M/MV5BNDAzMzlkNzMtNjlhOC00YjNjLWFiZmEtNmVhZTA4ZjI3OTllXkEyXkFqcGdeQXVyNDYzNjU3ODM@._V1_QL40_UX256_CR0,0,256,379_.jpg 256w, https://m.media-amazon.com/images/M/MV5BNDAzMzlkNzMtNjlhOC00YjNjLWFiZmEtNmVhZTA4ZjI3OTllXkEyXkFqcGdeQXVyNDYzNjU3ODM@._V1_QL40_UX384_CR0,0,384,568_.jpg 384w, https://m.media-amazon.com/images/M/MV5BNDAzMzlkNzMtNjlhOC00YjNjLWFiZmEtNmVhZTA4ZjI3OTllXkEyXkFqcGdeQXVyNDYzNjU3ODM@._V1_QL40_UX512_CR0,1,512,758_.jpg 512w\" width=\"256\"/></div></div><a class=\"AutorotatePeekstyle__EditorialSlotDetails-z2dw6i-6 eXRXJ\" href=\"/list/ls025720609/videoplayer/vi1197457689?ref_=hp_hp_e_4\"><div class=\"AutorotatePeekstyle__EditorialSlotDetail-z2dw6i-7 AutorotatePeekstyle__EditorialSlotPlaybackDetail-z2dw6i-8 kUrTCY\"><svg aria-label=\"Watch on IMDb\" class=\"editorial-play-icon AutorotatePeekstyle__PlayIcon-z2dw6i-14 kZmcOc\" role=\"button\" viewbox=\"0 0 109 108\" xmlns=\"http://www.w3.org/2000/svg\" xmlns:xlink=\"http://www.w3.org/1999/xlink\"><defs><circle cx=\"54.5\" cy=\"54.5\" id=\"b\" r=\"53.5\"></circle><filter filterunits=\"objectBoundingBox\" height=\"111.2%\" id=\"a\" width=\"111.2%\" x=\"-5.6%\" y=\"-5.6%\"><feoffset in=\"SourceAlpha\" result=\"shadowOffsetOuter1\"></feoffset><fegaussianblur in=\"shadowOffsetOuter1\" result=\"shadowBlurOuter1\" stddeviation=\"2\"></fegaussianblur><fecomposite in=\"shadowBlurOuter1\" in2=\"SourceAlpha\" operator=\"out\" result=\"shadowBlurOuter1\"></fecomposite><fecolormatrix in=\"shadowBlurOuter1\" values=\"0 0 0 0 0 0 0 0 0 0 0 0 0 0 0 0 0 0 0.5 0\"></fecolormatrix></filter></defs><g fill=\"none\" fill-rule=\"evenodd\"><use fill=\"#000\" filter=\"url(#a)\" xlink:href=\"#b\"></use><use fill=\"currentColor\" fill-opacity=\".7\" xlink:href=\"#b\"></use><path d=\"M54.5 109c30.1 0 54.5-24.4 54.5-54.5S84.6 0 54.5 0 0 24.4 0 54.5 24.4 109 54.5 109zm0-5C27.162 104 5 81.838 5 54.5S27.162 5 54.5 5 104 27.162 104 54.5 81.838 104 54.5 104z\" fill-rule=\"nonzero\"></path><path d=\"M49.12 73.11l22.883-17.15a2.432 2.432 0 0 0 0-3.92L49.12 34.89c-1.617-1.225-3.92-.049-3.92 1.96v34.3c0 2.009 2.303 3.185 3.92 1.96z\"></path></g></svg><span class=\"AutorotatePeekstyle__EditorialSlotRunTime-z2dw6i-12 hJHHUo\">2:37</span></div><div class=\"AutorotatePeekstyle__EditorialSlotDetail-z2dw6i-7 AutorotatePeekstyle__EditorialSlotTitleDetail-z2dw6i-9 duWEHC\"><span class=\"AutorotatePeekstyle__EditorialSlotTitle-z2dw6i-10 cTXhQE\">How 'Minari' Reflects the Cast's Life Experiences</span></div><div class=\"AutorotatePeekstyle__EditorialSlotDetail-z2dw6i-7 iZWuhv\"><span class=\"AutorotatePeekstyle__EditorialSlotSubtitle-z2dw6i-11 eDdnBe\">Lee Issac Chung's Moving Drama</span></div></a></div><div class=\"AutorotatePeekstyle__EditorialSlot-z2dw6i-4 iIQGKv\"><div class=\"AutorotatePeekstyle__EditorialSlotPoster-z2dw6i-5 cNKMWL\"><div class=\"ipc-media ipc-media--poster ipc-image-media-ratio--poster ipc-media--baseAlt ipc-media--custom ipc-poster__poster-image AutorotatePeekstyle__StyledPosterImage-z2dw6i-3 drvZQv ipc-media__img\" style=\"width:100%\"><img alt=\"'Yes Day'\" class=\"ipc-image\" loading=\"lazy\" sizes=\"50vw, (min-width: 480px) 34vw, (min-width: 600px) 26vw, (min-width: 1024px) 16vw, (min-width: 1280px) 16vw\" src=\"https://m.media-amazon.com/images/M/MV5BNTMwMzA4YzYtMzkwNC00N2ZhLTk5MjQtMjg3ODA3NDY3ZmVmXkEyXkFqcGdeQXVyMTkxNjUyNQ@@._V1_QL40_UX256_CR0,0,256,379_.jpg\" srcset=\"https://m.media-amazon.com/images/M/MV5BNTMwMzA4YzYtMzkwNC00N2ZhLTk5MjQtMjg3ODA3NDY3ZmVmXkEyXkFqcGdeQXVyMTkxNjUyNQ@@._V1_QL40_UX256_CR0,0,256,379_.jpg 256w, https://m.media-amazon.com/images/M/MV5BNTMwMzA4YzYtMzkwNC00N2ZhLTk5MjQtMjg3ODA3NDY3ZmVmXkEyXkFqcGdeQXVyMTkxNjUyNQ@@._V1_QL40_UX384_CR0,0,384,568_.jpg 384w, https://m.media-amazon.com/images/M/MV5BNTMwMzA4YzYtMzkwNC00N2ZhLTk5MjQtMjg3ODA3NDY3ZmVmXkEyXkFqcGdeQXVyMTkxNjUyNQ@@._V1_QL40_UX512_CR0,1,512,758_.jpg 512w\" width=\"256\"/></div></div><a class=\"AutorotatePeekstyle__EditorialSlotDetails-z2dw6i-6 eXRXJ\" href=\"/list/ls053181649/videoplayer/vi140362009?ref_=hp_hp_e_5\"><div class=\"AutorotatePeekstyle__EditorialSlotDetail-z2dw6i-7 AutorotatePeekstyle__EditorialSlotPlaybackDetail-z2dw6i-8 kUrTCY\"><svg aria-label=\"Watch on IMDb\" class=\"editorial-play-icon AutorotatePeekstyle__PlayIcon-z2dw6i-14 kZmcOc\" role=\"button\" viewbox=\"0 0 109 108\" xmlns=\"http://www.w3.org/2000/svg\" xmlns:xlink=\"http://www.w3.org/1999/xlink\"><defs><circle cx=\"54.5\" cy=\"54.5\" id=\"b\" r=\"53.5\"></circle><filter filterunits=\"objectBoundingBox\" height=\"111.2%\" id=\"a\" width=\"111.2%\" x=\"-5.6%\" y=\"-5.6%\"><feoffset in=\"SourceAlpha\" result=\"shadowOffsetOuter1\"></feoffset><fegaussianblur in=\"shadowOffsetOuter1\" result=\"shadowBlurOuter1\" stddeviation=\"2\"></fegaussianblur><fecomposite in=\"shadowBlurOuter1\" in2=\"SourceAlpha\" operator=\"out\" result=\"shadowBlurOuter1\"></fecomposite><fecolormatrix in=\"shadowBlurOuter1\" values=\"0 0 0 0 0 0 0 0 0 0 0 0 0 0 0 0 0 0 0.5 0\"></fecolormatrix></filter></defs><g fill=\"none\" fill-rule=\"evenodd\"><use fill=\"#000\" filter=\"url(#a)\" xlink:href=\"#b\"></use><use fill=\"currentColor\" fill-opacity=\".7\" xlink:href=\"#b\"></use><path d=\"M54.5 109c30.1 0 54.5-24.4 54.5-54.5S84.6 0 54.5 0 0 24.4 0 54.5 24.4 109 54.5 109zm0-5C27.162 104 5 81.838 5 54.5S27.162 5 54.5 5 104 27.162 104 54.5 81.838 104 54.5 104z\" fill-rule=\"nonzero\"></path><path d=\"M49.12 73.11l22.883-17.15a2.432 2.432 0 0 0 0-3.92L49.12 34.89c-1.617-1.225-3.92-.049-3.92 1.96v34.3c0 2.009 2.303 3.185 3.92 1.96z\"></path></g></svg><span class=\"AutorotatePeekstyle__EditorialSlotRunTime-z2dw6i-12 hJHHUo\">2:21</span></div><div class=\"AutorotatePeekstyle__EditorialSlotDetail-z2dw6i-7 AutorotatePeekstyle__EditorialSlotTitleDetail-z2dw6i-9 duWEHC\"><span class=\"AutorotatePeekstyle__EditorialSlotTitle-z2dw6i-10 cTXhQE\">'Yes Day'</span></div><div class=\"AutorotatePeekstyle__EditorialSlotDetail-z2dw6i-7 iZWuhv\"><span class=\"AutorotatePeekstyle__EditorialSlotSubtitle-z2dw6i-11 eDdnBe\">Watch the Trailer</span></div></a></div></div></div></div></div><div class=\"AutorotateWithPeekVideoCarouselstyles__WithPeekBrowseTrailersLinkContainer-sc-1y0e8a1-4 dqfMEd\"><a class=\"example-headline6 AutorotateWithPeekVideoCarouselstyles__WithPeekBrowseTrailersLink-sc-1y0e8a1-6 jjDLdw\" href=\"/trailers/?ref_=hm_hp_sm\">Browse trailers<svg class=\"ipc-icon ipc-icon--chevron-right chevron-right\" fill=\"currentColor\" height=\"24\" role=\"presentation\" viewbox=\"0 0 24 24\" width=\"24\" xmlns=\"http://www.w3.org/2000/svg\"><path d=\"M0 0h24v24H0V0z\" fill=\"none\"></path><path d=\"M9.29 6.71a.996.996 0 0 0 0 1.41L13.17 12l-3.88 3.88a.996.996 0 1 0 1.41 1.41l4.59-4.59a.996.996 0 0 0 0-1.41L10.7 6.7c-.38-.38-1.02-.38-1.41.01z\"></path></svg></a></div></div></div></div></div><script>if (typeof uet == 'function') {\n",
       "                uet(\"be\", \"hero-feature\", {wb: 1});\n",
       "            }</script><script>if (typeof uex == 'function') {\n",
       "                uex(\"ld\", \"hero-feature\", {wb: 1});\n",
       "            }</script><script>if (typeof uet == 'function') {\n",
       "                uet(\"bb\", \"featured-today\", {wb: 1});\n",
       "            }</script><div class=\"ipc-page-grid ipc-page-grid--bias-left page-grid\"><section class=\"ipc-page-section ipc-page-section--baseAlt featured-today ipc-page-grid__item ipc-page-grid__item--span-2\"><hgroup class=\"ipc-title ipc-title--category-title ipc-title--baseAlt ipc-title--on-accent1 sc-cvbbAY kFDhcJ\"><h3 class=\"ipc-title__text\">Featured today<!-- --> </h3></hgroup><div class=\"editorial-carousel\"><div class=\"ipc-shoveler\" role=\"group\"><div class=\"ipc-sub-grid ipc-sub-grid--page-span-2 ipc-sub-grid--nowrap ipc-shoveler__grid\"><div class=\"TmuaKOoDo-QlBHQGmOX1k ipc-sub-grid-item ipc-sub-grid-item--span-4\"><div class=\"ipc-slate ipc-slate--baseAlt ipc-slate--dynamic-width ipc-sub-grid-item ipc-sub-grid-item--span-4\" role=\"group\"><div class=\"ipc-media ipc-media--slate-16x9 ipc-image-media-ratio--slate-16x9 ipc-media--baseAlt ipc-media--slate-m ipc-slate__slate-image ipc-media__img\" style=\"width:100%\"><img alt=\"IMDb Picks: Our Valentine's Day Favorites list\" class=\"ipc-image\" loading=\"lazy\" sizes=\"100vw, (min-width: 480px) 68vw, (min-width: 600px) 52vw, (min-width: 1024px) 32vw, (min-width: 1280px) 32vw\" src=\"https://m.media-amazon.com/images/M/MV5BNTFiY2E2MTQtMTQzYy00NmMxLWI0M2QtYWExMjNjMmExZTg1XkEyXkFqcGdeQXVyMTEyMjM2NDc2._V1_UX500_CR0,0,500,281_.jpg\" srcset=\"https://m.media-amazon.com/images/M/MV5BNTFiY2E2MTQtMTQzYy00NmMxLWI0M2QtYWExMjNjMmExZTg1XkEyXkFqcGdeQXVyMTEyMjM2NDc2._V1_UX500_CR0,0,500,281_.jpg 500w, https://m.media-amazon.com/images/M/MV5BNTFiY2E2MTQtMTQzYy00NmMxLWI0M2QtYWExMjNjMmExZTg1XkEyXkFqcGdeQXVyMTEyMjM2NDc2._V1_UX750_CR0,0,750,422_.jpg 750w, https://m.media-amazon.com/images/M/MV5BNTFiY2E2MTQtMTQzYy00NmMxLWI0M2QtYWExMjNjMmExZTg1XkEyXkFqcGdeQXVyMTEyMjM2NDc2._V1_UX1000_CR0,0,1000,563_.jpg 1000w\" width=\"500\"/></div><a aria-label=\"editorial image\" class=\"ipc-lockup-overlay ipc-focusable\" href=\"/golden-globes/valentines-day-movies-and-tv-shows/ls021485250/mediaviewer/rm2820312832?pf_rd_r=TE1KYJ9RX2QVYYW0SQRB&amp;pf_rd_p=592d5e27-748a-4003-9fd2-47ff0c6af813&amp;pf_rd_m=A2FGELUUNOQJNL&amp;pf_rd_t=15061&amp;pf_rd_i=home&amp;pf_rd_s=featured-today-1&amp;ref_=hm_edcft_gg_vday_ft_1\" tabindex=\"0\"><div class=\"ipc-lockup-overlay__screen\"></div><div class=\"ipc-lockup-overlay__gradient ipc-lockup-overlay__gradient--linear\"></div><div class=\"ipc-lockup-overlay__content\"><svg class=\"ipc-icon ipc-icon--list ipc-lockup-overlay__icon\" fill=\"currentColor\" height=\"24\" role=\"presentation\" viewbox=\"0 0 24 24\" width=\"24\" xmlns=\"http://www.w3.org/2000/svg\"><g fill=\"none\"><path d=\"M0 0h24v24H0V0z\"></path><path d=\"M0 0h24v24H0V0z\" opacity=\".87\"></path></g><path d=\"M4 13c.55 0 1-.45 1-1s-.45-1-1-1-1 .45-1 1 .45 1 1 1zm0 4c.55 0 1-.45 1-1s-.45-1-1-1-1 .45-1 1 .45 1 1 1zm0-8c.55 0 1-.45 1-1s-.45-1-1-1-1 .45-1 1 .45 1 1 1zm4 4h12c.55 0 1-.45 1-1s-.45-1-1-1H8c-.55 0-1 .45-1 1s.45 1 1 1zm0 4h12c.55 0 1-.45 1-1s-.45-1-1-1H8c-.55 0-1 .45-1 1s.45 1 1 1zM7 8c0 .55.45 1 1 1h12c.55 0 1-.45 1-1s-.45-1-1-1H8c-.55 0-1 .45-1 1zm-3 5c.55 0 1-.45 1-1s-.45-1-1-1-1 .45-1 1 .45 1 1 1zm0 4c.55 0 1-.45 1-1s-.45-1-1-1-1 .45-1 1 .45 1 1 1zm0-8c.55 0 1-.45 1-1s-.45-1-1-1-1 .45-1 1 .45 1 1 1zm4 4h12c.55 0 1-.45 1-1s-.45-1-1-1H8c-.55 0-1 .45-1 1s.45 1 1 1zm0 4h12c.55 0 1-.45 1-1s-.45-1-1-1H8c-.55 0-1 .45-1 1s.45 1 1 1zM7 8c0 .55.45 1 1 1h12c.55 0 1-.45 1-1s-.45-1-1-1H8c-.55 0-1 .45-1 1z\"></path></svg><span class=\"ipc-lockup-overlay__text\">List</span></div></a></div><a class=\"Rwa4i3rwtfq5LpCcukrtG\" href=\"/golden-globes/valentines-day-movies-and-tv-shows/ls021485250/mediaviewer/rm2820312832?pf_rd_r=TE1KYJ9RX2QVYYW0SQRB&amp;pf_rd_p=592d5e27-748a-4003-9fd2-47ff0c6af813&amp;pf_rd_m=A2FGELUUNOQJNL&amp;pf_rd_t=15061&amp;pf_rd_i=home&amp;pf_rd_s=featured-today-1&amp;ref_=hm_edcft_gg_vday_ft_1\">IMDb Picks: Our Valentine's Day Favorites</a></div><div class=\"TmuaKOoDo-QlBHQGmOX1k ipc-sub-grid-item ipc-sub-grid-item--span-4\"><div class=\"ipc-slate ipc-slate--baseAlt ipc-slate--dynamic-width ipc-sub-grid-item ipc-sub-grid-item--span-4\" role=\"group\"><div class=\"ipc-media ipc-media--slate-16x9 ipc-image-media-ratio--slate-16x9 ipc-media--baseAlt ipc-media--slate-m ipc-slate__slate-image ipc-media__img\" style=\"width:100%\"><img alt=\"Queer Indian Cinema Romances to Watch This Valentine's Day list\" class=\"ipc-image\" loading=\"lazy\" sizes=\"100vw, (min-width: 480px) 68vw, (min-width: 600px) 52vw, (min-width: 1024px) 32vw, (min-width: 1280px) 32vw\" src=\"https://m.media-amazon.com/images/M/MV5BMzQ1MTZlMGEtMjZhOS00Zjk5LThjYzktYjJjMzQxYmFjNjExXkEyXkFqcGdeQXVyNjY1MTg4Mzc@._V1_UX500_CR0,0,500,281_.jpg\" srcset=\"https://m.media-amazon.com/images/M/MV5BMzQ1MTZlMGEtMjZhOS00Zjk5LThjYzktYjJjMzQxYmFjNjExXkEyXkFqcGdeQXVyNjY1MTg4Mzc@._V1_UX500_CR0,0,500,281_.jpg 500w, https://m.media-amazon.com/images/M/MV5BMzQ1MTZlMGEtMjZhOS00Zjk5LThjYzktYjJjMzQxYmFjNjExXkEyXkFqcGdeQXVyNjY1MTg4Mzc@._V1_UX750_CR0,0,750,422_.jpg 750w, https://m.media-amazon.com/images/M/MV5BMzQ1MTZlMGEtMjZhOS00Zjk5LThjYzktYjJjMzQxYmFjNjExXkEyXkFqcGdeQXVyNjY1MTg4Mzc@._V1_UX1000_CR0,0,1000,563_.jpg 1000w\" width=\"500\"/></div><a aria-label=\"editorial image\" class=\"ipc-lockup-overlay ipc-focusable\" href=\"/india/ls096323106/?pf_rd_r=TE1KYJ9RX2QVYYW0SQRB&amp;pf_rd_p=4ecfa187-0752-4440-aba9-2537307b2192&amp;pf_rd_m=A2FGELUUNOQJNL&amp;pf_rd_t=15061&amp;pf_rd_i=home&amp;pf_rd_s=featured-today-2&amp;ref_=hm_edcft_india_vd_2\" tabindex=\"0\"><div class=\"ipc-lockup-overlay__screen\"></div><div class=\"ipc-lockup-overlay__gradient ipc-lockup-overlay__gradient--linear\"></div><div class=\"ipc-lockup-overlay__content\"><svg class=\"ipc-icon ipc-icon--list ipc-lockup-overlay__icon\" fill=\"currentColor\" height=\"24\" role=\"presentation\" viewbox=\"0 0 24 24\" width=\"24\" xmlns=\"http://www.w3.org/2000/svg\"><g fill=\"none\"><path d=\"M0 0h24v24H0V0z\"></path><path d=\"M0 0h24v24H0V0z\" opacity=\".87\"></path></g><path d=\"M4 13c.55 0 1-.45 1-1s-.45-1-1-1-1 .45-1 1 .45 1 1 1zm0 4c.55 0 1-.45 1-1s-.45-1-1-1-1 .45-1 1 .45 1 1 1zm0-8c.55 0 1-.45 1-1s-.45-1-1-1-1 .45-1 1 .45 1 1 1zm4 4h12c.55 0 1-.45 1-1s-.45-1-1-1H8c-.55 0-1 .45-1 1s.45 1 1 1zm0 4h12c.55 0 1-.45 1-1s-.45-1-1-1H8c-.55 0-1 .45-1 1s.45 1 1 1zM7 8c0 .55.45 1 1 1h12c.55 0 1-.45 1-1s-.45-1-1-1H8c-.55 0-1 .45-1 1zm-3 5c.55 0 1-.45 1-1s-.45-1-1-1-1 .45-1 1 .45 1 1 1zm0 4c.55 0 1-.45 1-1s-.45-1-1-1-1 .45-1 1 .45 1 1 1zm0-8c.55 0 1-.45 1-1s-.45-1-1-1-1 .45-1 1 .45 1 1 1zm4 4h12c.55 0 1-.45 1-1s-.45-1-1-1H8c-.55 0-1 .45-1 1s.45 1 1 1zm0 4h12c.55 0 1-.45 1-1s-.45-1-1-1H8c-.55 0-1 .45-1 1s.45 1 1 1zM7 8c0 .55.45 1 1 1h12c.55 0 1-.45 1-1s-.45-1-1-1H8c-.55 0-1 .45-1 1z\"></path></svg><span class=\"ipc-lockup-overlay__text\">List</span></div></a></div><a class=\"Rwa4i3rwtfq5LpCcukrtG\" href=\"/india/ls096323106/?pf_rd_r=TE1KYJ9RX2QVYYW0SQRB&amp;pf_rd_p=4ecfa187-0752-4440-aba9-2537307b2192&amp;pf_rd_m=A2FGELUUNOQJNL&amp;pf_rd_t=15061&amp;pf_rd_i=home&amp;pf_rd_s=featured-today-2&amp;ref_=hm_edcft_india_vd_2\">Queer Indian Cinema Romances to Watch This Valentine's Day</a></div><div class=\"TmuaKOoDo-QlBHQGmOX1k ipc-sub-grid-item ipc-sub-grid-item--span-4\"><div class=\"ipc-slate ipc-slate--baseAlt ipc-slate--dynamic-width ipc-sub-grid-item ipc-sub-grid-item--span-4\" role=\"group\"><div class=\"ipc-media ipc-media--slate-16x9 ipc-image-media-ratio--slate-16x9 ipc-media--baseAlt ipc-media--slate-m ipc-slate__slate-image ipc-media__img\" style=\"width:100%\"><img alt=\"Everything New on HBO Max in February list\" class=\"ipc-image\" loading=\"lazy\" sizes=\"100vw, (min-width: 480px) 68vw, (min-width: 600px) 52vw, (min-width: 1024px) 32vw, (min-width: 1280px) 32vw\" src=\"https://m.media-amazon.com/images/M/MV5BZDg0ZWZiNDEtMzRkZi00YjhiLWExNDgtM2MxZDgzN2EyZmUzXkEyXkFqcGdeQXVyMTEyMjM2NDc2._V1_UX500_CR0,0,500,281_.jpg\" srcset=\"https://m.media-amazon.com/images/M/MV5BZDg0ZWZiNDEtMzRkZi00YjhiLWExNDgtM2MxZDgzN2EyZmUzXkEyXkFqcGdeQXVyMTEyMjM2NDc2._V1_UX500_CR0,0,500,281_.jpg 500w, https://m.media-amazon.com/images/M/MV5BZDg0ZWZiNDEtMzRkZi00YjhiLWExNDgtM2MxZDgzN2EyZmUzXkEyXkFqcGdeQXVyMTEyMjM2NDc2._V1_UX750_CR0,0,750,422_.jpg 750w, https://m.media-amazon.com/images/M/MV5BZDg0ZWZiNDEtMzRkZi00YjhiLWExNDgtM2MxZDgzN2EyZmUzXkEyXkFqcGdeQXVyMTEyMjM2NDc2._V1_UX1000_CR0,0,1000,563_.jpg 1000w\" width=\"500\"/></div><a aria-label=\"editorial image\" class=\"ipc-lockup-overlay ipc-focusable\" href=\"/whats-on-tv/new-on-hbo-max-streaming/ls084902948/?pf_rd_r=TE1KYJ9RX2QVYYW0SQRB&amp;pf_rd_p=f8253949-e07e-4943-a9b3-20cafc9110ff&amp;pf_rd_m=A2FGELUUNOQJNL&amp;pf_rd_t=15061&amp;pf_rd_i=home&amp;pf_rd_s=featured-today-3&amp;ref_=hm_edcft_wtw_hbo_3\" tabindex=\"0\"><div class=\"ipc-lockup-overlay__screen\"></div><div class=\"ipc-lockup-overlay__gradient ipc-lockup-overlay__gradient--linear\"></div><div class=\"ipc-lockup-overlay__content\"><svg class=\"ipc-icon ipc-icon--list ipc-lockup-overlay__icon\" fill=\"currentColor\" height=\"24\" role=\"presentation\" viewbox=\"0 0 24 24\" width=\"24\" xmlns=\"http://www.w3.org/2000/svg\"><g fill=\"none\"><path d=\"M0 0h24v24H0V0z\"></path><path d=\"M0 0h24v24H0V0z\" opacity=\".87\"></path></g><path d=\"M4 13c.55 0 1-.45 1-1s-.45-1-1-1-1 .45-1 1 .45 1 1 1zm0 4c.55 0 1-.45 1-1s-.45-1-1-1-1 .45-1 1 .45 1 1 1zm0-8c.55 0 1-.45 1-1s-.45-1-1-1-1 .45-1 1 .45 1 1 1zm4 4h12c.55 0 1-.45 1-1s-.45-1-1-1H8c-.55 0-1 .45-1 1s.45 1 1 1zm0 4h12c.55 0 1-.45 1-1s-.45-1-1-1H8c-.55 0-1 .45-1 1s.45 1 1 1zM7 8c0 .55.45 1 1 1h12c.55 0 1-.45 1-1s-.45-1-1-1H8c-.55 0-1 .45-1 1zm-3 5c.55 0 1-.45 1-1s-.45-1-1-1-1 .45-1 1 .45 1 1 1zm0 4c.55 0 1-.45 1-1s-.45-1-1-1-1 .45-1 1 .45 1 1 1zm0-8c.55 0 1-.45 1-1s-.45-1-1-1-1 .45-1 1 .45 1 1 1zm4 4h12c.55 0 1-.45 1-1s-.45-1-1-1H8c-.55 0-1 .45-1 1s.45 1 1 1zm0 4h12c.55 0 1-.45 1-1s-.45-1-1-1H8c-.55 0-1 .45-1 1s.45 1 1 1zM7 8c0 .55.45 1 1 1h12c.55 0 1-.45 1-1s-.45-1-1-1H8c-.55 0-1 .45-1 1z\"></path></svg><span class=\"ipc-lockup-overlay__text\">List</span></div></a></div><a class=\"Rwa4i3rwtfq5LpCcukrtG\" href=\"/whats-on-tv/new-on-hbo-max-streaming/ls084902948/?pf_rd_r=TE1KYJ9RX2QVYYW0SQRB&amp;pf_rd_p=f8253949-e07e-4943-a9b3-20cafc9110ff&amp;pf_rd_m=A2FGELUUNOQJNL&amp;pf_rd_t=15061&amp;pf_rd_i=home&amp;pf_rd_s=featured-today-3&amp;ref_=hm_edcft_wtw_hbo_3\">Everything New on HBO Max in February</a></div><div class=\"_1psrTMhhKoFz6g6w1bifu9 ipc-sub-grid-item ipc-sub-grid-item--span-4\"></div><div class=\"_1psrTMhhKoFz6g6w1bifu9 ipc-sub-grid-item ipc-sub-grid-item--span-4\"></div><div class=\"_1psrTMhhKoFz6g6w1bifu9 ipc-sub-grid-item ipc-sub-grid-item--span-4\"></div><div class=\"_1psrTMhhKoFz6g6w1bifu9 ipc-sub-grid-item ipc-sub-grid-item--span-4\"></div><div class=\"_1psrTMhhKoFz6g6w1bifu9 ipc-sub-grid-item ipc-sub-grid-item--span-4\"></div><div class=\"_1psrTMhhKoFz6g6w1bifu9 ipc-sub-grid-item ipc-sub-grid-item--span-4\"></div><div class=\"_1psrTMhhKoFz6g6w1bifu9 ipc-sub-grid-item ipc-sub-grid-item--span-4\"></div><div class=\"_1psrTMhhKoFz6g6w1bifu9 ipc-sub-grid-item ipc-sub-grid-item--span-4\"></div></div></div></div></section><div><div class=\"slot_wrapper\"><!-- Begin INLINE40 -->\n",
       "<div class=\"cornerstone_slot\" id=\"inline40_wrapper\">\n",
       "<style>\n",
       "@media only screen and (min-width : 300px) and (max-width : 767px){\n",
       ".placeholder_inline40_size {\n",
       "width: 300px;\n",
       "height: 250px;\n",
       "}\n",
       "}\n",
       "@media only screen and (min-width : 768px) and (max-width : 1023px){\n",
       ".placeholder_inline40_size {\n",
       "width: 300px;\n",
       "height: 250px;\n",
       "}\n",
       "}\n",
       "@media only screen and (min-width : 1024px) and (max-width : 1279px){\n",
       ".placeholder_inline40_size {\n",
       "width: 300px;\n",
       "height: 250px;\n",
       "}\n",
       "}\n",
       "@media only screen and (min-width : 1280px) and (max-width : 9999px){\n",
       ".placeholder_inline40_size {\n",
       "width: 300px;\n",
       "height: 250px;\n",
       "}\n",
       "}\n",
       "</style>\n",
       "<div class=\"placeholder_pattern placeholder_inline40_size\" id=\"placeholderPattern\" style=\"position: relative;\">\n",
       "</div>\n",
       "</div>\n",
       "<!-- End INLINE40 --></div></div></div><script>if (typeof uet == 'function') {\n",
       "                uet(\"be\", \"featured-today\", {wb: 1});\n",
       "            }</script><script>if (typeof uex == 'function') {\n",
       "                uex(\"ld\", \"featured-today\", {wb: 1});\n",
       "            }</script><div class=\"ipc-page-grid ipc-page-grid--bias-left page-grid\"></div><script>if (typeof uet == 'function') { uet(\"af\");}</script><div class=\"ipc-page-grid ipc-page-grid--bias-left page-grid\"><div class=\"ipc-sub-grid ipc-sub-grid--page-span-3 ipc-sub-grid--wrap ipc-sub-grid--omit-both section-title-with-button ipc-page-grid__item ipc-page-grid__item--span-3\"><hgroup class=\"ipc-title ipc-title--category-title ipc-title--baseAlt ipc-title--on-accent1 section-title-with-button__sectionTitle ipc-sub-grid-item ipc-sub-grid-item--span-4\"><h3 class=\"ipc-title__text\">What to watch</h3></hgroup><a aria-disabled=\"false\" class=\"ipc-button ipc-button--single-padding ipc-button--default-height ipc-button--core-accent1 ipc-button--theme-baseAlt section-title-with-button__button ipc-sub-grid-item ipc-sub-grid-item--span-4\" href=\"/what-to-watch?ref_=hm_watch_btn\" role=\"button\" tabindex=\"0\"><div class=\"ipc-button__text\">Browse our What to Watch page</div><svg class=\"ipc-icon ipc-icon--chevron-right ipc-button__icon ipc-button__icon--post\" fill=\"currentColor\" height=\"24\" role=\"presentation\" viewbox=\"0 0 24 24\" width=\"24\" xmlns=\"http://www.w3.org/2000/svg\"><path d=\"M0 0h24v24H0V0z\" fill=\"none\"></path><path d=\"M9.29 6.71a.996.996 0 0 0 0 1.41L13.17 12l-3.88 3.88a.996.996 0 1 0 1.41 1.41l4.59-4.59a.996.996 0 0 0 0-1.41L10.7 6.7c-.38-.38-1.02-.38-1.41.01z\"></path></svg></a></div><script>if (typeof uet == 'function') {\n",
       "                uet(\"bb\", \"latest-picks\", {wb: 1});\n",
       "            }</script><script>if (typeof uet == 'function') {\n",
       "                uet(\"be\", \"latest-picks\", {wb: 1});\n",
       "            }</script><script>if (typeof uex == 'function') {\n",
       "                uex(\"ld\", \"latest-picks\", {wb: 1});\n",
       "            }</script><script>if (typeof uet == 'function') {\n",
       "                uet(\"bb\", \"from-your-watchlist\", {wb: 1});\n",
       "            }</script><div class=\"anchor-link\" id=\"from-your-watchlist\"></div><section class=\"ipc-page-section ipc-page-section--baseAlt ipc-page-grid__item ipc-page-grid__item--span-3\"><div class=\"from-your-watchlist\"><div class=\"\"><hgroup class=\"ipc-title ipc-title--subsection-title ipc-title--baseAlt ipc-title--on-textPrimary\"><h3 class=\"ipc-title__text\">From your Watchlist</h3></hgroup></div><section class=\"ipc-page-section ipc-page-section--baseAlt from-your-watchlist__state__container\"><div class=\"ipc-watchlist-ribbon ipc-focusable ipc-watchlist-ribbon--m ipc-watchlist-ribbon--baseAlt from-your-watchlist__ribbon\" role=\"button\" tabindex=\"0\"><svg class=\"ipc-watchlist-ribbon__bg\" height=\"34px\" role=\"presentation\" viewbox=\"0 0 24 34\" width=\"24px\" xmlns=\"http://www.w3.org/2000/svg\"><polygon class=\"ipc-watchlist-ribbon__bg-ribbon\" fill=\"#000000\" points=\"24 0 0 0 0 32 12.2436611 26.2926049 24 31.7728343\"></polygon><polygon class=\"ipc-watchlist-ribbon__bg-hover\" points=\"24 0 0 0 0 32 12.2436611 26.2926049 24 31.7728343\"></polygon><polygon class=\"ipc-watchlist-ribbon__bg-shadow\" points=\"24 31.7728343 24 33.7728343 12.2436611 28.2926049 0 34 0 32 12.2436611 26.2926049\"></polygon></svg><div class=\"ipc-watchlist-ribbon__icon\" role=\"presentation\"><svg class=\"ipc-icon ipc-icon--add ipc-icon--inline\" fill=\"currentColor\" height=\"24\" role=\"presentation\" viewbox=\"0 0 24 24\" width=\"24\" xmlns=\"http://www.w3.org/2000/svg\"><path d=\"M0 0h24v24H0V0z\" fill=\"none\"></path><path d=\"M18 13h-5v5c0 .55-.45 1-1 1s-1-.45-1-1v-5H6c-.55 0-1-.45-1-1s.45-1 1-1h5V6c0-.55.45-1 1-1s1 .45 1 1v5h5c.55 0 1 .45 1 1s-.45 1-1 1z\"></path></svg></div></div><div class=\"from-your-watchlist__status-prompt__container\"><div class=\"from-your-watchlist__status-prompt__title\">Sign in to access your Watchlist</div><div class=\"from-your-watchlist__status-prompt__content__baseAlt\">Save shows and movies to keep track of what you want to watch</div></div><a aria-disabled=\"false\" class=\"ipc-button ipc-button--double-padding ipc-button--default-height ipc-button--core-accent1 ipc-button--theme-baseAlt from-your-watchlist__state__button\" href=\"/registration/signin?ref_=hm_wls_signin\" role=\"button\" tabindex=\"0\"><div class=\"ipc-button__text\">Sign in to IMDb</div></a></section></div></section><script>if (typeof uet == 'function') {\n",
       "                uet(\"be\", \"from-your-watchlist\", {wb: 1});\n",
       "            }</script><script>if (typeof uex == 'function') {\n",
       "                uex(\"ld\", \"from-your-watchlist\", {wb: 1});\n",
       "            }</script><script>if (typeof uet == 'function') {\n",
       "                uet(\"bb\", \"fan-picks\", {wb: 1});\n",
       "            }</script><script>if (typeof uet == 'function') {\n",
       "                uet(\"be\", \"fan-picks\", {wb: 1});\n",
       "            }</script><script>if (typeof uex == 'function') {\n",
       "                uex(\"ld\", \"fan-picks\", {wb: 1});\n",
       "            }</script><script>if (typeof uet == 'function') {\n",
       "                uet(\"bb\", \"more-to-watch\", {wb: 1});\n",
       "            }</script><script>if (typeof uet == 'function') {\n",
       "                uet(\"be\", \"more-to-watch\", {wb: 1});\n",
       "            }</script><script>if (typeof uex == 'function') {\n",
       "                uex(\"ld\", \"more-to-watch\", {wb: 1});\n",
       "            }</script></div><div class=\"ipc-page-grid ipc-page-grid--bias-left page-grid\"><section class=\"ipc-page-section ipc-page-section--baseAlt more-to-watch ipc-page-grid__item ipc-page-grid__item--span-3\"><div class=\"\"><hgroup class=\"ipc-title ipc-title--subsection-title ipc-title--baseAlt ipc-title--on-textPrimary\"><h3 class=\"ipc-title__text\">More to watch</h3><div class=\"ipc-title__description\">IMDb helps you select the perfect next show or movie to watch.</div></hgroup></div><div class=\"ipc-sub-grid ipc-sub-grid--page-span-3 ipc-sub-grid--wrap\"><a aria-disabled=\"false\" class=\"ipc-button ipc-button--single-padding ipc-button--default-height ipc-button--core-baseAlt ipc-button--theme-baseAlt ipc-outline-button ipc-sub-grid-item ipc-sub-grid-item--span-3\" href=\"/what-to-watch/watch-guides/?ref_=hm_watch_wchgd\" role=\"button\" tabindex=\"0\"><div class=\"ipc-button__text\">Watch Guide</div></a><a aria-disabled=\"false\" class=\"ipc-button ipc-button--single-padding ipc-button--default-height ipc-button--core-baseAlt ipc-button--theme-baseAlt ipc-outline-button ipc-sub-grid-item ipc-sub-grid-item--span-3\" href=\"/what-to-watch/popular/?ref_=hm_watch_pop\" role=\"button\" tabindex=\"0\"><div class=\"ipc-button__text\">Most Popular</div></a></div></section></div><div class=\"ipc-page-grid ipc-page-grid--bias-left page-grid\"><section class=\"ipc-page-section ipc-page-section--baseAlt ipc-page-section--tp-m ipc-page-grid__item ipc-page-grid__item--span-3\"><div class=\"page-lazy-loader\"><svg class=\"ipc-loader ipc-loader--dot\" height=\"12px\" role=\"presentation\" version=\"1.1\" viewbox=\"0 0 52 12\" width=\"52px\" xmlns=\"http://www.w3.org/2000/svg\"><g class=\"ipc-loader__container\" fill=\"currentColor\"><circle class=\"ipc-loader__dot ipc-loader__dot--one\" cx=\"6\" cy=\"6\" r=\"6\"></circle><circle class=\"ipc-loader__dot ipc-loader__dot--two\" cx=\"26\" cy=\"6\" r=\"6\"></circle><circle class=\"ipc-loader__dot ipc-loader__dot--three\" cx=\"46\" cy=\"6\" r=\"6\"></circle></g></svg></div></section></div></div><script>if (typeof uet == 'function') { uet(\"be\");}</script></main><script>if (typeof uet == 'function') {\n",
       "                uet(\"bb\", \"responsiveFooter\", {wb: 1});\n",
       "            }</script><footer class=\"imdb-footer _TLXOR4lOiPIyTmiJ0dPW\"><div class=\"ZNUbpZKH8xCwa1W-_fcXn\"><div class=\"ipc-page-content-container ipc-page-content-container--center\" role=\"presentation\"><a aria-disabled=\"false\" class=\"ipc-button ipc-button--double-padding ipc-button--default-height ipc-button--core-accent1 ipc-button--theme-baseAlt imdb-footer__open-in-app-button\" href=\"/whitelist-offsite?url=https%3A%2F%2Fslyb.app.link%2FSKdyQ6A449&amp;page-action=ft-gettheapp&amp;ref=ft_apps\" role=\"button\" tabindex=\"0\"><div class=\"ipc-button__text\">Get the IMDb App</div></a></div></div><div class=\"ipc-page-content-container ipc-page-content-container--center _3z5OrvzxXylpc4E_IkyaJo\" role=\"presentation\"><div class=\"imdb-footer__links\"><div class=\"_27Hr-itnXHPpOoaB59daSz\"><ul class=\"ipc-inline-list _1W6LtHiV5M-NUnes6xN1az baseAlt\" role=\"presentation\"><li class=\"ipc-inline-list__item\" role=\"presentation\"><a aria-disabled=\"false\" aria-label=\"Facebook\" class=\"ipc-icon-link ipc-icon-link--baseAlt ipc-icon-link--onBase\" href=\"/whitelist-offsite?url=https%3A%2F%2Ffacebook.com%2Fimdb&amp;page-action=fol_fb&amp;ref=ft_fol_fb\" rel=\"nofollow noopener\" role=\"button\" tabindex=\"0\" target=\"_blank\" title=\"Facebook\"><svg class=\"ipc-icon ipc-icon--facebook\" fill=\"currentColor\" height=\"24\" role=\"presentation\" viewbox=\"0 0 24 24\" width=\"24\" xmlns=\"http://www.w3.org/2000/svg\"><path d=\"M20.896 2H3.104C2.494 2 2 2.494 2 3.104v17.792C2 21.506 2.494 22 3.104 22h9.579v-7.745h-2.607v-3.018h2.607V9.01c0-2.584 1.577-3.99 3.882-3.99 1.104 0 2.052.082 2.329.119v2.7h-1.598c-1.254 0-1.496.595-1.496 1.47v1.927h2.989l-.39 3.018h-2.6V22h5.097c.61 0 1.104-.494 1.104-1.104V3.104C22 2.494 21.506 2 20.896 2\"></path></svg></a></li><li class=\"ipc-inline-list__item\" role=\"presentation\"><a aria-disabled=\"false\" aria-label=\"Instagram\" class=\"ipc-icon-link ipc-icon-link--baseAlt ipc-icon-link--onBase\" href=\"/whitelist-offsite?url=https%3A%2F%2Finstagram.com%2Fimdb&amp;page-action=fol_inst&amp;ref=ft_fol_inst\" rel=\"nofollow noopener\" role=\"button\" tabindex=\"0\" target=\"_blank\" title=\"Instagram\"><svg class=\"ipc-icon ipc-icon--instagram\" fill=\"currentColor\" height=\"24\" role=\"presentation\" viewbox=\"0 0 24 24\" width=\"24\" xmlns=\"http://www.w3.org/2000/svg\"><path d=\"M11.997 2.04c-2.715 0-3.056.011-4.122.06-1.064.048-1.79.217-2.426.463a4.901 4.901 0 0 0-1.771 1.151 4.89 4.89 0 0 0-1.153 1.767c-.247.635-.416 1.36-.465 2.422C2.011 8.967 2 9.307 2 12.017s.011 3.049.06 4.113c.049 1.062.218 1.787.465 2.422a4.89 4.89 0 0 0 1.153 1.767 4.901 4.901 0 0 0 1.77 1.15c.636.248 1.363.416 2.427.465 1.066.048 1.407.06 4.122.06s3.055-.012 4.122-.06c1.064-.049 1.79-.217 2.426-.464a4.901 4.901 0 0 0 1.77-1.15 4.89 4.89 0 0 0 1.154-1.768c.247-.635.416-1.36.465-2.422.048-1.064.06-1.404.06-4.113 0-2.71-.012-3.05-.06-4.114-.049-1.062-.218-1.787-.465-2.422a4.89 4.89 0 0 0-1.153-1.767 4.901 4.901 0 0 0-1.77-1.15c-.637-.247-1.363-.416-2.427-.464-1.067-.049-1.407-.06-4.122-.06m0 1.797c2.67 0 2.985.01 4.04.058.974.045 1.503.207 1.856.344.466.181.8.397 1.15.746.349.35.566.682.747 1.147.137.352.3.88.344 1.853.048 1.052.058 1.368.058 4.032 0 2.664-.01 2.98-.058 4.031-.044.973-.207 1.501-.344 1.853a3.09 3.09 0 0 1-.748 1.147c-.35.35-.683.565-1.15.746-.352.137-.88.3-1.856.344-1.054.048-1.37.058-4.04.058-2.669 0-2.985-.01-4.039-.058-.974-.044-1.504-.207-1.856-.344a3.098 3.098 0 0 1-1.15-.746 3.09 3.09 0 0 1-.747-1.147c-.137-.352-.3-.88-.344-1.853-.049-1.052-.059-1.367-.059-4.031 0-2.664.01-2.98.059-4.032.044-.973.207-1.501.344-1.853a3.09 3.09 0 0 1 .748-1.147c.35-.349.682-.565 1.149-.746.352-.137.882-.3 1.856-.344 1.054-.048 1.37-.058 4.04-.058\"></path><path d=\"M11.997 15.342a3.329 3.329 0 0 1-3.332-3.325 3.329 3.329 0 0 1 3.332-3.326 3.329 3.329 0 0 1 3.332 3.326 3.329 3.329 0 0 1-3.332 3.325m0-8.449a5.128 5.128 0 0 0-5.134 5.124 5.128 5.128 0 0 0 5.134 5.123 5.128 5.128 0 0 0 5.133-5.123 5.128 5.128 0 0 0-5.133-5.124m6.536-.203c0 .662-.537 1.198-1.2 1.198a1.198 1.198 0 1 1 1.2-1.197\"></path></svg></a></li><li class=\"ipc-inline-list__item\" role=\"presentation\"><a aria-disabled=\"false\" aria-label=\"Twitch\" class=\"ipc-icon-link ipc-icon-link--baseAlt ipc-icon-link--onBase\" href=\"/whitelist-offsite?url=https%3A%2F%2Ftwitch.tv%2FIMDb&amp;page-action=fol_twch&amp;ref=ft_fol_twch\" rel=\"nofollow noopener\" role=\"button\" tabindex=\"0\" target=\"_blank\" title=\"Twitch\"><svg class=\"ipc-icon ipc-icon--twitch\" fill=\"currentColor\" height=\"24\" role=\"presentation\" viewbox=\"0 0 24 24\" width=\"24\" xmlns=\"http://www.w3.org/2000/svg\"><path d=\"M3.406 2h18.596v12.814l-5.469 5.47H12.47L9.813 22.94H7.001v-2.657H2V5.594L3.406 2zm16.721 11.876v-10H5.125v13.126h4.22v2.656L12 17.002h5l3.126-3.126z\"></path><path d=\"M17.002 7.47v5.469h-1.875v-5.47zM12.001 7.47v5.469h-1.875v-5.47z\"></path></svg></a></li><li class=\"ipc-inline-list__item\" role=\"presentation\"><a aria-disabled=\"false\" aria-label=\"Twitter\" class=\"ipc-icon-link ipc-icon-link--baseAlt ipc-icon-link--onBase\" href=\"/whitelist-offsite?url=https%3A%2F%2Ftwitter.com%2Fimdb&amp;page-action=fol_tw&amp;ref=ft_fol_tw\" rel=\"nofollow noopener\" role=\"button\" tabindex=\"0\" target=\"_blank\" title=\"Twitter\"><svg class=\"ipc-icon ipc-icon--twitter\" fill=\"currentColor\" height=\"24\" role=\"presentation\" viewbox=\"0 0 24 24\" width=\"24\" xmlns=\"http://www.w3.org/2000/svg\"><path d=\"M8.29 19.936c7.547 0 11.675-6.13 11.675-11.446 0-.175-.004-.348-.012-.52A8.259 8.259 0 0 0 22 5.886a8.319 8.319 0 0 1-2.356.633 4.052 4.052 0 0 0 1.804-2.225c-.793.46-1.67.796-2.606.976A4.138 4.138 0 0 0 15.847 4c-2.266 0-4.104 1.802-4.104 4.023 0 .315.036.622.107.917a11.728 11.728 0 0 1-8.458-4.203 3.949 3.949 0 0 0-.556 2.022 4 4 0 0 0 1.826 3.348 4.136 4.136 0 0 1-1.858-.503l-.001.051c0 1.949 1.415 3.575 3.292 3.944a4.193 4.193 0 0 1-1.853.07c.522 1.597 2.037 2.76 3.833 2.793a8.34 8.34 0 0 1-5.096 1.722A8.51 8.51 0 0 1 2 18.13a11.785 11.785 0 0 0 6.29 1.807\"></path></svg></a></li><li class=\"ipc-inline-list__item\" role=\"presentation\"><a aria-disabled=\"false\" aria-label=\"YouTube\" class=\"ipc-icon-link ipc-icon-link--baseAlt ipc-icon-link--onBase\" href=\"/whitelist-offsite?url=https%3A%2F%2Fyoutube.com%2Fimdb%2F&amp;page-action=fol_yt&amp;ref=ft_fol_yt\" rel=\"nofollow noopener\" role=\"button\" tabindex=\"0\" target=\"_blank\" title=\"YouTube\"><svg class=\"ipc-icon ipc-icon--youtube\" fill=\"currentColor\" height=\"24\" role=\"presentation\" viewbox=\"0 0 24 24\" width=\"24\" xmlns=\"http://www.w3.org/2000/svg\"><path d=\"M9.955 14.955v-5.91L15.182 12l-5.227 2.955zm11.627-7.769a2.505 2.505 0 0 0-1.768-1.768C18.254 5 12 5 12 5s-6.254 0-7.814.418c-.86.23-1.538.908-1.768 1.768C2 8.746 2 12 2 12s0 3.254.418 4.814c.23.86.908 1.538 1.768 1.768C5.746 19 12 19 12 19s6.254 0 7.814-.418a2.505 2.505 0 0 0 1.768-1.768C22 15.254 22 12 22 12s0-3.254-.418-4.814z\"></path></svg></a></li></ul></div><div><ul class=\"ipc-inline-list _1W6LtHiV5M-NUnes6xN1az baseAlt\" role=\"presentation\"><li class=\"ipc-inline-list__item _3H6AMKfSRpYQwV79UPZXvX\" role=\"presentation\"><a class=\"ipc-link ipc-link--baseAlt ipc-link--touch-target ipc-link--inherit-color ipc-link--launch\" href=\"/whitelist-offsite?url=https%3A%2F%2Fslyb.app.link%2FSKdyQ6A449&amp;page-action=ft-gettheapp&amp;ref=ft_apps\" target=\"_blank\">Get the IMDb App<svg class=\"ipc-link__launch-icon\" fill=\"#000000\" height=\"10\" viewbox=\"0 0 10 10\" width=\"10\" xmlns=\"http://www.w3.org/2000/svg\"><g><path d=\"M9,9 L1,9 L1,1 L4,1 L4,0 L-1.42108547e-14,0 L-1.42108547e-14,10 L10,10 L10,6 L9,6 L9,9 Z M6,0 L6,1 L8,1 L2.998122,6.03786058 L3.998122,7.03786058 L9,2 L9,4 L10,4 L10,0 L6,0 Z\"></path></g></svg></a></li><li class=\"ipc-inline-list__item\" role=\"presentation\"><a class=\"ipc-link ipc-link--baseAlt ipc-link--touch-target ipc-link--inherit-color ipc-link--launch\" href=\"https://help.imdb.com/imdb?ref_=ft_hlp\" target=\"_blank\">Help<svg class=\"ipc-link__launch-icon\" fill=\"#000000\" height=\"10\" viewbox=\"0 0 10 10\" width=\"10\" xmlns=\"http://www.w3.org/2000/svg\"><g><path d=\"M9,9 L1,9 L1,1 L4,1 L4,0 L-1.42108547e-14,0 L-1.42108547e-14,10 L10,10 L10,6 L9,6 L9,9 Z M6,0 L6,1 L8,1 L2.998122,6.03786058 L3.998122,7.03786058 L9,2 L9,4 L10,4 L10,0 L6,0 Z\"></path></g></svg></a></li><li class=\"ipc-inline-list__item\" role=\"presentation\"><a class=\"ipc-link ipc-link--baseAlt ipc-link--touch-target ipc-link--inherit-color ipc-link--launch\" href=\"https://help.imdb.com/article/imdb/general-information/imdb-site-index/GNCX7BHNSPBTFALQ?ref_=ft_si#so\" target=\"_blank\">Site Index<svg class=\"ipc-link__launch-icon\" fill=\"#000000\" height=\"10\" viewbox=\"0 0 10 10\" width=\"10\" xmlns=\"http://www.w3.org/2000/svg\"><g><path d=\"M9,9 L1,9 L1,1 L4,1 L4,0 L-1.42108547e-14,0 L-1.42108547e-14,10 L10,10 L10,6 L9,6 L9,9 Z M6,0 L6,1 L8,1 L2.998122,6.03786058 L3.998122,7.03786058 L9,2 L9,4 L10,4 L10,0 L6,0 Z\"></path></g></svg></a></li><li class=\"ipc-inline-list__item\" role=\"presentation\"><a class=\"ipc-link ipc-link--baseAlt ipc-link--touch-target ipc-link--inherit-color ipc-link--launch\" href=\"https://pro.imdb.com?ref_=ft_pro&amp;rf=cons_tf_pro\" target=\"_blank\">IMDbPro<svg class=\"ipc-link__launch-icon\" fill=\"#000000\" height=\"10\" viewbox=\"0 0 10 10\" width=\"10\" xmlns=\"http://www.w3.org/2000/svg\"><g><path d=\"M9,9 L1,9 L1,1 L4,1 L4,0 L-1.42108547e-14,0 L-1.42108547e-14,10 L10,10 L10,6 L9,6 L9,9 Z M6,0 L6,1 L8,1 L2.998122,6.03786058 L3.998122,7.03786058 L9,2 L9,4 L10,4 L10,0 L6,0 Z\"></path></g></svg></a></li><li class=\"ipc-inline-list__item\" role=\"presentation\"><a class=\"ipc-link ipc-link--baseAlt ipc-link--touch-target ipc-link--inherit-color ipc-link--launch\" href=\"https://www.boxofficemojo.com\" target=\"_blank\">Box Office Mojo<svg class=\"ipc-link__launch-icon\" fill=\"#000000\" height=\"10\" viewbox=\"0 0 10 10\" width=\"10\" xmlns=\"http://www.w3.org/2000/svg\"><g><path d=\"M9,9 L1,9 L1,1 L4,1 L4,0 L-1.42108547e-14,0 L-1.42108547e-14,10 L10,10 L10,6 L9,6 L9,9 Z M6,0 L6,1 L8,1 L2.998122,6.03786058 L3.998122,7.03786058 L9,2 L9,4 L10,4 L10,0 L6,0 Z\"></path></g></svg></a></li><li class=\"ipc-inline-list__item\" role=\"presentation\"><a class=\"ipc-link ipc-link--baseAlt ipc-link--touch-target ipc-link--inherit-color ipc-link--launch\" href=\"https://developer.imdb.com/?ref=ft_ds\" target=\"_blank\">IMDb Developer<svg class=\"ipc-link__launch-icon\" fill=\"#000000\" height=\"10\" viewbox=\"0 0 10 10\" width=\"10\" xmlns=\"http://www.w3.org/2000/svg\"><g><path d=\"M9,9 L1,9 L1,1 L4,1 L4,0 L-1.42108547e-14,0 L-1.42108547e-14,10 L10,10 L10,6 L9,6 L9,9 Z M6,0 L6,1 L8,1 L2.998122,6.03786058 L3.998122,7.03786058 L9,2 L9,4 L10,4 L10,0 L6,0 Z\"></path></g></svg></a></li></ul></div><div><ul class=\"ipc-inline-list _1W6LtHiV5M-NUnes6xN1az baseAlt\" role=\"presentation\"><li class=\"ipc-inline-list__item\" role=\"presentation\"><a class=\"ipc-link ipc-link--baseAlt ipc-link--touch-target ipc-link--inherit-color\" href=\"https://www.imdb.com/pressroom/?ref_=ft_pr\">Press Room</a></li><li class=\"ipc-inline-list__item\" role=\"presentation\"><a class=\"ipc-link ipc-link--baseAlt ipc-link--touch-target ipc-link--inherit-color ipc-link--launch\" href=\"https://advertising.amazon.com/resources/ad-specs/imdb/?ref_=a20m_us_spcs_imdb\" target=\"_blank\">Advertising<svg class=\"ipc-link__launch-icon\" fill=\"#000000\" height=\"10\" viewbox=\"0 0 10 10\" width=\"10\" xmlns=\"http://www.w3.org/2000/svg\"><g><path d=\"M9,9 L1,9 L1,1 L4,1 L4,0 L-1.42108547e-14,0 L-1.42108547e-14,10 L10,10 L10,6 L9,6 L9,9 Z M6,0 L6,1 L8,1 L2.998122,6.03786058 L3.998122,7.03786058 L9,2 L9,4 L10,4 L10,0 L6,0 Z\"></path></g></svg></a></li><li class=\"ipc-inline-list__item\" role=\"presentation\"><a class=\"ipc-link ipc-link--baseAlt ipc-link--touch-target ipc-link--inherit-color ipc-link--launch\" href=\"https://www.amazon.jobs/en/teams/imdb?ref_=ft_jb\" target=\"_blank\">Jobs<svg class=\"ipc-link__launch-icon\" fill=\"#000000\" height=\"10\" viewbox=\"0 0 10 10\" width=\"10\" xmlns=\"http://www.w3.org/2000/svg\"><g><path d=\"M9,9 L1,9 L1,1 L4,1 L4,0 L-1.42108547e-14,0 L-1.42108547e-14,10 L10,10 L10,6 L9,6 L9,9 Z M6,0 L6,1 L8,1 L2.998122,6.03786058 L3.998122,7.03786058 L9,2 L9,4 L10,4 L10,0 L6,0 Z\"></path></g></svg></a></li><li class=\"ipc-inline-list__item\" role=\"presentation\"><a class=\"ipc-link ipc-link--baseAlt ipc-link--touch-target ipc-link--inherit-color\" href=\"/conditions?ref_=ft_cou\">Conditions of Use</a></li><li class=\"ipc-inline-list__item\" role=\"presentation\"><a class=\"ipc-link ipc-link--baseAlt ipc-link--touch-target ipc-link--inherit-color\" href=\"/privacy?ref_=ft_pvc\">Privacy Policy</a></li><li class=\"ipc-inline-list__item\" role=\"presentation\"><a class=\"ipc-link ipc-link--baseAlt ipc-link--touch-target ipc-link--inherit-color ipc-link--launch\" href=\"/whitelist-offsite?url=https%3A%2F%2Fwww.amazon.com%2Fb%2F%3F%26node%3D5160028011%26ref_%3Dft_iba&amp;page-action=ft-iba&amp;ref=ft_iba\" target=\"_blank\">Interest-Based Ads<svg class=\"ipc-link__launch-icon\" fill=\"#000000\" height=\"10\" viewbox=\"0 0 10 10\" width=\"10\" xmlns=\"http://www.w3.org/2000/svg\"><g><path d=\"M9,9 L1,9 L1,1 L4,1 L4,0 L-1.42108547e-14,0 L-1.42108547e-14,10 L10,10 L10,6 L9,6 L9,9 Z M6,0 L6,1 L8,1 L2.998122,6.03786058 L3.998122,7.03786058 L9,2 L9,4 L10,4 L10,0 L6,0 Z\"></path></g></svg></a></li><li class=\"ipc-inline-list__item\" role=\"presentation\"><div class=\"_1SBLwtK_juKNBio-avjjHU\" id=\"teconsent\"></div></li></ul></div></div><div class=\"imdb-footer__logo _2xLxFM9nEN1i2gy27-iTkh\"><svg aria-label=\"IMDb, an Amazon company\" height=\"18\" title=\"IMDb, an Amazon company\" width=\"160\" xmlns=\"http://www.w3.org/2000/svg\" xmlns:xlink=\"http://www.w3.org/1999/xlink\"><defs><path d=\"M26.707 2.45c-3.227 2.374-7.906 3.637-11.935 3.637C9.125 6.087 4.04 4.006.193.542-.11.27.161-.101.523.109 4.675 2.517 9.81 3.968 15.111 3.968c3.577 0 7.51-.74 11.127-2.27.546-.23 1.003.358.47.752z\" id=\"ftr__a\"></path><path d=\"M4.113 1.677C3.7 1.15 1.385 1.427.344 1.552c-.315.037-.364-.237-.08-.436C2.112-.178 5.138.196 5.49.629c.354.437-.093 3.462-1.824 4.906-.266.222-.52.104-.401-.19.39-.97 1.261-3.14.848-3.668z\" id=\"ftr__c\"></path><path d=\"M.435 1.805V.548A.311.311 0 0 1 .755.23l5.65-.001c.181 0 .326.13.326.317v1.078c-.002.181-.154.417-.425.791L3.378 6.582c1.087-.026 2.236.137 3.224.69.222.125.282.309.3.49v1.342c0 .185-.203.398-.417.287-1.74-.908-4.047-1.008-5.97.011-.197.104-.403-.107-.403-.292V7.835c0-.204.004-.552.21-.863l3.392-4.85H.761a.314.314 0 0 1-.326-.317z\" id=\"ftr__e\"></path><path d=\"M2.247 9.655H.528a.323.323 0 0 1-.307-.29L.222.569C.222.393.37.253.554.253h1.601a.323.323 0 0 1 .313.295v1.148h.031C2.917.586 3.703.067 4.762.067c1.075 0 1.75.518 2.23 1.629C7.41.586 8.358.067 9.369.067c.722 0 1.508.296 1.99.963.545.74.433 1.813.433 2.757l-.002 5.551a.324.324 0 0 1-.331.317H9.74a.321.321 0 0 1-.308-.316l-.001-4.663c0-.37.032-1.296-.048-1.647-.128-.593-.514-.76-1.011-.76-.418 0-.85.278-1.027.722-.177.445-.161 1.185-.161 1.685v4.662a.323.323 0 0 1-.331.317H5.137a.322.322 0 0 1-.31-.316l-.001-4.663c0-.981.16-2.424-1.059-2.424-1.236 0-1.188 1.406-1.188 2.424v4.662a.324.324 0 0 1-.332.317z\" id=\"ftr__g\"></path><path d=\"M4.037.067c2.551 0 3.931 2.184 3.931 4.96 0 2.684-1.524 4.814-3.931 4.814C1.533 9.84.169 7.656.169 4.935.17 2.195 1.55.067 4.037.067zm.015 1.796c-1.267 0-1.347 1.721-1.347 2.795 0 1.073-.016 3.368 1.332 3.368 1.332 0 1.395-1.851 1.395-2.98 0-.74-.031-1.629-.256-2.332-.193-.61-.578-.851-1.124-.851z\" id=\"ftr__i\"></path><path d=\"M2.206 9.655H.493a.321.321 0 0 1-.308-.316L.182.54a.325.325 0 0 1 .33-.287h1.595c.15.007.274.109.305.245v1.346h.033C2.926.641 3.6.067 4.788.067c.77 0 1.524.277 2.006 1.037.449.703.449 1.887.449 2.739v5.535a.325.325 0 0 1-.33.277H5.19a.324.324 0 0 1-.306-.277V4.602c0-.962.113-2.37-1.075-2.37-.418 0-.803.278-.995.704-.24.537-.273 1.074-.273 1.666v4.736a.328.328 0 0 1-.335.317z\" id=\"ftr__k\"></path><path d=\"M8.314 8.295c.11.156.134.341-.006.455-.35.294-.974.834-1.318 1.139l-.004-.004a.357.357 0 0 1-.406.04c-.571-.473-.673-.692-.986-1.142-.943.958-1.611 1.246-2.834 1.246-1.447 0-2.573-.89-2.573-2.672 0-1.39.756-2.337 1.833-2.8.933-.409 2.235-.483 3.233-.595V3.74c0-.409.032-.89-.209-1.243-.21-.315-.611-.445-.965-.445-.656 0-1.238.335-1.382 1.029-.03.154-.143.307-.298.315l-1.667-.18c-.14-.032-.297-.144-.256-.358C.859.842 2.684.234 4.32.234c.837 0 1.93.222 2.59.853.836.78.755 1.818.755 2.95v2.67c0 .804.335 1.155.65 1.588zM5.253 5.706v-.37c-1.244 0-2.557.265-2.557 1.724 0 .742.386 1.244 1.045 1.244.483 0 .917-.297 1.19-.78.338-.593.322-1.15.322-1.818z\" id=\"ftr__m\"></path><path d=\"M8.203 8.295c.11.156.135.341-.005.455-.352.294-.976.834-1.319 1.139l-.004-.004a.356.356 0 0 1-.406.04c-.571-.473-.673-.692-.985-1.142-.944.958-1.613 1.246-2.835 1.246-1.447 0-2.573-.89-2.573-2.672 0-1.39.756-2.337 1.833-2.8.933-.409 2.236-.483 3.233-.595V3.74c0-.409.032-.89-.21-1.243-.208-.315-.61-.445-.964-.445-.656 0-1.239.335-1.382 1.029-.03.154-.142.307-.298.315l-1.666-.18C.48 3.184.324 3.072.365 2.858.748.842 2.573.234 4.209.234c.836 0 1.93.222 2.59.853.835.78.755 1.818.755 2.95v2.67c0 .804.335 1.155.649 1.588zM5.142 5.706v-.37c-1.243 0-2.557.265-2.557 1.724 0 .742.386 1.244 1.045 1.244.482 0 .917-.297 1.19-.78.338-.593.322-1.15.322-1.818z\" id=\"ftr__o\"></path><path d=\"M2.935 10.148c-.88 0-1.583-.25-2.11-.75-.527-.501-.79-1.171-.79-2.011 0-.902.322-1.622.967-2.159.644-.538 1.511-.806 2.602-.806.694 0 1.475.104 2.342.315V3.513c0-.667-.151-1.136-.455-1.408-.304-.271-.821-.407-1.553-.407-.855 0-1.691.123-2.509.37-.285.087-.464.13-.539.13-.148 0-.223-.111-.223-.334v-.5c0-.16.025-.278.075-.352C.79.938.89.87 1.039.808c.383-.173.87-.312 1.459-.417A9.997 9.997 0 0 1 4.255.234c1.177 0 2.045.244 2.602.731.557.489.836 1.233.836 2.233v6.338c0 .247-.124.37-.372.37h-.798c-.236 0-.373-.117-.41-.351l-.093-.612c-.445.383-.939.68-1.477.89-.54.21-1.076.315-1.608.315zm.446-1.39c.41 0 .836-.08 1.282-.241.447-.16.874-.395 1.283-.704v-1.89a8.408 8.408 0 0 0-1.97-.241c-1.401 0-2.1.537-2.1 1.612 0 .47.13.831.39 1.084.26.254.632.38 1.115.38z\" id=\"ftr__q\"></path><path d=\"M.467 9.907c-.248 0-.372-.124-.372-.37V.883C.095.635.219.51.467.51h.817c.125 0 .22.026.288.075.068.05.115.142.14.277l.111.686C3 .672 4.24.234 5.541.234c.904 0 1.592.238 2.063.713.471.476.707 1.165.707 2.066v6.524c0 .246-.124.37-.372.37H6.842c-.248 0-.372-.124-.372-.37V3.625c0-.655-.133-1.137-.4-1.445-.266-.31-.684-.464-1.254-.464-.979 0-1.94.315-2.881.946v6.875c0 .246-.125.37-.372.37H.467z\" id=\"ftr__s\"></path><path d=\"M4.641 9.859c-1.462 0-2.58-.417-3.355-1.251C.51 7.774.124 6.566.124 4.985c0-1.569.4-2.783 1.2-3.641C2.121.486 3.252.055 4.714.055c.67 0 1.326.118 1.971.353.136.05.232.111.288.185.056.074.083.198.083.37v.501c0 .248-.08.37-.241.37-.062 0-.162-.018-.297-.055a5.488 5.488 0 0 0-1.544-.222c-1.04 0-1.79.262-2.248.787-.459.526-.688 1.362-.688 2.511v.241c0 1.124.232 1.949.697 2.474.465.525 1.198.788 2.203.788a5.98 5.98 0 0 0 1.672-.26c.136-.037.23-.056.279-.056.161 0 .242.124.242.371v.5c0 .162-.025.279-.075.353-.05.074-.148.142-.297.204-.608.259-1.314.389-2.119.389z\" id=\"ftr__u\"></path><path d=\"M4.598 10.185c-1.413 0-2.516-.438-3.31-1.316C.497 7.992.1 6.769.1 5.199c0-1.555.397-2.773 1.19-3.65C2.082.673 3.185.235 4.598.235c1.412 0 2.515.438 3.308 1.316.793.876 1.19 2.094 1.19 3.65 0 1.569-.397 2.792-1.19 3.669-.793.878-1.896 1.316-3.308 1.316zm0-1.483c1.747 0 2.62-1.167 2.62-3.502 0-2.323-.873-3.484-2.62-3.484S1.977 2.877 1.977 5.2c0 2.335.874 3.502 2.62 3.502z\" id=\"ftr__w\"></path><path d=\"M.396 9.907c-.248 0-.371-.124-.371-.37V.883C.025.635.148.51.396.51h.818a.49.49 0 0 1 .288.075c.068.05.115.142.14.277l.111.594C2.943.64 4.102.234 5.23.234c1.152 0 1.934.438 2.342 1.315C8.798.672 10.025.234 11.25.234c.856 0 1.512.24 1.971.722.458.482.688 1.168.688 2.057v6.524c0 .246-.124.37-.372.37h-1.097c-.248 0-.371-.124-.371-.37V3.533c0-.618-.119-1.075-.354-1.372-.235-.297-.607-.445-1.115-.445-.904 0-1.815.278-2.732.834.012.087.018.18.018.278v6.709c0 .246-.124.37-.372.37H6.42c-.249 0-.372-.124-.372-.37V3.533c0-.618-.118-1.075-.353-1.372-.235-.297-.608-.445-1.115-.445-.942 0-1.847.272-2.714.815v7.006c0 .246-.125.37-.372.37H.396z\" id=\"ftr__y\"></path><path d=\"M.617 13.724c-.248 0-.371-.124-.371-.37V.882c0-.247.123-.37.371-.37h.818c.248 0 .39.123.428.37l.093.594C2.897.648 3.944.234 5.096.234c1.203 0 2.15.435 2.845 1.307.693.87 1.04 2.053 1.04 3.548 0 1.52-.365 2.736-1.096 3.65-.731.915-1.704 1.372-2.918 1.372-1.116 0-2.076-.365-2.881-1.094v4.337c0 .246-.125.37-.372.37H.617zM4.54 8.628c1.71 0 2.566-1.149 2.566-3.447 0-1.173-.208-2.044-.624-2.612-.415-.569-1.05-.853-1.904-.853-.88 0-1.711.284-2.491.853v5.17c.805.593 1.623.889 2.453.889z\" id=\"ftr__A\"></path><path d=\"M2.971 10.148c-.88 0-1.583-.25-2.11-.75-.526-.501-.79-1.171-.79-2.011 0-.902.322-1.622.967-2.159.644-.538 1.512-.806 2.602-.806.694 0 1.475.104 2.342.315V3.513c0-.667-.15-1.136-.455-1.408-.304-.271-.821-.407-1.552-.407-.855 0-1.692.123-2.509.37-.285.087-.465.13-.54.13-.148 0-.223-.111-.223-.334v-.5c0-.16.025-.278.075-.352.05-.074.148-.142.297-.204.384-.173.87-.312 1.46-.417A9.991 9.991 0 0 1 4.29.234c1.177 0 2.045.244 2.603.731.557.489.836 1.233.836 2.233v6.338c0 .247-.125.37-.372.37h-.799c-.236 0-.372-.117-.41-.351l-.092-.612a5.09 5.09 0 0 1-1.478.89 4.4 4.4 0 0 1-1.608.315zm.446-1.39c.41 0 .836-.08 1.283-.241.446-.16.874-.395 1.282-.704v-1.89a8.403 8.403 0 0 0-1.97-.241c-1.4 0-2.1.537-2.1 1.612 0 .47.13.831.39 1.084.26.254.632.38 1.115.38z\" id=\"ftr__C\"></path><path d=\"M.503 9.907c-.248 0-.371-.124-.371-.37V.883C.132.635.255.51.503.51h.818a.49.49 0 0 1 .288.075c.068.05.115.142.14.277l.111.686C3.037.672 4.277.234 5.578.234c.904 0 1.592.238 2.063.713.47.476.706 1.165.706 2.066v6.524c0 .246-.123.37-.371.37H6.879c-.248 0-.372-.124-.372-.37V3.625c0-.655-.133-1.137-.4-1.445-.266-.31-.684-.464-1.254-.464-.98 0-1.94.315-2.882.946v6.875c0 .246-.124.37-.371.37H.503z\" id=\"ftr__E\"></path><path d=\"M1.988 13.443c-.397 0-.75-.043-1.059-.13-.15-.037-.251-.1-.307-.185a.684.684 0 0 1-.084-.37v-.483c0-.234.093-.352.28-.352.06 0 .154.013.278.037.124.025.291.037.502.037.459 0 .82-.114 1.087-.343.266-.228.505-.633.716-1.213l.353-.945L.167.675C.08.465.037.316.037.23c0-.149.086-.222.26-.222h1.115c.198 0 .334.03.409.093.075.062.148.197.223.407l2.602 7.19 2.51-7.19c.074-.21.148-.345.222-.407.075-.062.211-.093.41-.093h1.04c.174 0 .261.073.261.222 0 .086-.044.235-.13.445l-4.09 10.377c-.334.853-.725 1.464-1.17 1.835-.446.37-1.017.556-1.711.556z\" id=\"ftr__G\"></path></defs><g fill=\"none\" fill-rule=\"evenodd\"><g transform=\"translate(31.496 11.553)\"><mask fill=\"currentColor\" id=\"ftr__b\"><use xlink:href=\"#ftr__a\"></use></mask><path d=\"M.04 6.088h26.91V.04H.04z\" fill=\"currentColor\" mask=\"url(#ftr__b)\"></path></g><g transform=\"translate(55.433 10.797)\"><mask fill=\"currentColor\" id=\"ftr__d\"><use xlink:href=\"#ftr__c\"></use></mask><path d=\"M.05 5.664h5.564V.222H.05z\" fill=\"currentColor\" mask=\"url(#ftr__d)\"></path></g><g transform=\"translate(55.433 .97)\"><mask fill=\"currentColor\" id=\"ftr__f\"><use xlink:href=\"#ftr__e\"></use></mask><path d=\"M.11 9.444h6.804V.222H.111z\" fill=\"currentColor\" mask=\"url(#ftr__f)\"></path></g><g transform=\"translate(33.008 .97)\"><mask fill=\"currentColor\" id=\"ftr__h\"><use xlink:href=\"#ftr__g\"></use></mask><path d=\"M.191 9.655h11.611V.04H.192z\" fill=\"currentColor\" mask=\"url(#ftr__h)\"></path></g><g transform=\"translate(62.992 .97)\"><mask fill=\"currentColor\" id=\"ftr__j\"><use xlink:href=\"#ftr__i\"></use></mask><path d=\"M.141 9.867h7.831V.04H.142z\" fill=\"currentColor\" mask=\"url(#ftr__j)\"></path></g><g transform=\"translate(72.063 .97)\"><mask fill=\"currentColor\" id=\"ftr__l\"><use xlink:href=\"#ftr__k\"></use></mask><path d=\"M.171 9.655h7.076V.04H.17z\" fill=\"currentColor\" mask=\"url(#ftr__l)\"></path></g><g transform=\"translate(46.11 .718)\"><mask fill=\"currentColor\" id=\"ftr__n\"><use xlink:href=\"#ftr__m\"></use></mask><path d=\"M.181 10.059h8.225V.232H.18z\" fill=\"currentColor\" mask=\"url(#ftr__n)\"></path></g><g transform=\"translate(23.685 .718)\"><mask fill=\"currentColor\" id=\"ftr__p\"><use xlink:href=\"#ftr__o\"></use></mask><path d=\"M.05 10.059h8.255V.232H.05z\" fill=\"currentColor\" mask=\"url(#ftr__p)\"></path></g><g transform=\"translate(0 .718)\"><mask fill=\"currentColor\" id=\"ftr__r\"><use xlink:href=\"#ftr__q\"></use></mask><path d=\"M.03 10.15h7.68V.231H.03z\" fill=\"currentColor\" mask=\"url(#ftr__r)\"></path></g><g transform=\"translate(10.33 .718)\"><mask fill=\"currentColor\" id=\"ftr__t\"><use xlink:href=\"#ftr__s\"></use></mask><path d=\"M.07 9.907h8.255V.232H.071z\" fill=\"currentColor\" mask=\"url(#ftr__t)\"></path></g><g transform=\"translate(84.157 .97)\"><mask fill=\"currentColor\" id=\"ftr__v\"><use xlink:href=\"#ftr__u\"></use></mask><path d=\"M.11 9.867h7.046V.04H.11z\" fill=\"currentColor\" mask=\"url(#ftr__v)\"></path></g><g transform=\"translate(92.472 .718)\"><mask fill=\"currentColor\" id=\"ftr__x\"><use xlink:href=\"#ftr__w\"></use></mask><path d=\"M.08 10.21h9.041V.232H.081z\" fill=\"currentColor\" mask=\"url(#ftr__x)\"></path></g><g transform=\"translate(103.811 .718)\"><mask fill=\"currentColor\" id=\"ftr__z\"><use xlink:href=\"#ftr__y\"></use></mask><path d=\"M.02 9.907H13.93V.232H.02z\" fill=\"currentColor\" mask=\"url(#ftr__z)\"></path></g><g transform=\"translate(120.189 .718)\"><mask fill=\"currentColor\" id=\"ftr__B\"><use xlink:href=\"#ftr__A\"></use></mask><path d=\"M.242 13.747H9.01V.232H.242z\" fill=\"currentColor\" mask=\"url(#ftr__B)\"></path></g><g transform=\"translate(130.772 .718)\"><mask fill=\"currentColor\" id=\"ftr__D\"><use xlink:href=\"#ftr__C\"></use></mask><path d=\"M.06 10.15h7.68V.231H.06z\" fill=\"currentColor\" mask=\"url(#ftr__D)\"></path></g><g transform=\"translate(141.102 .718)\"><mask fill=\"currentColor\" id=\"ftr__F\"><use xlink:href=\"#ftr__E\"></use></mask><path d=\"M.131 9.907h8.224V.232H.131z\" fill=\"currentColor\" mask=\"url(#ftr__F)\"></path></g><g transform=\"translate(150.677 1.222)\"><mask fill=\"currentColor\" id=\"ftr__H\"><use xlink:href=\"#ftr__G\"></use></mask><path d=\"M.02 13.455h9.071V0H.021z\" fill=\"currentColor\" mask=\"url(#ftr__H)\"></path></g></g></svg></div><p class=\"imdb-footer__copyright _1qNTRY72M5RnFTeiT5Ho-6\">© 1990-<!-- -->2021<!-- --> by IMDb.com, Inc.</p></div></footer><svg style=\"width:0;height:0;overflow:hidden;display:block\" version=\"1.1\" xmlns=\"http://www.w3.org/2000/svg\"><defs><lineargradient id=\"ipc-svg-gradient-tv-logo-t\" x1=\"31.973%\" x2=\"153.413%\" y1=\"53.409%\" y2=\"-16.853%\"><stop offset=\"21.89%\" stop-color=\"#D01F49\"></stop><stop offset=\"83.44%\" stop-color=\"#E8138B\"></stop></lineargradient><lineargradient id=\"ipc-svg-gradient-tv-logo-v\" x1=\"-38.521%\" x2=\"104.155%\" y1=\"84.997%\" y2=\"14.735%\"><stop offset=\"21.89%\" stop-color=\"#D01F49\"></stop><stop offset=\"83.44%\" stop-color=\"#E8138B\"></stop></lineargradient></defs></svg><script>if (typeof uet == 'function') {\n",
       "                uet(\"be\", \"responsiveFooter\", {wb: 1});\n",
       "            }</script><script>if (typeof uex == 'function') {\n",
       "                uex(\"ld\", \"responsiveFooter\", {wb: 1});\n",
       "            }</script><svg style=\"width:0;height:0;overflow:hidden;display:block\" version=\"1.1\" xmlns=\"http://www.w3.org/2000/svg\"><defs><lineargradient id=\"ipc-svg-gradient-tv-logo-t\" x1=\"31.973%\" x2=\"153.413%\" y1=\"53.409%\" y2=\"-16.853%\"><stop offset=\"21.89%\" stop-color=\"#D01F49\"></stop><stop offset=\"83.44%\" stop-color=\"#E8138B\"></stop></lineargradient><lineargradient id=\"ipc-svg-gradient-tv-logo-v\" x1=\"-38.521%\" x2=\"104.155%\" y1=\"84.997%\" y2=\"14.735%\"><stop offset=\"21.89%\" stop-color=\"#D01F49\"></stop><stop offset=\"83.44%\" stop-color=\"#E8138B\"></stop></lineargradient></defs></svg></div><script async=\"\" type=\"text/javascript\">!window.__BoomerFullPageData__ && (window.__BoomerFullPageData__ = {}); window.__BoomerFullPageData__[\"IMDbHomepageSiteReactViews\"] = \"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\";</script><script defer=\"\" src=\"https://m.media-amazon.com/images/I/81Pb2o6dM1L.js\"></script>\n",
       "<script defer=\"\" src=\"https://m.media-amazon.com/images/I/61SeeyqsNHL.js\"></script>\n",
       "<script defer=\"\" src=\"https://m.media-amazon.com/images/I/71BctOmrhjL.js\"></script>\n",
       "<script defer=\"\" src=\"https://m.media-amazon.com/images/I/61IuCnjrlZL.js\"></script>\n",
       "<script defer=\"\" src=\"https://m.media-amazon.com/images/I/614xVrkFKML.js\"></script>\n",
       "<script defer=\"\" src=\"https://m.media-amazon.com/images/I/41KcrS6u7gL.js\"></script>\n",
       "<script defer=\"\" src=\"https://m.media-amazon.com/images/I/814Fm3bW2FL.js\"></script>\n",
       "<script defer=\"\" src=\"https://m.media-amazon.com/images/I/61riL+usJxL.js\"></script>\n",
       "<script defer=\"\" src=\"https://m.media-amazon.com/images/I/61d0GHzhdsL.js\"></script>\n",
       "<script defer=\"\" src=\"https://m.media-amazon.com/images/I/31827uXCh4L.js\"></script>\n",
       "<script defer=\"\" src=\"https://m.media-amazon.com/images/I/51AnOyPEdDL.js\"></script>\n",
       "<script defer=\"\" src=\"https://m.media-amazon.com/images/I/41ZMly1dFrL.js\"></script>\n",
       "<script defer=\"\" src=\"https://m.media-amazon.com/images/I/310lum6S2vL.js\"></script>\n",
       "<script defer=\"\" src=\"https://m.media-amazon.com/images/I/41Dm6cYzV6L.js\"></script>\n",
       "<script defer=\"\" src=\"https://m.media-amazon.com/images/I/5129P-6KQBL.js\"></script>\n",
       "<script defer=\"\" src=\"https://m.media-amazon.com/images/I/41UQKDo4zrL.js\"></script>\n",
       "<script defer=\"\" src=\"https://m.media-amazon.com/images/I/31x4-6UqafL.js\"></script>\n",
       "<script defer=\"\" src=\"https://m.media-amazon.com/images/I/31XRtcXrLFL.js\"></script>\n",
       "<script defer=\"\" src=\"https://m.media-amazon.com/images/I/213XUMEls7L.js\"></script>\n",
       "<script defer=\"\" src=\"https://m.media-amazon.com/images/I/21fCvXFd8KL.js\"></script>\n",
       "<script defer=\"\" src=\"https://m.media-amazon.com/images/I/21XzbsldFqL.js\"></script>\n",
       "<script defer=\"\" src=\"https://m.media-amazon.com/images/I/21X0p0w6yNL.js\"></script>\n",
       "<script defer=\"\" src=\"https://m.media-amazon.com/images/I/31vdmEMGasL.js\"></script>\n",
       "<script defer=\"\" src=\"https://m.media-amazon.com/images/I/31jN14DC52L.js\"></script>\n",
       "<script defer=\"\" src=\"https://m.media-amazon.com/images/I/41GjDlxNgpL.js\"></script>\n",
       "<script defer=\"\" src=\"https://m.media-amazon.com/images/I/21akhmj0aOL.js\"></script>\n",
       "<script defer=\"\" src=\"https://m.media-amazon.com/images/I/31gNejlPgZL.js\"></script>\n",
       "<script defer=\"\" src=\"https://m.media-amazon.com/images/I/411ynlOxqWL.js\"></script>\n",
       "<script defer=\"\" src=\"https://m.media-amazon.com/images/I/310EQxM2fpL.js\"></script>\n",
       "<script defer=\"\" src=\"https://m.media-amazon.com/images/I/21AIqF8OYIL.js\"></script>\n",
       "<script defer=\"\" src=\"https://m.media-amazon.com/images/I/11Ki+Pl34wL.js\"></script>\n",
       "<script defer=\"\" src=\"https://m.media-amazon.com/images/I/01xfXgM7bsL.js\"></script>\n",
       "<script defer=\"\" src=\"https://m.media-amazon.com/images/I/61Ka2ezTX9L.js\"></script>\n",
       "<script defer=\"\" src=\"https://m.media-amazon.com/images/I/01RmVRyCi0L.js\"></script>\n",
       "<script defer=\"\" src=\"https://m.media-amazon.com/images/I/01zuBCOPcIL.js\"></script>\n",
       "<script defer=\"\" src=\"https://m.media-amazon.com/images/I/019vMGkrlkL.js\"></script>\n",
       "<script defer=\"\" src=\"https://m.media-amazon.com/images/I/21th+zfZMcL.js\"></script>\n",
       "<script defer=\"\" src=\"https://m.media-amazon.com/images/I/11igy6+WUkL.js\"></script>\n",
       "<script defer=\"\" src=\"https://m.media-amazon.com/images/I/11UNuUz7BzL.js\"></script>\n",
       "<script defer=\"\" src=\"https://m.media-amazon.com/images/I/11oAJHW0IxL.js\"></script>\n",
       "<script defer=\"\" src=\"https://m.media-amazon.com/images/I/21QhnrxvhtL.js\"></script>\n",
       "<script defer=\"\" src=\"https://m.media-amazon.com/images/I/11S4fR+qCGL.js\"></script>\n",
       "<script defer=\"\" src=\"https://m.media-amazon.com/images/I/01EjywnajPL.js\"></script>\n",
       "<script defer=\"\" src=\"https://m.media-amazon.com/images/I/01eEXY1YetL.js\"></script>\n",
       "<script defer=\"\" src=\"https://m.media-amazon.com/images/I/21n5fdlWBhL.js\"></script>\n",
       "<script defer=\"\" src=\"https://m.media-amazon.com/images/I/21a9eB+eAFL.js\"></script>\n",
       "<script defer=\"\" src=\"https://m.media-amazon.com/images/I/512SMYcBEsL.js\"></script> </body></html>"
      ]
     },
     "execution_count": 90,
     "metadata": {},
     "output_type": "execute_result"
    }
   ],
   "source": [
    "myrawdata"
   ]
  },
  {
   "cell_type": "code",
   "execution_count": null,
   "metadata": {},
   "outputs": [],
   "source": []
  },
  {
   "cell_type": "code",
   "execution_count": 91,
   "metadata": {},
   "outputs": [],
   "source": [
    "import os"
   ]
  },
  {
   "cell_type": "code",
   "execution_count": 93,
   "metadata": {},
   "outputs": [],
   "source": [
    "os.chdir(\"D:\\\\KKK\\\\DSP\\\\Python\")"
   ]
  },
  {
   "cell_type": "code",
   "execution_count": 94,
   "metadata": {},
   "outputs": [],
   "source": [
    "tips_data=pd.read_csv('tips.csv')"
   ]
  },
  {
   "cell_type": "code",
   "execution_count": 101,
   "metadata": {},
   "outputs": [
    {
     "name": "stderr",
     "output_type": "stream",
     "text": [
      "C:\\Users\\kanna\\anaconda3\\lib\\site-packages\\seaborn\\distributions.py:2551: FutureWarning: `distplot` is a deprecated function and will be removed in a future version. Please adapt your code to use either `displot` (a figure-level function with similar flexibility) or `histplot` (an axes-level function for histograms).\n",
      "  warnings.warn(msg, FutureWarning)\n"
     ]
    },
    {
     "data": {
      "text/plain": [
       "<AxesSubplot:xlabel='total_bill', ylabel='Density'>"
      ]
     },
     "execution_count": 101,
     "metadata": {},
     "output_type": "execute_result"
    },
    {
     "data": {
      "image/png": "[encoded data removed]",
      "text/plain": [
       "<Figure size 432x288 with 1 Axes>"
      ]
     },
     "metadata": {
      "needs_background": "light"
     },
     "output_type": "display_data"
    }
   ],
   "source": [
    "sns.distplot(tips_data['total_bill'])"
   ]
  },
  {
   "cell_type": "code",
   "execution_count": 102,
   "metadata": {},
   "outputs": [
    {
     "name": "stderr",
     "output_type": "stream",
     "text": [
      "C:\\Users\\kanna\\anaconda3\\lib\\site-packages\\seaborn\\distributions.py:2551: FutureWarning: `distplot` is a deprecated function and will be removed in a future version. Please adapt your code to use either `displot` (a figure-level function with similar flexibility) or `histplot` (an axes-level function for histograms).\n",
      "  warnings.warn(msg, FutureWarning)\n"
     ]
    },
    {
     "data": {
      "text/plain": [
       "<AxesSubplot:xlabel='total_bill'>"
      ]
     },
     "execution_count": 102,
     "metadata": {},
     "output_type": "execute_result"
    },
    {
     "data": {
      "image/png": "[encoded data removed]",
      "text/plain": [
       "<Figure size 432x288 with 1 Axes>"
      ]
     },
     "metadata": {
      "needs_background": "light"
     },
     "output_type": "display_data"
    }
   ],
   "source": [
    "sns.distplot(tips_data['total_bill'],kde=False,bins=50)"
   ]
  },
  {
   "cell_type": "code",
   "execution_count": 103,
   "metadata": {},
   "outputs": [
    {
     "data": {
      "text/plain": [
       "<seaborn.axisgrid.PairGrid at 0x2066ad89610>"
      ]
     },
     "execution_count": 103,
     "metadata": {},
     "output_type": "execute_result"
    },
    {
     "data": {
      "image/png": "[encoded data removed]",
      "text/plain": [
       "<Figure size 540x540 with 12 Axes>"
      ]
     },
     "metadata": {
      "needs_background": "light"
     },
     "output_type": "display_data"
    }
   ],
   "source": [
    "sns.pairplot(tips_data)"
   ]
  },
  {
   "cell_type": "code",
   "execution_count": 107,
   "metadata": {},
   "outputs": [
    {
     "data": {
      "text/plain": [
       "<seaborn.axisgrid.PairGrid at 0x2066be3b370>"
      ]
     },
     "execution_count": 107,
     "metadata": {},
     "output_type": "execute_result"
    },
    {
     "data": {
      "image/png": "[encoded data removed]",
      "text/plain": [
       "<Figure size 612.125x540 with 12 Axes>"
      ]
     },
     "metadata": {
      "needs_background": "light"
     },
     "output_type": "display_data"
    }
   ],
   "source": [
    "sns.pairplot(tips_data,hue='sex',palette='rainbow')"
   ]
  },
  {
   "cell_type": "code",
   "execution_count": 108,
   "metadata": {},
   "outputs": [
    {
     "data": {
      "text/plain": [
       "<AxesSubplot:>"
      ]
     },
     "execution_count": 108,
     "metadata": {},
     "output_type": "execute_result"
    },
    {
     "data": {
      "image/png": "[encoded data removed]",
      "text/plain": [
       "<Figure size 432x288 with 2 Axes>"
      ]
     },
     "metadata": {
      "needs_background": "light"
     },
     "output_type": "display_data"
    }
   ],
   "source": [
    "sns.heatmap(tips_data.corr())"
   ]
  },
  {
   "cell_type": "code",
   "execution_count": 109,
   "metadata": {},
   "outputs": [
    {
     "data": {
      "text/html": [
       "<div>\n",
       "<style scoped>\n",
       "    .dataframe tbody tr th:only-of-type {\n",
       "        vertical-align: middle;\n",
       "    }\n",
       "\n",
       "    .dataframe tbody tr th {\n",
       "        vertical-align: top;\n",
       "    }\n",
       "\n",
       "    .dataframe thead th {\n",
       "        text-align: right;\n",
       "    }\n",
       "</style>\n",
       "<table border=\"1\" class=\"dataframe\">\n",
       "  <thead>\n",
       "    <tr style=\"text-align: right;\">\n",
       "      <th></th>\n",
       "      <th>total_bill</th>\n",
       "      <th>tip</th>\n",
       "      <th>size</th>\n",
       "    </tr>\n",
       "  </thead>\n",
       "  <tbody>\n",
       "    <tr>\n",
       "      <th>total_bill</th>\n",
       "      <td>1.000000</td>\n",
       "      <td>0.664292</td>\n",
       "      <td>0.571541</td>\n",
       "    </tr>\n",
       "    <tr>\n",
       "      <th>tip</th>\n",
       "      <td>0.664292</td>\n",
       "      <td>1.000000</td>\n",
       "      <td>0.489299</td>\n",
       "    </tr>\n",
       "    <tr>\n",
       "      <th>size</th>\n",
       "      <td>0.571541</td>\n",
       "      <td>0.489299</td>\n",
       "      <td>1.000000</td>\n",
       "    </tr>\n",
       "  </tbody>\n",
       "</table>\n",
       "</div>"
      ],
      "text/plain": [
       "            total_bill       tip      size\n",
       "total_bill    1.000000  0.664292  0.571541\n",
       "tip           0.664292  1.000000  0.489299\n",
       "size          0.571541  0.489299  1.000000"
      ]
     },
     "execution_count": 109,
     "metadata": {},
     "output_type": "execute_result"
    }
   ],
   "source": [
    "tips_data.corr()"
   ]
  },
  {
   "cell_type": "code",
   "execution_count": null,
   "metadata": {},
   "outputs": [],
   "source": []
  },
  {
   "cell_type": "code",
   "execution_count": 117,
   "metadata": {},
   "outputs": [],
   "source": [
    "os.chdir(\"D:\\\\KKK\\\\DSP\\\\Python\")"
   ]
  },
  {
   "cell_type": "code",
   "execution_count": 119,
   "metadata": {},
   "outputs": [],
   "source": [
    "dataset=pd.read_excel('Employee_Data.xls')"
   ]
  },
  {
   "cell_type": "code",
   "execution_count": 120,
   "metadata": {},
   "outputs": [
    {
     "data": {
      "text/html": [
       "<div>\n",
       "<style scoped>\n",
       "    .dataframe tbody tr th:only-of-type {\n",
       "        vertical-align: middle;\n",
       "    }\n",
       "\n",
       "    .dataframe tbody tr th {\n",
       "        vertical-align: top;\n",
       "    }\n",
       "\n",
       "    .dataframe thead th {\n",
       "        text-align: right;\n",
       "    }\n",
       "</style>\n",
       "<table border=\"1\" class=\"dataframe\">\n",
       "  <thead>\n",
       "    <tr style=\"text-align: right;\">\n",
       "      <th></th>\n",
       "      <th>Employee Id</th>\n",
       "      <th>First Name</th>\n",
       "      <th>Last Name</th>\n",
       "      <th>Department</th>\n",
       "      <th>Age</th>\n",
       "      <th>Experience</th>\n",
       "      <th>Salary</th>\n",
       "    </tr>\n",
       "  </thead>\n",
       "  <tbody>\n",
       "    <tr>\n",
       "      <th>0</th>\n",
       "      <td>1</td>\n",
       "      <td>Joy</td>\n",
       "      <td>Bass</td>\n",
       "      <td>Sales and Marketing</td>\n",
       "      <td>28.0</td>\n",
       "      <td>3.0</td>\n",
       "      <td>32889</td>\n",
       "    </tr>\n",
       "    <tr>\n",
       "      <th>1</th>\n",
       "      <td>2</td>\n",
       "      <td>Sheila</td>\n",
       "      <td>Garza</td>\n",
       "      <td>Sales and Marketing</td>\n",
       "      <td>22.0</td>\n",
       "      <td>1.0</td>\n",
       "      <td>15944</td>\n",
       "    </tr>\n",
       "    <tr>\n",
       "      <th>2</th>\n",
       "      <td>3</td>\n",
       "      <td>John</td>\n",
       "      <td>Bryant</td>\n",
       "      <td>Customer Relations</td>\n",
       "      <td>22.0</td>\n",
       "      <td>1.0</td>\n",
       "      <td>40343</td>\n",
       "    </tr>\n",
       "    <tr>\n",
       "      <th>3</th>\n",
       "      <td>4</td>\n",
       "      <td>Christian</td>\n",
       "      <td>Farley</td>\n",
       "      <td>Customer Relations</td>\n",
       "      <td>22.0</td>\n",
       "      <td>1.0</td>\n",
       "      <td>19018</td>\n",
       "    </tr>\n",
       "    <tr>\n",
       "      <th>4</th>\n",
       "      <td>5</td>\n",
       "      <td>Colorado</td>\n",
       "      <td>Bowen</td>\n",
       "      <td>Accounting</td>\n",
       "      <td>27.0</td>\n",
       "      <td>0.0</td>\n",
       "      <td>24795</td>\n",
       "    </tr>\n",
       "    <tr>\n",
       "      <th>...</th>\n",
       "      <td>...</td>\n",
       "      <td>...</td>\n",
       "      <td>...</td>\n",
       "      <td>...</td>\n",
       "      <td>...</td>\n",
       "      <td>...</td>\n",
       "      <td>...</td>\n",
       "    </tr>\n",
       "    <tr>\n",
       "      <th>95</th>\n",
       "      <td>96</td>\n",
       "      <td>Tyrone</td>\n",
       "      <td>Barber</td>\n",
       "      <td>Sales and Marketing</td>\n",
       "      <td>47.0</td>\n",
       "      <td>22.0</td>\n",
       "      <td>79077</td>\n",
       "    </tr>\n",
       "    <tr>\n",
       "      <th>96</th>\n",
       "      <td>97</td>\n",
       "      <td>Urielle</td>\n",
       "      <td>Herrera</td>\n",
       "      <td>Sales and Marketing</td>\n",
       "      <td>46.0</td>\n",
       "      <td>20.0</td>\n",
       "      <td>81187</td>\n",
       "    </tr>\n",
       "    <tr>\n",
       "      <th>97</th>\n",
       "      <td>98</td>\n",
       "      <td>Brendan</td>\n",
       "      <td>Solis</td>\n",
       "      <td>Customer Relations</td>\n",
       "      <td>44.0</td>\n",
       "      <td>18.0</td>\n",
       "      <td>83847</td>\n",
       "    </tr>\n",
       "    <tr>\n",
       "      <th>98</th>\n",
       "      <td>99</td>\n",
       "      <td>Holmes</td>\n",
       "      <td>Nelson</td>\n",
       "      <td>Customer Relations</td>\n",
       "      <td>47.0</td>\n",
       "      <td>22.0</td>\n",
       "      <td>89158</td>\n",
       "    </tr>\n",
       "    <tr>\n",
       "      <th>99</th>\n",
       "      <td>100</td>\n",
       "      <td>Avye</td>\n",
       "      <td>Davidson</td>\n",
       "      <td>Accounting</td>\n",
       "      <td>44.0</td>\n",
       "      <td>21.0</td>\n",
       "      <td>91645</td>\n",
       "    </tr>\n",
       "  </tbody>\n",
       "</table>\n",
       "<p>100 rows × 7 columns</p>\n",
       "</div>"
      ],
      "text/plain": [
       "    Employee Id First Name Last Name           Department   Age  Experience  \\\n",
       "0             1        Joy      Bass  Sales and Marketing  28.0         3.0   \n",
       "1             2     Sheila     Garza  Sales and Marketing  22.0         1.0   \n",
       "2             3       John    Bryant   Customer Relations  22.0         1.0   \n",
       "3             4  Christian    Farley   Customer Relations  22.0         1.0   \n",
       "4             5   Colorado     Bowen           Accounting  27.0         0.0   \n",
       "..          ...        ...       ...                  ...   ...         ...   \n",
       "95           96     Tyrone    Barber  Sales and Marketing  47.0        22.0   \n",
       "96           97    Urielle   Herrera  Sales and Marketing  46.0        20.0   \n",
       "97           98    Brendan     Solis   Customer Relations  44.0        18.0   \n",
       "98           99     Holmes    Nelson   Customer Relations  47.0        22.0   \n",
       "99          100       Avye  Davidson           Accounting  44.0        21.0   \n",
       "\n",
       "    Salary  \n",
       "0    32889  \n",
       "1    15944  \n",
       "2    40343  \n",
       "3    19018  \n",
       "4    24795  \n",
       "..     ...  \n",
       "95   79077  \n",
       "96   81187  \n",
       "97   83847  \n",
       "98   89158  \n",
       "99   91645  \n",
       "\n",
       "[100 rows x 7 columns]"
      ]
     },
     "execution_count": 120,
     "metadata": {},
     "output_type": "execute_result"
    }
   ],
   "source": [
    "dataset"
   ]
  },
  {
   "cell_type": "code",
   "execution_count": 126,
   "metadata": {},
   "outputs": [
    {
     "data": {
      "text/plain": [
       "array([32889, 15944, 40343, 19018, 24795, 15387, 34117, 16099, 42105,\n",
       "       11891, 34687, 23549, 29110, 33435, 11830, 44065, 13266, 16631,\n",
       "       29886, 30464, 14943, 18632, 38183, 43093, 26573, 51228, 57902,\n",
       "       54233, 70010, 74683, 53867, 60117, 72055, 50013, 50118, 72318,\n",
       "       53828, 58362, 63391, 62983, 65939, 51715, 54250, 50462, 64418,\n",
       "       60164, 66528, 57278, 71607, 61222, 68388, 94704, 89493, 94310,\n",
       "       81615, 84306, 77452, 76904, 90798, 86261, 78332, 84881, 76528,\n",
       "       83524, 89258, 75431, 91870, 76708, 95222, 90802, 86277, 77330,\n",
       "       85286, 90930, 88833, 95908, 92365, 93854, 85336, 79898, 84708,\n",
       "       88381, 93206, 91795, 96432, 83300, 94778, 82283, 97056, 87654,\n",
       "       89875, 98180, 84185, 79509, 97990, 79077, 81187, 83847, 89158,\n",
       "       91645], dtype=int64)"
      ]
     },
     "execution_count": 126,
     "metadata": {},
     "output_type": "execute_result"
    }
   ],
   "source": [
    "x=dataset.iloc[:,0:6]\n",
    "x1=dataset.iloc[:,0:6].values\n",
    "x1\n",
    "pd.DataFrame(x1)\n",
    "y=dataset.iloc[:,6]\n",
    "y1=dataset.iloc[:,6].values\n",
    "y1"
   ]
  },
  {
   "cell_type": "code",
   "execution_count": 128,
   "metadata": {},
   "outputs": [],
   "source": [
    "from sklearn.model_selection import train_test_split"
   ]
  },
  {
   "cell_type": "code",
   "execution_count": 131,
   "metadata": {},
   "outputs": [],
   "source": [
    "x_train,x_test,y_train,y_test=train_test_split(x1,y1,test_size=0.25,random_state=123)"
   ]
  },
  {
   "cell_type": "code",
   "execution_count": 132,
   "metadata": {},
   "outputs": [
    {
     "name": "stdout",
     "output_type": "stream",
     "text": [
      "[[92 'Nomlanga' 'Mccall' 'Accounting' 44.0 18.0]\n",
      " [86 'Daria' 'Camacho' 'Sales and Marketing' 42.0 17.0]\n",
      " [10 'Lucas' 'Rowe' 'Customer Relations' 30.0 6.0]\n",
      " [54 'Wanda' 'Frank' 'Accounting' 41.0 17.0]\n",
      " [42 'Carolyn' 'Jimenez' 'Accounting' nan 12.0]\n",
      " [22 'Abdul' 'Woodard' nan 22.0 nan]\n",
      " [91 'Lael' 'Buckley' 'Sales and Marketing' 44.0 19.0]\n",
      " [34 'Gregory' 'Frazier' nan nan 7.0]\n",
      " [70 'Gwendolyn' 'Navarro' 'Sales and Marketing' 42.0 19.0]\n",
      " [85 'Rose' 'Snow' 'Accounting' 45.0 17.0]\n",
      " [88 'Norman' 'Hale' 'Accounting' 45.0 19.0]\n",
      " [96 'Tyrone' 'Barber' 'Sales and Marketing' 47.0 22.0]\n",
      " [98 'Brendan' 'Solis' 'Customer Relations' 44.0 18.0]\n",
      " [63 'Bryar' 'Davidson' 'Customer Relations' 49.0 16.0]\n",
      " [13 'Bethany' 'Nolan' 'Accounting' 24.0 5.0]\n",
      " [21 'Eagan' 'Valenzuela' nan 22.0 nan]\n",
      " [90 'Elijah' 'Acevedo' 'Customer Relations' 47.0 20.0]\n",
      " [38 'Jocelyn' 'Guthrie' nan nan 7.0]\n",
      " [60 'Dara' 'Leon' 'Customer Relations' 44.0 16.0]\n",
      " [2 'Sheila' 'Garza' 'Sales and Marketing' 22.0 1.0]\n",
      " [75 'Zenaida' 'Wise' 'Customer Relations' 48.0 17.0]\n",
      " [12 'Wanda' 'Wagner' 'Sales and Marketing' 26.0 6.0]\n",
      " [80 'Forrest' 'Ware' 'Accounting' 41.0 22.0]\n",
      " [15 'Lewis' 'Carlson' 'Sales and Marketing' 25.0 3.0]\n",
      " [55 'Meredith' 'Wall' 'Sales and Marketing' 50.0 21.0]\n",
      " [17 'Eugenia' 'Duffy' 'Customer Relations' 22.0 nan]\n",
      " [27 'Kirestin' 'Levy' nan 36.0 7.0]\n",
      " [52 'Simon' 'Duncan' 'Accounting' 41.0 25.0]\n",
      " [46 'Hiram' 'Carson' 'Customer Relations' nan 14.0]\n",
      " [7 'Bo' 'Mcleod' 'Customer Relations' 24.0 6.0]\n",
      " [99 'Holmes' 'Nelson' 'Customer Relations' 47.0 22.0]\n",
      " [31 'Richard' 'Nicholson' nan 40.0 15.0]\n",
      " [45 'Jolene' 'Finch' 'Sales and Marketing' nan 15.0]\n",
      " [73 'Laura' 'Kennedy' 'Sales and Marketing' 42.0 23.0]\n",
      " [44 'Ezra' 'Phelps' 'Sales and Marketing' nan 12.0]\n",
      " [16 'Pearl' 'Pruitt' 'Accounting' 25.0 nan]\n",
      " [95 'Yardley' 'Hyde' 'Accounting' 48.0 22.0]\n",
      " [19 'Delilah' 'Sims' 'Accounting' 27.0 nan]\n",
      " [14 'Martena' 'Harrell' 'Accounting' 22.0 2.0]\n",
      " [23 'Quentin' 'Henry' nan 24.0 nan]\n",
      " [11 'Mallory' 'Walker' 'Accounting' 26.0 5.0]\n",
      " [59 'Nayda' 'Baldwin' 'Accounting' 46.0 22.0]\n",
      " [72 'Quentin' 'Oconnor' 'Customer Relations' 46.0 24.0]\n",
      " [65 'Walker' 'Skinner' 'Sales and Marketing' 49.0 22.0]\n",
      " [4 'Christian' 'Farley' 'Customer Relations' 22.0 1.0]\n",
      " [41 'Clarke' 'Melton' 'Customer Relations' nan 8.0]\n",
      " [35 'Nolan' 'Franco' nan nan 15.0]\n",
      " [28 'Hermione' 'Mccormick' nan 35.0 10.0]\n",
      " [53 'Madison' 'Barton' 'Customer Relations' 44.0 17.0]\n",
      " [8 'Zena' 'Melendez' 'Customer Relations' 29.0 2.0]\n",
      " [49 'Yasir' 'Leonard' 'Customer Relations' nan 12.0]\n",
      " [62 'Haviva' 'Clements' 'Sales and Marketing' 44.0 19.0]\n",
      " [94 'James' 'Davidson' 'Accounting' 48.0 21.0]\n",
      " [100 'Avye' 'Davidson' 'Accounting' 44.0 21.0]\n",
      " [40 'Connor' 'Cross' 'Sales and Marketing' nan 9.0]\n",
      " [3 'John' 'Bryant' 'Customer Relations' 22.0 1.0]\n",
      " [68 'Kennan' 'Booth' 'Customer Relations' 47.0 23.0]\n",
      " [56 'Candice' 'Myers' 'Sales and Marketing' 47.0 19.0]\n",
      " [50 'Heidi' 'Everett' 'Customer Relations' nan 15.0]\n",
      " [69 'Melyssa' 'Chase' 'Customer Relations' 50.0 22.0]\n",
      " [81 'Yuri' 'Leonard' 'Accounting' 45.0 21.0]\n",
      " [37 'Germaine' 'Gibbs' nan nan 10.0]\n",
      " [79 'Damian' 'Wall' 'Sales and Marketing' 42.0 24.0]\n",
      " [97 'Urielle' 'Herrera' 'Sales and Marketing' 46.0 20.0]\n",
      " [26 'Jorden' 'Dudley' nan 33.0 13.0]\n",
      " [47 'Desiree' 'Nolan' 'Sales and Marketing' nan 10.0]\n",
      " [33 'Harper' 'Oneill' nan nan 9.0]\n",
      " [74 'Genevieve' 'Pope' 'Sales and Marketing' 45.0 22.0]\n",
      " [48 'Charde' 'Guzman' 'Customer Relations' nan 8.0]\n",
      " [87 'Luke' 'Gonzalez' 'Sales and Marketing' 44.0 21.0]\n",
      " [58 'Adena' 'Strickland' 'Customer Relations' 48.0 25.0]\n",
      " [84 'Miranda' 'Holland' 'Sales and Marketing' 47.0 20.0]\n",
      " [18 'April' 'Bonner' 'Accounting' 25.0 nan]\n",
      " [93 'Hilda' 'Cannon' 'Sales and Marketing' 41.0 17.0]\n",
      " [67 'Marny' 'Henderson' 'Sales and Marketing' 48.0 16.0]]\n",
      "[[9 'Tucker' 'Michael' 'Sales and Marketing' 29.0 5.0]\n",
      " [71 'Nora' 'Gaines' 'Accounting' 48.0 19.0]\n",
      " [83 'Alexis' 'Nash' 'Accounting' 46.0 18.0]\n",
      " [29 'Drake' 'Holland' nan 33.0 12.0]\n",
      " [64 'Eaton' 'Carter' 'Customer Relations' 44.0 18.0]\n",
      " [1 'Joy' 'Bass' 'Sales and Marketing' 28.0 3.0]\n",
      " [6 'Elijah' 'Matthews' 'Accounting' 26.0 5.0]\n",
      " [51 'Violet' 'Rosales' 'Sales and Marketing' 38.0 14.0]\n",
      " [82 'Xanthus' 'Oneil' 'Customer Relations' 43.0 16.0]\n",
      " [5 'Colorado' 'Bowen' 'Accounting' 27.0 0.0]\n",
      " [24 'Otto' 'Middleton' nan 27.0 nan]\n",
      " [66 'Deirdre' 'Jackson' 'Accounting' 44.0 17.0]\n",
      " [77 'Quynn' 'Robertson' 'Sales and Marketing' 49.0 19.0]\n",
      " [61 'Giacomo' 'Griffith' 'Accounting' 42.0 21.0]\n",
      " [25 'Courtney' 'Jennings' nan 22.0 nan]\n",
      " [43 'Leandra' 'Barton' 'Accounting' nan 9.0]\n",
      " [78 'Mohammad' 'Mcmillan' 'Sales and Marketing' 41.0 22.0]\n",
      " [39 'Paloma' 'Jones' 'Sales and Marketing' nan 13.0]\n",
      " [57 'Tashya' 'Clay' 'Accounting' 43.0 25.0]\n",
      " [76 'Hayden' 'Burton' 'Sales and Marketing' 41.0 23.0]\n",
      " [36 'Caleb' 'Daugherty' nan nan 11.0]\n",
      " [89 'Nevada' 'Boyer' 'Accounting' 44.0 21.0]\n",
      " [20 'Kai' 'Moses' nan 25.0 nan]\n",
      " [30 'Brenden' 'Whitley' nan 30.0 14.0]\n",
      " [32 'Daniel' 'Rutledge' nan 39.0 12.0]]\n",
      "[98180 83300 11891 94310 51715 18632 89875 50013 90802 96432 82283 79077\n",
      " 83847 76528 29110 14943 87654 58362 86261 15944 88833 23549 79898 11830\n",
      " 81615 13266 57902 94704 60164 34117 89158 53867 64418 85286 50462 44065\n",
      " 97990 29886 33435 38183 34687 90798 77330 89258 19018 65939 50118 54233\n",
      " 89493 16099 71607 84881 79509 91645 62983 40343 76708 84306 61222 95222\n",
      " 84708 53828 85336 81187 51228 66528 72055 90930 57278 94778 76904 91795\n",
      " 16631 84185 91870]\n",
      "[42105 86277 93206 70010 83524 32889 15387 68388 88381 24795 43093 75431\n",
      " 92365 78332 26573 54250 93854 63391 77452 95908 72318 97056 30464 74683\n",
      " 60117]\n"
     ]
    }
   ],
   "source": [
    "print(x_train)\n",
    "print(x_test)\n",
    "print(y_train)\n",
    "print(y_test)"
   ]
  },
  {
   "cell_type": "code",
   "execution_count": 133,
   "metadata": {},
   "outputs": [
    {
     "name": "stdout",
     "output_type": "stream",
     "text": [
      "(75, 6)\n",
      "(25, 6)\n",
      "(75,)\n",
      "(25,)\n"
     ]
    }
   ],
   "source": [
    "print(x_train.shape)\n",
    "print(x_test.shape)\n",
    "print(y_train.shape)\n",
    "print(y_test.shape)"
   ]
  },
  {
   "cell_type": "code",
   "execution_count": 138,
   "metadata": {},
   "outputs": [
    {
     "data": {
      "text/plain": [
       "Employee Id     0\n",
       "First Name      0\n",
       "Last Name       0\n",
       "Department      0\n",
       "Age            18\n",
       "Experience     10\n",
       "Salary          0\n",
       "dtype: int64"
      ]
     },
     "execution_count": 138,
     "metadata": {},
     "output_type": "execute_result"
    }
   ],
   "source": [
    "dataset.isnull().sum()"
   ]
  },
  {
   "cell_type": "code",
   "execution_count": 135,
   "metadata": {},
   "outputs": [
    {
     "data": {
      "text/plain": [
       "Department\n",
       "Accounting             27\n",
       "Customer Relations     24\n",
       "Sales and Marketing    30\n",
       "dtype: int64"
      ]
     },
     "execution_count": 135,
     "metadata": {},
     "output_type": "execute_result"
    }
   ],
   "source": [
    "dataset.groupby('Department').size()"
   ]
  },
  {
   "cell_type": "code",
   "execution_count": 136,
   "metadata": {},
   "outputs": [],
   "source": [
    "dataset['Department']=dataset['Department'].fillna('Sales and Marketing')"
   ]
  },
  {
   "cell_type": "code",
   "execution_count": 137,
   "metadata": {},
   "outputs": [
    {
     "data": {
      "text/plain": [
       "Department\n",
       "Accounting             27\n",
       "Customer Relations     24\n",
       "Sales and Marketing    49\n",
       "dtype: int64"
      ]
     },
     "execution_count": 137,
     "metadata": {},
     "output_type": "execute_result"
    }
   ],
   "source": [
    "dataset.groupby('Department').size()"
   ]
  },
  {
   "cell_type": "code",
   "execution_count": null,
   "metadata": {},
   "outputs": [],
   "source": []
  }
 ],
 "metadata": {
  "kernelspec": {
   "display_name": "Python 3",
   "language": "python",
   "name": "python3"
  },
  "language_info": {
   "codemirror_mode": {
    "name": "ipython",
    "version": 3
   },
   "file_extension": ".py",
   "mimetype": "text/x-python",
   "name": "python",
   "nbconvert_exporter": "python",
   "pygments_lexer": "ipython3",
   "version": "3.8.5"
  }
 },
 "nbformat": 4,
 "nbformat_minor": 4
}
